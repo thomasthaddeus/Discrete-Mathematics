{
 "cells": [
  {
   "cell_type": "markdown",
   "metadata": {},
   "source": [
    "# 40.7 LAB: All permutations of names\n",
    "\n",
    "1. Write a program that lists all ways people can line up for a photo (all permutations of a list of strings).\n",
    "2. The program will read a list of one word names,\n",
    "   1. then use a recursive method to create and output all possible orderings of those names,\n",
    "   2. one ordering per line.\n",
    "\n",
    "- When the input is:\n",
    "  - Julia Lucas Mia\n",
    "- then the output is (must match the below ordering):\n",
    "  - Julia Lucas Mia\n",
    "  - Julia Mia Lucas\n",
    "  - Lucas Julia Mia\n",
    "  - Lucas Mia Julia\n",
    "  - Mia Julia Lucas\n",
    "  - Mia Lucas Julia\n"
   ]
  },
  {
   "cell_type": "code",
   "execution_count": 10,
   "metadata": {},
   "outputs": [
    {
     "name": "stdout",
     "output_type": "stream",
     "text": [
      "Julia Lucas Mia \n",
      "Julia Mia Lucas \n",
      "Lucas Julia Mia \n",
      "Lucas Mia Julia \n",
      "Mia Julia Lucas \n",
      "Mia Lucas Julia \n"
     ]
    }
   ],
   "source": [
    "def all_permutations(name_list):\n",
    "    \"\"\"Program that lists all ways people can line up for a photo\"\"\"\n",
    "    if len(name_list) == 0:\n",
    "        return []\n",
    "    elif len(name_list) == 1:\n",
    "        return[name_list]\n",
    "\n",
    "    perm_list = []\n",
    "    for i in range(len(name_list)):\n",
    "        lst = name_list[:i] + name_list[i + 1:]\n",
    "        for h in all_permutations(lst):\n",
    "            perm_list.append(name_list[i:i + 1] + h)\n",
    "    return perm_list\n",
    "\n",
    "\n",
    "if __name__ == \"__main__\":\n",
    "    name_list = input().split(\" \")\n",
    "    for x in all_permutations(name_list):\n",
    "        x.append('')\n",
    "        print(*x)\n"
   ]
  },
  {
   "cell_type": "markdown",
   "metadata": {},
   "source": [
    "# 40.8.1 LAB: Number pattern.\n",
    "\n",
    "__NOTE:__ For this lab, do not end output with a newline.\n",
    "\n",
    "Ex. If the input is: 12 3\n",
    "the output is: 12 9 6 3 0 3 6 9 12\n",
    "\n",
    "\n"
   ]
  },
  {
   "cell_type": "code",
   "execution_count": 2,
   "metadata": {},
   "outputs": [
    {
     "name": "stdout",
     "output_type": "stream",
     "text": [
      "12 9 6 3 0 3 6 9 12 "
     ]
    }
   ],
   "source": [
    "def print_num_pattern(my_var1, my_var2):\n",
    "    \"\"\"Print the number pattern. \n",
    "    Type: Integer\n",
    "    First Variable: Whats being iterated\n",
    "    Second Variable: Iterator\"\"\"\n",
    "    if my_var1 > 0:\n",
    "        print(my_var1, end=' ')\n",
    "        print_num_pattern(my_var1 - my_var2, my_var2)\n",
    "        print(my_var1, end=' ')\n",
    "\n",
    "    elif my_var1 <= 0:\n",
    "        print(my_var1, end=' ')\n",
    "        return\n",
    "\n",
    "\n",
    "if __name__ == \"__main__\":\n",
    "    num1 = int(input())\n",
    "    num2 = int(input())\n",
    "    print_num_pattern(num1, num2)\n"
   ]
  }
 ],
 "metadata": {
  "interpreter": {
   "hash": "26de051ba29f2982a8de78e945f0abaf191376122a1563185a90213a26c5da77"
  },
  "kernelspec": {
   "display_name": "Python 3.10.4 64-bit",
   "language": "python",
   "name": "python3"
  },
  "language_info": {
   "codemirror_mode": {
    "name": "ipython",
    "version": 3
   },
   "file_extension": ".py",
   "mimetype": "text/x-python",
   "name": "python",
   "nbconvert_exporter": "python",
   "pygments_lexer": "ipython3",
   "version": "3.10.5"
  },
  "orig_nbformat": 4
 },
 "nbformat": 4,
 "nbformat_minor": 2
}
