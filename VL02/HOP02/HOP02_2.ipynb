{
 "cells": [
  {
   "cell_type": "markdown",
   "metadata": {},
   "source": [
    "\n",
    "zyDE 6.4.1: Energy to mass conversion.\n",
    "\n",
    "Albert Einstein's equation E = mc2 is likely the most widely known mathematical formula. The equation describes the mass-energy equivalence, which states that the mass (amount of matter) m of a body is directly related to the amount of energy E of the body, connected via a constant value c2, the speed of light squared. The significance of the equation is that matter can be converted to energy, (and theoretically, energy back to matter). The mass-energy equivalence equation can be used to calculate the energy released in nuclear reactions, such as nuclear fission or nuclear fusion, which form the basis of modern technologies like nuclear weapons and nuclear power plants.\n",
    "\n",
    "The following program reads in a mass in kilograms and prints the amount of energy stored in the mass. Also printed is the equivalent numbers of AA batteries and tons of TNT.\n",
    " \n",
    "Program executed\n",
    "\n",
    "Total energy released: 8987551787368176.0 Joules\n",
    "Which is as much energy as:\n",
    "   2080211037465.149 AA batteries\n",
    "   2148076.4310153383 tons of TNT\n"
   ]
  },
  {
   "cell_type": "code",
   "execution_count": 1,
   "metadata": {},
   "outputs": [
    {
     "name": "stdout",
     "output_type": "stream",
     "text": [
      "Total energy released: 1.4033315609923949e+25 Joules\n",
      "Which is as much energy as:\n",
      "   3.2480767526730586e+21 AA batteries\n",
      "   3354042927802091.0 tons of TNT\n"
     ]
    }
   ],
   "source": [
    "c_meters_per_sec = 299792458  # Speed of light (m/s)\n",
    "joules_per_AA_battery = 4320.5  # Nickel-Cadmium AA batteries\n",
    "joules_per_TNT_ton = 4.184e9\n",
    "\n",
    "#Read in a floating-point number from the user\n",
    "mass_kg = float(input())\n",
    "\n",
    "#Compute E = mc2.\n",
    "energy_joules = mass_kg * (c_meters_per_sec**2)  # E = mc^2\n",
    "print('Total energy released:', energy_joules, 'Joules')\n",
    "\n",
    "#Calculate equivalent number of AA and tons of TNT.\n",
    "num_AA_batteries = energy_joules / joules_per_AA_battery\n",
    "num_TNT_tons = energy_joules / joules_per_TNT_ton\n",
    "\n",
    "print('Which is as much energy as:')\n",
    "print('  ', num_AA_batteries, 'AA batteries')\n",
    "print('  ', num_TNT_tons, 'tons of TNT')\n"
   ]
  },
  {
   "cell_type": "markdown",
   "metadata": {},
   "source": [
    " challenge activity\n",
    "6.4.1: Gallons of paint needed to paint walls. "
   ]
  },
  {
   "cell_type": "markdown",
   "metadata": {},
   "source": [
    "Finish the program to compute how many gallons of paint are needed to cover the given square feet of walls.\n",
    "- Assume 1 gallon can cover 350.0 square feet. \n",
    "- So gallons = the square feet divided by 350.0. \n",
    "- If the input is 250.0, the output should be:\n",
    "\n",
    "__*0.714285714286*__\n",
    "\n",
    "Note: Do not format the output.\n"
   ]
  },
  {
   "cell_type": "code",
   "execution_count": 3,
   "metadata": {},
   "outputs": [
    {
     "name": "stdout",
     "output_type": "stream",
     "text": [
      "0.7142857142857143\n"
     ]
    }
   ],
   "source": [
    "wall_area = float(input())\n",
    "\n",
    "# Assign gallons_paint below\n",
    "gallon = 350.0\n",
    "''' Your solution goes here '''\n",
    "gallons_paint = wall_area/gallon\n",
    "print(gallons_paint)\n"
   ]
  }
 ],
 "metadata": {
  "interpreter": {
   "hash": "b89b5cfaba6639976dc87ff2fec6d58faec662063367e2c229c520fe71072417"
  },
  "kernelspec": {
   "display_name": "Python 3.10.4 64-bit",
   "language": "python",
   "name": "python3"
  },
  "language_info": {
   "codemirror_mode": {
    "name": "ipython",
    "version": 3
   },
   "file_extension": ".py",
   "mimetype": "text/x-python",
   "name": "python",
   "nbconvert_exporter": "python",
   "pygments_lexer": "ipython3",
   "version": "3.10.4"
  },
  "orig_nbformat": 4
 },
 "nbformat": 4,
 "nbformat_minor": 2
}
