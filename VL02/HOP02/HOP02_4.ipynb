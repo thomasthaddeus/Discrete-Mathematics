{
 "cells": [
  {
   "cell_type": "markdown",
   "metadata": {},
   "source": [
    " challenge activity\n",
    "6.7.2: Compute change. "
   ]
  },
  {
   "cell_type": "markdown",
   "metadata": {},
   "source": [
    "A cashier distributes change using the maximum number of five-dollar bills, followed by one-dollar bills.<br>\n",
    "Write a single statement that assigns num_ones with the number of distributed one-dollar bills given amount_to_change. Hint: Use %.\n",
    "\n",
    "Sample output with input: 19\n",
    "\n",
    "---\n",
    "\n",
    "Change for $ 19 <br>\n",
    "3 five dollar bill(s) and 4 one dollar bill(s)"
   ]
  },
  {
   "cell_type": "code",
   "execution_count": 2,
   "metadata": {},
   "outputs": [
    {
     "name": "stdout",
     "output_type": "stream",
     "text": [
      "Change for $ 17\n",
      "3 five dollar bill(s) and 2 one dollar bill(s)\n"
     ]
    }
   ],
   "source": [
    "amount_to_change = int(input())\n",
    "\n",
    "num_fives = amount_to_change // 5\n",
    "\n",
    "''' Your solution goes here '''\n",
    "num_ones = amount_to_change % 5\n",
    "print('Change for $', amount_to_change)\n",
    "print(num_fives, 'five dollar bill(s) and', num_ones, 'one dollar bill(s)')\n"
   ]
  }
 ],
 "metadata": {
  "interpreter": {
   "hash": "b89b5cfaba6639976dc87ff2fec6d58faec662063367e2c229c520fe71072417"
  },
  "kernelspec": {
   "display_name": "Python 3.10.4 64-bit",
   "language": "python",
   "name": "python3"
  },
  "language_info": {
   "codemirror_mode": {
    "name": "ipython",
    "version": 3
   },
   "file_extension": ".py",
   "mimetype": "text/x-python",
   "name": "python",
   "nbconvert_exporter": "python",
   "pygments_lexer": "ipython3",
   "version": "3.10.4"
  },
  "orig_nbformat": 4
 },
 "nbformat": 4,
 "nbformat_minor": 2
}
