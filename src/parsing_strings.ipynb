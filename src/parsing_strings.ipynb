{
 "cells": [
  {
   "cell_type": "markdown",
   "metadata": {},
   "source": [
    "# 18.8 LAB: Warm up: Parsing strings\n",
    "\n",
    "- Prompt the user for a string that contains two strings separated by a comma. *(1 pt)*\n"
   ]
  },
  {
   "cell_type": "markdown",
   "metadata": {},
   "source": [
    "<pre>\n",
    "    Examples of strings that can be accepted:\n",
    "        Jill, Allen\n",
    "        Jill , Allen\n",
    "        Jill,Allen\n",
    "    Ex:\n",
    "\n",
    "    Enter input string:\n",
    "    Jill, Allen\n",
    "</pre>"
   ]
  },
  {
   "cell_type": "code",
   "execution_count": null,
   "metadata": {},
   "outputs": [],
   "source": [
    "two_name = input(\"Enter input string:\\n\")\n",
    "comma = ','\n",
    "if comma not in two_name:\n",
    "    print(\"Error input\")"
   ]
  },
  {
   "cell_type": "markdown",
   "metadata": {},
   "source": [
    "### (2) Report an error if the input string does not contain a comma. Continue to prompt until a valid string is entered.\n",
    "__Note:__ If the input contains a comma, then assume that the input also contains two strings. *(2 pts)*\n",
    "<pre>\n",
    "Ex:\n",
    "    Enter input string:\n",
    "    Jill Allen\n",
    "    Error: No comma in string.\n",
    "\n",
    "    Enter input string: Jill, Allen\n",
    "</pre>"
   ]
  },
  {
   "cell_type": "code",
   "execution_count": null,
   "metadata": {},
   "outputs": [],
   "source": [
    "two_name = input(\"Enter input string:\\n\")\n",
    "comma = ','\n",
    "if comma not in two_name:\n",
    "    print(\"Error: No comma in string.\")"
   ]
  },
  {
   "cell_type": "markdown",
   "metadata": {},
   "source": [
    "### (3) Using string splitting, extract the two words from the input string and then remove any spaces.\n",
    "- Output the two words. *(2 pts)*\n"
   ]
  },
  {
   "cell_type": "markdown",
   "metadata": {},
   "source": [
    "<pre>\n",
    "Ex:\n",
    "\n",
    "Enter input string:\n",
    "Jill, Allen\n",
    "First word: Jill\n",
    "Second word: Allen\n",
    "</pre>"
   ]
  },
  {
   "cell_type": "code",
   "execution_count": null,
   "metadata": {},
   "outputs": [],
   "source": [
    "two_name = input(\"Enter input string:\\n\")\n",
    "comma = ','\n",
    "if comma not in two_name:\n",
    "    print(\"Error: No comma in string.\\n\")\n",
    "    two_name\n",
    "names = []\n",
    "names.split(two_name)\n",
    "first_name = names[0]\n",
    "second_name = names[1]\n",
    "print(f'First word: {first_name}')\n",
    "print(f'First word: {second_name}\\n')\n"
   ]
  },
  {
   "cell_type": "markdown",
   "metadata": {},
   "source": [
    "### (4) Using a loop, extend the program to handle multiple lines of input. Continue until the user enters q to quit. *(2 pts)*\n"
   ]
  },
  {
   "cell_type": "markdown",
   "metadata": {},
   "source": [
    "Ex:\n",
    "---\n",
    "<pre>\n",
    "Enter input string:\n",
    "Jill, Allen\n",
    "First word: Jill\n",
    "Second word: Allen\n",
    "\n",
    "Enter input string:\n",
    "Golden , Monkey\n",
    "First word: Golden\n",
    "Second word: Monkey\n",
    "\n",
    "Enter input string:\n",
    "Washington,DC\n",
    "First word: Washington\n",
    "Second word: DC\n",
    "\n",
    "Enter input string:\n",
    "q\n",
    "</pre>"
   ]
  },
  {
   "cell_type": "code",
   "execution_count": 2,
   "metadata": {},
   "outputs": [
    {
     "ename": "TypeError",
     "evalue": "sort() takes no positional arguments",
     "output_type": "error",
     "traceback": [
      "\u001b[1;31m---------------------------------------------------------------------------\u001b[0m",
      "\u001b[1;31mTypeError\u001b[0m                                 Traceback (most recent call last)",
      "\u001b[1;32mUntitled-1.ipynb Cell 11'\u001b[0m in \u001b[0;36m<cell line: 6>\u001b[1;34m()\u001b[0m\n\u001b[0;32m      <a href='vscode-notebook-cell:Untitled-1.ipynb?jupyter-notebook#ch0000000untitled?line=7'>8</a>\u001b[0m     \u001b[39mprint\u001b[39m(\u001b[39m\"\u001b[39m\u001b[39mError: No comma in string.\u001b[39m\u001b[39m\\n\u001b[39;00m\u001b[39m\"\u001b[39m)\n\u001b[0;32m      <a href='vscode-notebook-cell:Untitled-1.ipynb?jupyter-notebook#ch0000000untitled?line=8'>9</a>\u001b[0m     two_name\n\u001b[1;32m---> <a href='vscode-notebook-cell:Untitled-1.ipynb?jupyter-notebook#ch0000000untitled?line=9'>10</a>\u001b[0m names\u001b[39m.\u001b[39;49msort(two_name)\n\u001b[0;32m     <a href='vscode-notebook-cell:Untitled-1.ipynb?jupyter-notebook#ch0000000untitled?line=10'>11</a>\u001b[0m first_name \u001b[39m=\u001b[39m names[\u001b[39m0\u001b[39m]\n\u001b[0;32m     <a href='vscode-notebook-cell:Untitled-1.ipynb?jupyter-notebook#ch0000000untitled?line=11'>12</a>\u001b[0m second_name \u001b[39m=\u001b[39m names[\u001b[39m1\u001b[39m]\n",
      "\u001b[1;31mTypeError\u001b[0m: sort() takes no positional arguments"
     ]
    }
   ],
   "source": [
    "comma = ','\n",
    "names = []\n",
    "quit = 'q'\n",
    "two_name = input(\"Enter input string:\\n\")\n",
    "\n",
    "while two_name != quit:\n",
    "    if comma not in two_name:\n",
    "        print(\"Error: No comma in string.\\n\")\n",
    "        two_name\n",
    "    names.sort(two_name)\n",
    "    first_name = names[0]\n",
    "    second_name = names[1]\n",
    "    print(f'First word: {first_name}')\n",
    "    print(f'First word: {second_name}\\n')\n"
   ]
  }
 ],
 "metadata": {
  "interpreter": {
   "hash": "26de051ba29f2982a8de78e945f0abaf191376122a1563185a90213a26c5da77"
  },
  "kernelspec": {
   "display_name": "Python 3.10.4 64-bit",
   "language": "python",
   "name": "python3"
  },
  "language_info": {
   "codemirror_mode": {
    "name": "ipython",
    "version": 3
   },
   "file_extension": ".py",
   "mimetype": "text/x-python",
   "name": "python",
   "nbconvert_exporter": "python",
   "pygments_lexer": "ipython3",
   "version": "3.10.4"
  },
  "orig_nbformat": 4
 },
 "nbformat": 4,
 "nbformat_minor": 2
}
