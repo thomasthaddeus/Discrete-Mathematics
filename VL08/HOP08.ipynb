{
 "cells": [
  {
   "cell_type": "markdown",
   "metadata": {},
   "source": [
    "\n",
    "# Question 1\n",
    "#===========================================\n"
   ]
  },
  {
   "cell_type": "code",
   "execution_count": null,
   "metadata": {},
   "outputs": [],
   "source": [
    "airport_codes = {\n",
    "    'Washington': 'IAD',\n",
    "    'Minneapolis': 'MSP',\n",
    "    'New York': 'JFK',\n",
    "    'Paris': 'CDG',\n",
    "    'Amsterdam': 'AMS'\n",
    "}\n",
    "\n",
    "print(airport_codes.get('Seattle', 'na'))\n",
    "print(airport_codes.get('New York', 'na'))\n",
    "print(airport_codes.get('San Francisco', 'na'))"
   ]
  },
  {
   "cell_type": "markdown",
   "metadata": {},
   "source": [
    "\n",
    "# Question 2\n",
    "#===========================================\n"
   ]
  },
  {
   "cell_type": "code",
   "execution_count": null,
   "metadata": {},
   "outputs": [],
   "source": [
    "airport_codes = {\n",
    "    'Amsterdam': 'AMS',\n",
    "    'Chicago': 'ORD',\n",
    "    'London': 'LHR',\n",
    "    'Atlanta': 'ATL',\n",
    "    'Dallas': 'DAL'\n",
    "}\n",
    "\n",
    "print(airport_codes.get('Amsterdam', 'na'))\n",
    "print(airport_codes.pop('Amsterdam', 'na'))\n",
    "print(airport_codes.get('Amsterdam', 'na'))\n"
   ]
  },
  {
   "cell_type": "markdown",
   "metadata": {},
   "source": [
    "\n",
    "# Question 3\n",
    "#===========================================\n"
   ]
  },
  {
   "cell_type": "code",
   "execution_count": 1,
   "metadata": {},
   "outputs": [
    {
     "name": "stdout",
     "output_type": "stream",
     "text": [
      "na\n",
      "na\n",
      "IAH\n",
      "na\n",
      "ATL\n",
      "IAH\n"
     ]
    }
   ],
   "source": [
    "airport_codes = {\n",
    "    'London': 'LHR',\n",
    "    'Houston': 'IAH',\n",
    "    'New York': 'JFK',\n",
    "    'Tokyo': 'NRT',\n",
    "    'Vancouver': 'YVR'\n",
    "}\n",
    "\n",
    "new_airport_codes = {\n",
    "    'Atlanta': 'ATL',\n",
    "    'Dallas': 'DAL',\n",
    "    'Los Angeles': 'LAX'\n",
    "}\n",
    "\n",
    "print(airport_codes.get('San Jose', 'na'))\n",
    "print(airport_codes.get('Atlanta', 'na'))\n",
    "print(airport_codes.get('Houston', 'na'))\n",
    "airport_codes.update(new_airport_codes)\n",
    "print(airport_codes.get('San Jose', 'na'))\n",
    "print(airport_codes.get('Atlanta', 'na'))\n",
    "print(airport_codes.get('Houston', 'na'))\n"
   ]
  },
  {
   "cell_type": "markdown",
   "metadata": {},
   "source": [
    "# Question 4\n",
    "#===========================================\n"
   ]
  },
  {
   "cell_type": "code",
   "execution_count": null,
   "metadata": {},
   "outputs": [],
   "source": [
    "airport_codes = {\n",
    "    'London': 'LHR',\n",
    "    'Houston': 'IAH',\n",
    "    'New York': 'JFK',\n",
    "    'Tokyo': 'NRT',\n",
    "    'Vancouver': 'YVR'\n",
    "}\n",
    "\n",
    "new_airport_codes = {\n",
    "    'Atlanta': 'ATL',\n",
    "    'Dallas': 'DAL',\n",
    "    'Los Angeles': 'LAX'\n",
    "}\n",
    "\n",
    "print(airport_codes.get('San Jose', 'na'))\n",
    "print(airport_codes.get('Atlanta', 'na'))\n",
    "print(airport_codes.get('Houston', 'na'))\n",
    "airport_codes.update(new_airport_codes)\n",
    "print(airport_codes.get('San Jose', 'na'))\n",
    "print(airport_codes.get('Atlanta', 'na'))\n",
    "print(airport_codes.get('Houston', 'na'))\n"
   ]
  }
 ],
 "metadata": {
  "interpreter": {
   "hash": "26de051ba29f2982a8de78e945f0abaf191376122a1563185a90213a26c5da77"
  },
  "kernelspec": {
   "display_name": "Python 3.10.4 64-bit",
   "language": "python",
   "name": "python3"
  },
  "language_info": {
   "codemirror_mode": {
    "name": "ipython",
    "version": 3
   },
   "file_extension": ".py",
   "mimetype": "text/x-python",
   "name": "python",
   "nbconvert_exporter": "python",
   "pygments_lexer": "ipython3",
   "version": "3.10.4"
  },
  "orig_nbformat": 4
 },
 "nbformat": 4,
 "nbformat_minor": 2
}
