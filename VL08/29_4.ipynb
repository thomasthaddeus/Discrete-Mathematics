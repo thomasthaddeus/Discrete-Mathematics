{
 "cells": [
  {
   "cell_type": "markdown",
   "metadata": {},
   "source": [
    "# 29.4 Dictionary nesting\n",
    "\n",
    "A dictionary may contain one or more nested dictionaries, in which the dictionary contains another dictionary as a value. Consider the following code:\n"
   ]
  },
  {
   "cell_type": "code",
   "execution_count": null,
   "metadata": {},
   "outputs": [],
   "source": [
    "### Figure 29.4.1: Nested dictionaries.\n",
    "\n",
    "students = {}\n",
    "students ['Jose'] = {'Grade': 'A+', 'StudentID': 22321}\n",
    "\n",
    "print('Jose:')\n",
    "\n",
    "print(f' Grade: {students [\"Jose\"][\"Grade\"]}')\n",
    "\n",
    "print(f' ID: {students[\"Jose\"][\"StudentID\"]}')\n",
    "# <!-- Jose:\n",
    "#  Grade: A+\n",
    "#  ID: 22321 -->\n"
   ]
  },
  {
   "cell_type": "markdown",
   "metadata": {},
   "source": [
    "\n",
    "The variable students is first created as an empty dictionary. An indexing operation creates a new entry in students with the key 'Jose' and the value of another dictionary. Indexing operations can be applied to the nested dictionary by using consecutive sets of brackets []: The expression students['Jose']['Grade'] first obtains the value of the key 'Jose' from students, yielding the nested dictionary. The second set of brackets indexes into the nested dictionary, retrieving the value of the key 'Grade'.\n",
    "\n",
    "Nested dictionaries also serve as a simple but powerful data structure. A data structure is a method of organizing data in a logical and coherent fashion. Actually, container objects like lists and dicts are already a form of a data structure, but nesting such containers provides a programmer with much more flexibility in the way that the data can be organized. Consider the simple example below that implements a gradebook using nested dictionaries to organize students and grades.\n"
   ]
  },
  {
   "cell_type": "code",
   "execution_count": null,
   "metadata": {},
   "outputs": [],
   "source": [
    "\"\"\"Figure 29.4.2: Nested dictionaries example: Storing grades.\"\"\"\n",
    "\n",
    "grades = {\n",
    "    'John Ponting': {\n",
    "        'Homeworks': [79, 80, 74],\n",
    "        'Midterm': 85,\n",
    "        'Final': 92\n",
    "    },\n",
    "    'Jacques Kallis': {\n",
    "        'Homeworks': [90, 92, 65],\n",
    "        'Midterm': 87,\n",
    "        'Final': 75\n",
    "    },\n",
    "    'Ricky Bobby': {\n",
    "        'Homeworks': [50, 52, 78],\n",
    "        'Midterm': 40,\n",
    "        'Final': 65\n",
    "    },\n",
    "}\n",
    "\n",
    "user_input = input('Enter student name: ')\n",
    "\n",
    "while user_input != 'exit':\n",
    "    if user_input in grades:\n",
    "        # Get values from nested dict\n",
    "        homeworks = grades[user_input]['Homeworks']\n",
    "        midterm = grades[user_input]['Midterm']\n",
    "        final = grades[user_input]['Final']\n",
    "\n",
    "        # print info\n",
    "        for hw, score in enumerate(homeworks):\n",
    "            \n",
    "            print(f'Homework {hw}: {score}')\n",
    "\n",
    "        \n",
    "        print(f'Midterm: {midterm}')\n",
    "        \n",
    "        print(f'Final: {final}')\n",
    "\n",
    "        # Compute student total score\n",
    "        total_points = sum([i for i in homeworks]) + midterm + final\n",
    "        \n",
    "        print(f'Final percentage: {100*(total_points / 500.0):.1f}%')\n",
    "\n",
    "    user_input = input('Enter student name: ')\n"
   ]
  },
  {
   "cell_type": "code",
   "execution_count": null,
   "metadata": {},
   "outputs": [],
   "source": [
    "\t\n",
    "''' \n",
    "Enter student name: Ricky Bobby\n",
    "Homework 0: 50\n",
    "Homework 1: 52\n",
    "Homework 2: 78\n",
    "Midterm: 40\n",
    "Final: 65\n",
    "Final percentage: 57.0%\n",
    "....\n",
    "Enter student name: John Ponting\n",
    "Homework 0: 79\n",
    "Homework 1: 80\n",
    "Homework 2: 74\n",
    "Midterm: 85\n",
    "Final: 92\n",
    "Final percentage: 82.0%\n",
    "'''\n"
   ]
  },
  {
   "cell_type": "markdown",
   "metadata": {},
   "source": [
    "\n",
    "Note the whitespace and indentation used to layout the nested dictionaries. Such layout improves the readability of the code and makes the hierarchy of the data structure obvious. The extra whitespace does not affect the dict elements, as the interpreter ignores indentation in a multi-line construct.\n",
    "\n",
    "A benefit of using nested dictionaries is that the code tends to be more readable, especially if the keys are a category like 'Homeworks'. Alternatives like nested lists tend to require more code, consisting of more loops constructs and variables.\n",
    "\n",
    "Dictionaries support arbitrary levels of nesting; Ex: The expression students['Jose']['Homeworks'][2]['Grade'] might be applied to a dictionary that has four levels of nesting.\n"
   ]
  },
  {
   "cell_type": "markdown",
   "metadata": {},
   "source": [
    "zyDE 29.4.1: Nested dictionaries example: Music library.\n",
    "===\n",
    "\n",
    "The following example demonstrates a program that uses 3 levels of nested dictionaries to create a simple music library.\n",
    "\n",
    "The following program uses nested dictionaries to store a small music library. Extend the program such that a user can add artists, albums, and songs to the library. First, add a command that adds an artist name to the music dictionary. Then add commands for adding albums and songs. Take care to check that an artist exists in the dictionary before adding an album, and that an album exists before adding a song.\n"
   ]
  },
  {
   "cell_type": "code",
   "execution_count": null,
   "metadata": {},
   "outputs": [],
   "source": [
    "music = {\n",
    "    'Pink Floyd': {\n",
    "        'The Dark Side of the Moon': {\n",
    "            'songs': [ 'Speak to Me', 'Breathe', 'On the Run', 'Money'],\n",
    "            'year': 1973,\n",
    "            'platinum': True\n",
    "        },\n",
    "        'The Wall': {\n",
    "            'songs': [ 'Another Brick in the Wall', 'Mother', 'Hey you'],\n",
    "            'year': 1979,\n",
    "            'platinum': True\n",
    "        }\n",
    "    },\n",
    "    'Justin Bieber': {\n",
    "        'My World':{\n",
    "            'songs': ['One Time', 'Bigger', 'Love Me'],\n",
    "            'year': 2010,\n",
    "            'platinum': True\n",
    "        }\n",
    "    }\n",
    "}\n",
    "\n",
    "# Get user input\n",
    "\n",
    "# While user input != 'exit'\n",
    "    # ....\n"
   ]
  }
 ],
 "metadata": {
  "language_info": {
   "name": "python"
  },
  "orig_nbformat": 4
 },
 "nbformat": 4,
 "nbformat_minor": 2
}
