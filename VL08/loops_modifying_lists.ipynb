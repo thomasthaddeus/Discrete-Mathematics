{
 "cells": [
  {
   "cell_type": "markdown",
   "metadata": {},
   "source": [
    "# 24.7.1: Iterating through a list using range()."
   ]
  },
  {
   "cell_type": "code",
   "execution_count": 1,
   "metadata": {},
   "outputs": [
    {
     "name": "stdout",
     "output_type": "stream",
     "text": [
      "1\n",
      "4\n",
      "7\n"
     ]
    }
   ],
   "source": [
    "user_values = [1, 4, 7]\n",
    "\n",
    "for i in range(len(user_values)):\n",
    "   print(user_values[i])"
   ]
  },
  {
   "cell_type": "code",
   "execution_count": 2,
   "metadata": {},
   "outputs": [
    {
     "name": "stdout",
     "output_type": "stream",
     "text": [
      "17\n"
     ]
    }
   ],
   "source": [
    "user_values = [2, 6, 9]\n",
    "sum_value = 0\n",
    "\n",
    "for pos in range(len(user_values)):\n",
    "  sum_value += user_values[pos]\n",
    "\n",
    "print(sum_value)"
   ]
  },
  {
   "cell_type": "code",
   "execution_count": 3,
   "metadata": {},
   "outputs": [
    {
     "name": "stdout",
     "output_type": "stream",
     "text": [
      "-1\n",
      "-7\n"
     ]
    }
   ],
   "source": [
    "user_values = [-1, 4, 5, -7]\n",
    "\n",
    "for n in range(len(user_values)):\n",
    "  if user_values[n] < 0:\n",
    "    print(user_values[n])"
   ]
  },
  {
   "cell_type": "code",
   "execution_count": 4,
   "metadata": {},
   "outputs": [
    {
     "name": "stdout",
     "output_type": "stream",
     "text": [
      "1\n",
      "3\n",
      "5\n",
      "8\n"
     ]
    }
   ],
   "source": [
    "user_values = [-1, 3, -5, 8]\n",
    "\n",
    "for pos in range(len(user_values)):\n",
    "  if user_values[pos] < 0:\n",
    "    user_values[pos] = -1 * user_values[pos]\n",
    "  print(user_values[pos])"
   ]
  },
  {
   "cell_type": "code",
   "execution_count": 5,
   "metadata": {},
   "outputs": [
    {
     "name": "stdout",
     "output_type": "stream",
     "text": [
      "1\n",
      "5\n",
      "7\n"
     ]
    }
   ],
   "source": [
    "user_values = [1, 5, 7, 4]\n",
    "\n",
    "max_value = user_values[0];\n",
    "for pos in range(len(user_values)):\n",
    "  if user_values[pos] >= max_value:\n",
    "    max_value = user_values[pos]\n",
    "    print(max_value)"
   ]
  },
  {
   "cell_type": "markdown",
   "metadata": {},
   "source": [
    "\n",
    "zyDE 24.7.1: Modify the above program to work correctly.\n",
    "\n",
    "Modify the program (copied from above) using slice notation to iterate over a copy of the list.\n"
   ]
  },
  {
   "cell_type": "code",
   "execution_count": 6,
   "metadata": {},
   "outputs": [
    {
     "name": "stdout",
     "output_type": "stream",
     "text": [
      "0: 1\n",
      "1: 3\n",
      "2: 5\n",
      "3: 4\n",
      "4: 7\n",
      "5: 164\n",
      "\n",
      "0: 6514\n",
      "\n",
      "\n",
      "Numbers only in first set: 1 3 5 4 7 164 "
     ]
    }
   ],
   "source": [
    "\n",
    "nums1 = []\n",
    "nums2 = []\n",
    "\n",
    "user_input = input('Enter first set of numbers: ')\n",
    "tokens = user_input.split()  # Split into separate strings\n",
    "\n",
    "# Convert strings to integers\n",
    "for pos, val in enumerate(tokens):\n",
    "    nums1.append(int(val))\n",
    "    \n",
    "    print(f'{pos}: {val}')\n",
    "\n",
    "user_input = input('Enter second set of numbers:')\n",
    "tokens = user_input.split()\n",
    "\n",
    "# Convert strings to integers\n",
    "print()\n",
    "for pos, val in enumerate(tokens):\n",
    "    nums2.append(int(val))\n",
    "    \n",
    "    print(f'{pos}: {val}')\n",
    "    \n",
    "# Remove elements from nums1 if also in nums2\n",
    "print()\n",
    "for val in nums1:\n",
    "    if val in nums2:\n",
    "        \n",
    "        print(f'Deleting {val}')\n",
    "        nums1.remove(val)\n",
    "\n",
    "# Print new numbers\n",
    "print('\\nNumbers only in first set:', end=' ')\n",
    "for num in nums1:\n",
    "    print(num, end=' ')\n"
   ]
  },
  {
   "cell_type": "markdown",
   "metadata": {},
   "source": [
    "#### Changing list size\n",
    "\n",
    "> A common error is to add or remove a list element while iterating over that list. Such list modification can lead to unexpected behavior if the programmer is not careful. Ex: Consider the following program that reads in two sets of numbers and attempts to find numbers in the first set that are not in the second set.\n"
   ]
  },
  {
   "cell_type": "markdown",
   "metadata": {},
   "source": [
    "## Figure 24.7.3: Modifying lists while iterating: Incorrect program."
   ]
  },
  {
   "cell_type": "code",
   "execution_count": null,
   "metadata": {},
   "outputs": [],
   "source": [
    "nums1 = []\n",
    "nums2 = []\n",
    "\n",
    "user_input = input('Enter first set of numbers: ')\n",
    "tokens = user_input.split()  # Split into separate strings\n",
    "\n",
    "# Convert strings to integers\n",
    "print()\n",
    "for pos, val in enumerate(tokens):\n",
    "    nums1.append(int(val))\n",
    "    \n",
    "    print(f'{pos}: {val}')\n",
    "\n",
    "user_input = input('Enter second set of numbers:')\n",
    "tokens = user_input.split()\n",
    "\n",
    "# Convert strings to integers\n",
    "print()\n",
    "for pos, val in enumerate(tokens):\n",
    "    nums2.append(int(val))\n",
    "    \n",
    "    print(f'{pos}: {val}')\n",
    "    \n",
    "# Remove elements from nums1 if also in nums2\n",
    "print()\n",
    "for val in nums1:\n",
    "    if val in nums2:\n",
    "        \n",
    "        print(f'Deleting {val}')\n",
    "        nums1.remove(val)\n",
    "\n",
    "# Print new numbers\n",
    "print('\\nNumbers only in first set:', end=' ')\n",
    "for num in nums1:\n",
    "    print(num, end=' ')"
   ]
  },
  {
   "cell_type": "markdown",
   "metadata": {},
   "source": [
    "Enter first set of numbers:5 10 15 20\n",
    "0: 5\n",
    "1: 10\n",
    "2: 15\n",
    "3: 20\n",
    "Enter second set of numbers:15 20 25 30\n",
    "0: 15\n",
    "1: 20\n",
    "2: 25\n",
    "3: 30\n",
    "\n",
    "Deleting 15\n",
    "\n",
    "Numbers only in first set: 5 10 20"
   ]
  },
  {
   "cell_type": "markdown",
   "metadata": {},
   "source": [
    "\n",
    "\n",
    "The above example iterates over the list nums1, deleting an element from the list if the element is also found in the list nums2. The programmer expected a certain result, namely that after removing an element from the list, the next iteration of the loop would reference the next element as normal. However, removing the element shifts the position of each following element in the list to the left by one. In the example above, removing 15 from nums1 shifts the value 20 left into position 2. The loop, having just iterated over position 2 and removing 15, moves to the next position and finds the end of the list, thus never evaluating the final value 20.\n",
    "\n",
    "The problem illustrated by the example above has a simple fix: Iterate over a copy of the list instead of the actual list being modified. Copying the list allows a programmer to modify, swap, add, or delete elements without affecting the loop iterations. The easiest way to copy the iterating list is to use slice notation inside of the loop expression, as in:\n"
   ]
  },
  {
   "cell_type": "code",
   "execution_count": null,
   "metadata": {},
   "outputs": [],
   "source": [
    "# Figure 24.7.4: Copy a list using [:].\n",
    "\n",
    "for item in my_list[:]:\n",
    "    # Loop statements.\n",
    "\n"
   ]
  }
 ],
 "metadata": {
  "interpreter": {
   "hash": "26de051ba29f2982a8de78e945f0abaf191376122a1563185a90213a26c5da77"
  },
  "kernelspec": {
   "display_name": "Python 3.10.4 64-bit",
   "language": "python",
   "name": "python3"
  },
  "language_info": {
   "codemirror_mode": {
    "name": "ipython",
    "version": 3
   },
   "file_extension": ".py",
   "mimetype": "text/x-python",
   "name": "python",
   "nbconvert_exporter": "python",
   "pygments_lexer": "ipython3",
   "version": "3.10.4"
  },
  "orig_nbformat": 4
 },
 "nbformat": 4,
 "nbformat_minor": 2
}
