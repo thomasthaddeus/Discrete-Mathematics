{
 "cells": [
  {
   "cell_type": "markdown",
   "metadata": {},
   "source": [
    "### 29.3.1: Report country population.\n",
    "\n",
    "> Write a loop that prints each country's population in __country_pop.__\n",
    "\n",
    "Sample output with input:\n",
    "'China:1365830000,India:1247220000,United States:318463000,Indonesia:252164800':\n",
    "\n",
    "United States has 318463000 people.\n",
    "India has 1247220000 people.\n",
    "Indonesia has 252164800 people.\n",
    "China has 1365830000 people.\n",
    "\n"
   ]
  },
  {
   "cell_type": "code",
   "execution_count": null,
   "metadata": {},
   "outputs": [],
   "source": [
    "user_input = input()\n",
    "entries = user_input.split(',')\n",
    "country_pop = {}\n",
    "\n",
    "for pair in entries:\n",
    "    split_pair = pair.split(':')\n",
    "    country_pop[split_pair[0]] = split_pair[1]\n",
    "    # country_pop is a dictionary, Ex: { 'Germany':'82790000', 'France':'67190000' }\n",
    "\n",
    "\n",
    "    print(country, 'has', pop, 'people.')"
   ]
  }
 ],
 "metadata": {
  "language_info": {
   "name": "python"
  },
  "orig_nbformat": 4
 },
 "nbformat": 4,
 "nbformat_minor": 2
}
