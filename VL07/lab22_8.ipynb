{
 "cells": [
  {
   "cell_type": "markdown",
   "metadata": {},
   "source": [
    "\n",
    "22.8 LAB: Smallest and largest numbers in a list\n",
    "\n",
    "Write a program that reads a list of integers into a list as long as the integers are greater than zero, then outputs the smallest and largest integers in the list.\n",
    "\n",
    "Ex: If the input is:\n",
    "\n",
    "10<br>\n",
    "5<br>\n",
    "3<br>\n",
    "21<br>\n",
    "2<br>\n",
    "-6<br>\n",
    "\n",
    "the output is:\n",
    "\n",
    "2 and 21\n",
    "\n",
    "You can assume that the list of integers will have at least 2 values.\n"
   ]
  },
  {
   "cell_type": "code",
   "execution_count": 1,
   "metadata": {},
   "outputs": [
    {
     "name": "stdout",
     "output_type": "stream",
     "text": [
      "2 and 21\n"
     ]
    }
   ],
   "source": [
    "\"\"\"22.8.1: LAB: Smallest and largest numbers in a list.\"\"\"\n",
    "\n",
    "\n",
    "integers = list()\n",
    "while True:\n",
    "    x = int(input())\n",
    "    if x > 0:\n",
    "        integers.append(x)\n",
    "    else: break\n",
    "print(str(min(integers)) + \" and \" + str(max(integers)))\n"
   ]
  }
 ],
 "metadata": {
  "interpreter": {
   "hash": "26de051ba29f2982a8de78e945f0abaf191376122a1563185a90213a26c5da77"
  },
  "kernelspec": {
   "display_name": "Python 3.10.4 64-bit",
   "language": "python",
   "name": "python3"
  },
  "language_info": {
   "codemirror_mode": {
    "name": "ipython",
    "version": 3
   },
   "file_extension": ".py",
   "mimetype": "text/x-python",
   "name": "python",
   "nbconvert_exporter": "python",
   "pygments_lexer": "ipython3",
   "version": "3.10.4"
  },
  "orig_nbformat": 4
 },
 "nbformat": 4,
 "nbformat_minor": 2
}
