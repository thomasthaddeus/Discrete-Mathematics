{
 "cells": [
  {
   "cell_type": "markdown",
   "metadata": {},
   "source": [
    "\n",
    "22.8 LAB: Smallest and largest numbers in a list\n",
    "\n",
    "Write a program that reads a list of integers into a list as long as the integers are greater than zero, then outputs the smallest and largest integers in the list.\n",
    "\n",
    "Ex: If the input is:\n",
    "\n",
    "10\n",
    "5\n",
    "3\n",
    "21\n",
    "2\n",
    "-6\n",
    "\n",
    "the output is:\n",
    "\n",
    "2 and 21\n",
    "\n",
    "You can assume that the list of integers will have at least 2 values.\n"
   ]
  },
  {
   "cell_type": "code",
   "execution_count": null,
   "metadata": {},
   "outputs": [],
   "source": [
    "\"\"\"22.8.1: LAB: Smallest and largest numbers in a list.\"\"\""
   ]
  }
 ],
 "metadata": {
  "language_info": {
   "name": "python"
  },
  "orig_nbformat": 4
 },
 "nbformat": 4,
 "nbformat_minor": 2
}
