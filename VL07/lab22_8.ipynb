{
 "cells": [
  {
   "cell_type": "markdown",
   "metadata": {},
   "source": [
    "\n",
    "22.8 LAB: Smallest and largest numbers in a list\n",
    "\n",
    "Write a program that reads a list of integers into a list as long as the integers are greater than zero, then outputs the smallest and largest integers in the list.\n",
    "\n",
    "Ex: If the input is:\n",
    "\n",
    "10<br>\n",
    "5<br>\n",
    "3<br>\n",
    "21<br>\n",
    "2<br>\n",
    "-6<br>\n",
    "\n",
    "the output is:\n",
    "\n",
    "2 and 21\n",
    "\n",
    "You can assume that the list of integers will have at least 2 values.\n"
   ]
  },
  {
   "cell_type": "code",
   "execution_count": 5,
   "metadata": {},
   "outputs": [
    {
     "ename": "ValueError",
     "evalue": "min() arg is an empty sequence",
     "output_type": "error",
     "traceback": [
      "\u001b[1;31m---------------------------------------------------------------------------\u001b[0m",
      "\u001b[1;31mValueError\u001b[0m                                Traceback (most recent call last)",
      "\u001b[1;32md:\\Repositories\\CS351\\VL07\\lab22_8.ipynb Cell 2'\u001b[0m in \u001b[0;36m<cell line: 23>\u001b[1;34m()\u001b[0m\n\u001b[0;32m     <a href='vscode-notebook-cell:/d%3A/Repositories/CS351/VL07/lab22_8.ipynb#ch0000001?line=18'>19</a>\u001b[0m     \u001b[39mreturn\u001b[39;00m \u001b[39mmin\u001b[39m(integers)\n\u001b[0;32m     <a href='vscode-notebook-cell:/d%3A/Repositories/CS351/VL07/lab22_8.ipynb#ch0000001?line=21'>22</a>\u001b[0m x \u001b[39m=\u001b[39m \u001b[39mint\u001b[39m(\u001b[39minput\u001b[39m())\n\u001b[1;32m---> <a href='vscode-notebook-cell:/d%3A/Repositories/CS351/VL07/lab22_8.ipynb#ch0000001?line=22'>23</a>\u001b[0m \u001b[39mprint\u001b[39m(lil(x) \u001b[39m+\u001b[39m \u001b[39m\"\u001b[39m\u001b[39m and \u001b[39m\u001b[39m\"\u001b[39m \u001b[39m+\u001b[39m big(x))\n",
      "\u001b[1;32md:\\Repositories\\CS351\\VL07\\lab22_8.ipynb Cell 2'\u001b[0m in \u001b[0;36mlil\u001b[1;34m(li)\u001b[0m\n\u001b[0;32m     <a href='vscode-notebook-cell:/d%3A/Repositories/CS351/VL07/lab22_8.ipynb#ch0000001?line=16'>17</a>\u001b[0m integers \u001b[39m=\u001b[39m \u001b[39mlist\u001b[39m()\n\u001b[0;32m     <a href='vscode-notebook-cell:/d%3A/Repositories/CS351/VL07/lab22_8.ipynb#ch0000001?line=17'>18</a>\u001b[0m integers\u001b[39m.\u001b[39msort()\n\u001b[1;32m---> <a href='vscode-notebook-cell:/d%3A/Repositories/CS351/VL07/lab22_8.ipynb#ch0000001?line=18'>19</a>\u001b[0m \u001b[39mreturn\u001b[39;00m \u001b[39mmin\u001b[39;49m(integers)\n",
      "\u001b[1;31mValueError\u001b[0m: min() arg is an empty sequence"
     ]
    }
   ],
   "source": [
    "\"\"\"22.8.1: LAB: Smallest and largest numbers in a list.\"\"\"\n",
    "\n",
    "\n",
    "integers = list()\n",
    "while True:\n",
    "    x = int(input())\n",
    "    if x > 0:\n",
    "        integers.append(x)\n",
    "    else: break\n",
    "print(str(min(integers)) + \" and \" + str(max(integers)))\n"
   ]
  }
 ],
 "metadata": {
  "interpreter": {
   "hash": "26de051ba29f2982a8de78e945f0abaf191376122a1563185a90213a26c5da77"
  },
  "kernelspec": {
   "display_name": "Python 3.10.4 64-bit",
   "language": "python",
   "name": "python3"
  },
  "language_info": {
   "codemirror_mode": {
    "name": "ipython",
    "version": 3
   },
   "file_extension": ".py",
   "mimetype": "text/x-python",
   "name": "python",
   "nbconvert_exporter": "python",
   "pygments_lexer": "ipython3",
   "version": "3.10.4"
  },
  "orig_nbformat": 4
 },
 "nbformat": 4,
 "nbformat_minor": 2
}
