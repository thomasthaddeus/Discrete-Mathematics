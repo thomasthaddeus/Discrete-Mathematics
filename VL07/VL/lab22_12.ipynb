{
 "cells": [
  {
   "cell_type": "markdown",
   "metadata": {},
   "source": [
    "# 22.12 LAB*: Program: Drawing a half arrow\n",
    "\n",
    "This program outputs a downwards facing arrow composed of a rectangle and a right triangle.<br>\n",
    "The arrow dimensions are defined by user specified\n",
    "- arrow base height,\n",
    "- arrow base width,\n",
    "- arrow head width.\n",
    "\n",
    "(1) Modify the given program to use a loop to output an arrow base of height arrow_base_height. (1 pt)\n",
    "\n",
    "(2) Modify the given program to use a loop to output an arrow base of width arrow_base_width. (1 pt)\n",
    "\n",
    "(3) Modify the given program to use a loop to output an arrow head of width arrow_head_width. (2 pts)\n",
    "\n",
    "(4) Modify the given program to only accept an arrow head width that is larger than the arrow base width.\n",
    "    Use a loop to continue prompting the user for an arrow head width until the value is larger than the arrow base width. (1 pt)\n",
    "<pre>\n",
    "while arrow_head_width <= arrow_base_width:\n",
    "    arrow_head_width = int(input('Enter arrow head width:\\n'))\n",
    "\n",
    "Example output for arrow_base_height = 5, arrow_base_width = 2, and arrow_head_width = 4:\n",
    "\n",
    "Enter arrow base height:\n",
    "5\n",
    "Enter arrow base width:\n",
    "2\n",
    "Enter arrow head width:\n",
    "4\n",
    "\n",
    "**\n",
    "**\n",
    "**\n",
    "**\n",
    "**\n",
    "****\n",
    "***\n",
    "**\n",
    "*\n",
    "\n",
    "</pre>"
   ]
  },
  {
   "cell_type": "code",
   "execution_count": null,
   "metadata": {},
   "outputs": [],
   "source": [
    "arrow_base_height = int(input('Enter arrow base height:\\n'))\n",
    "\n",
    "arrow_base_width = int(input('Enter arrow base width:\\n'))\n",
    "\n",
    "arrow_head_width = int(input('Enter arrow head width:\\n'))\n",
    "\n",
    "\n",
    "while arrow_head_width <= arrow_base_width:\n",
    "    arrow_head_width = int(input('Enter arrow head width:\\n'))\n",
    "print('')\n",
    "for height in range(arrow_base_height):\n",
    "    for width in range(arrow_base_width):\n",
    "        print('*', end='')\n",
    "    print('')\n",
    "\n",
    "for width in range(arrow_head_width):\n",
    "    for head in range(arrow_head_width - width):\n",
    "        print('*', end='')\n",
    "    print('')"
   ]
  }
 ],
 "metadata": {
  "language_info": {
   "name": "python"
  },
  "orig_nbformat": 4
 },
 "nbformat": 4,
 "nbformat_minor": 2
}
