{
 "cells": [
  {
   "cell_type": "markdown",
   "metadata": {},
   "source": [
    "\n",
    "22.9 LAB: Output values in a list below a user defined amount\n",
    "\n",
    "Write a program that first gets a list of integers from input. The input begins with an integer indicating the number of integers that follow. Then, get the last value from the input, which indicates a threshold. Output all integers less than or equal to that last threshold value.\n",
    "\n",
    "Ex: If the input is:\n",
    "\n",
    "5\n",
    "50\n",
    "60\n",
    "140\n",
    "200\n",
    "75\n",
    "100\n",
    "\n",
    "the output is:\n",
    "\n",
    "50,60,75,\n",
    "\n",
    "The 5 indicates that there are five integers in the list, namely 50, 60, 140, 200, and 75. The 100 indicates that the program should output all integers less than or equal to 100, so the program outputs 50, 60, and 75.\n",
    "\n",
    "For coding simplicity, follow every output value by a comma, including the last one.\n",
    "\n",
    "Such functionality is common on sites like Amazon, where a user can filter results.\n"
   ]
  },
  {
   "cell_type": "code",
   "execution_count": null,
   "metadata": {},
   "outputs": [],
   "source": [
    "\"\"\"22.9.1: LAB: Output values in a list below a user defined amount.\"\"\"\n",
    "\n"
   ]
  }
 ],
 "metadata": {
  "language_info": {
   "name": "python"
  },
  "orig_nbformat": 4
 },
 "nbformat": 4,
 "nbformat_minor": 2
}
