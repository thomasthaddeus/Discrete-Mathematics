{
 "cells": [
  {
   "cell_type": "markdown",
   "metadata": {},
   "source": [
    "40.8 LAB: Number pattern\n",
    "\n",
    "Write a recursive function called print_num_pattern() to output the following number pattern.\n",
    "\n",
    "Given a positive integer as input (Ex: 12), subtract another positive integer (Ex: 3) continually until 0 or a negative value is reached, and then continually add the second integer until the first integer is again reached. For this lab, do not end output with a newline.\n",
    "\n",
    "Ex. If the input is:\n",
    "\n",
    "12\n",
    "3\n",
    "\n",
    "the output is:\n",
    "\n",
    "12 9 6 3 0 3 6 9 12 \n",
    "\n"
   ]
  },
  {
   "cell_type": "code",
   "execution_count": null,
   "metadata": {},
   "outputs": [],
   "source": [
    "\"\"\"40.8.1: LAB: Number pattern.\"\"\"\n",
    "\n",
    "# TODO: Write recursive print_num_pattern() function\n",
    "\n",
    "if __name__ == \"__main__\":\n",
    "    num1 = int(input())\n",
    "    num2 = int(input())\n",
    "    print_num_pattern(num1, num2)"
   ]
  }
 ],
 "metadata": {
  "language_info": {
   "name": "python"
  },
  "orig_nbformat": 4
 },
 "nbformat": 4,
 "nbformat_minor": 2
}
