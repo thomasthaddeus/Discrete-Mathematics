{
 "cells": [
  {
   "cell_type": "markdown",
   "metadata": {},
   "source": [
    "40.8 LAB: Number pattern\n",
    "\n",
    "Write a recursive function called print_num_pattern() to output the following number pattern.\n",
    "\n",
    "Given a positive integer as input (Ex: 12), subtract another positive integer (Ex: 3) continually until 0 or a negative value is reached, and then continually add the second integer until the first integer is again reached. For this lab, do not end output with a newline.\n",
    "\n",
    "Ex. If the input is:\n",
    "\n",
    "12\n",
    "3\n",
    "\n",
    "the output is:\n",
    "\n",
    "12 9 6 3 0 3 6 9 12 \n",
    "\n"
   ]
  },
  {
   "cell_type": "code",
   "execution_count": null,
   "metadata": {},
   "outputs": [],
   "source": [
    "def print_num_pattern(my_var1, my_var2):\n",
    "    \"\"\"Print the number pattern.\"\"\"\n",
    "    if my_var1 > 0:\n",
    "        print(my_var1, end = ' ')\n",
    "        print_num_pattern(my_var1 - my_var2, my_var2)\n",
    "        print(my_var1, end = ' ')\n",
    "\n",
    "    elif my_var1 <= 0:\n",
    "        print(my_var1, end = ' ')\n",
    "        return\n",
    "\n",
    "if __name__ == \"__main__\":\n",
    "    num1 = int(input())\n",
    "    num2 = int(input())\n",
    "    print_num_pattern(num1, num2)\n"
   ]
  }
 ],
 "metadata": {
  "language_info": {
   "name": "python"
  },
  "orig_nbformat": 4
 },
 "nbformat": 4,
 "nbformat_minor": 2
}
