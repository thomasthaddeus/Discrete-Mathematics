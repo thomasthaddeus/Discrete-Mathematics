{
 "cells": [
  {
   "cell_type": "markdown",
   "metadata": {},
   "source": [
    "## 12.6 LAB: Warm up: Creating passwords.\n",
    "(1)\n",
    "1. Prompt the user to enter __two words and a number__, storing *each* into separate variables.\n",
    "1. Then, output those three values on a single line separated by a space. (Submit for 1 point)\n"
   ]
  },
  {
   "cell_type": "code",
   "execution_count": 1,
   "metadata": {},
   "outputs": [
    {
     "data": {
      "text/plain": [
       "'\\nyellow\\nDaisy\\n6\\n'"
      ]
     },
     "execution_count": 1,
     "metadata": {},
     "output_type": "execute_result"
    }
   ],
   "source": [
    "# Ex: If the input is:\n",
    "'''\n",
    "yellow\n",
    "Daisy\n",
    "6\n",
    "'''\n"
   ]
  },
  {
   "cell_type": "markdown",
   "metadata": {},
   "source": [
    "##### the output after the prompts is:"
   ]
  },
  {
   "cell_type": "code",
   "execution_count": 2,
   "metadata": {},
   "outputs": [
    {
     "data": {
      "text/plain": [
       "'You entered: yellow Daisy 6'"
      ]
     },
     "execution_count": 2,
     "metadata": {},
     "output_type": "execute_result"
    }
   ],
   "source": [
    "'You entered: yellow Daisy 6'"
   ]
  },
  {
   "cell_type": "markdown",
   "metadata": {},
   "source": [
    "#### Note: User input is not part of the program output."
   ]
  },
  {
   "cell_type": "markdown",
   "metadata": {},
   "source": [
    "- (2)\n",
    "    Output two passwords using a combination of the user input.<br>\n",
    "    Format the passwords as shown below. <br>\n",
    "        __(Submit for 2 points, so 3 points total).__\n"
   ]
  },
  {
   "cell_type": "code",
   "execution_count": 3,
   "metadata": {},
   "outputs": [
    {
     "data": {
      "text/plain": [
       "'You entered: yellow Daisy 6\\n\\nFirst password: yellow_Daisy\\nSecond password: 6yellow6'"
      ]
     },
     "execution_count": 3,
     "metadata": {},
     "output_type": "execute_result"
    }
   ],
   "source": [
    "# Ex: If the input is:\n",
    "'''\n",
    "yellow\n",
    "Daisy\n",
    "6\n",
    "'''\n",
    "# the output after the prompts is:\n",
    "'''You entered: yellow Daisy 6\n",
    "\n",
    "First password: yellow_Daisy\n",
    "Second password: 6yellow6'''\n"
   ]
  },
  {
   "cell_type": "markdown",
   "metadata": {},
   "source": [
    "- (3) Output the length of each password\n",
    "     (the number of characters in the strings).\n",
    "     (Submit for 2 points, so 5 points total).\n",
    "\n",
    "----------------------------------------------------\n",
    "\n",
    "Ex: If the input is:"
   ]
  },
  {
   "cell_type": "code",
   "execution_count": 4,
   "metadata": {},
   "outputs": [
    {
     "data": {
      "text/plain": [
       "'\\nyellow\\nDaisy\\n6\\n'"
      ]
     },
     "execution_count": 4,
     "metadata": {},
     "output_type": "execute_result"
    }
   ],
   "source": [
    "'''\n",
    "yellow\n",
    "Daisy\n",
    "6\n",
    "'''\n"
   ]
  },
  {
   "cell_type": "markdown",
   "metadata": {},
   "source": [
    "--------------"
   ]
  },
  {
   "cell_type": "code",
   "execution_count": 5,
   "metadata": {},
   "outputs": [
    {
     "data": {
      "text/plain": [
       "'\\nYou entered: yellow Daisy 6\\n\\nFirst password: yellow_Daisy\\nSecond password: 6yellow6\\n\\nNumber of characters in yellow_Daisy: 12\\nNumber of characters in 6yellow6: 8\\n'"
      ]
     },
     "execution_count": 5,
     "metadata": {},
     "output_type": "execute_result"
    }
   ],
   "source": [
    "# the output after the prompts is:\n",
    "\"\"\"\n",
    "You entered: yellow Daisy 6\n",
    "\n",
    "First password: yellow_Daisy\n",
    "Second password: 6yellow6\n",
    "\n",
    "Number of characters in yellow_Daisy: 12\n",
    "Number of characters in 6yellow6: 8\n",
    "\"\"\"\n"
   ]
  },
  {
   "cell_type": "markdown",
   "metadata": {},
   "source": [
    "-------------------------------------------------------------------------------------------------------\n",
    "                            MAIN.py\n"
   ]
  },
  {
   "cell_type": "code",
   "execution_count": 6,
   "metadata": {},
   "outputs": [
    {
     "ename": "KeyboardInterrupt",
     "evalue": "Interrupted by user",
     "output_type": "error",
     "traceback": [
      "\u001b[1;31m---------------------------------------------------------------------------\u001b[0m",
      "\u001b[1;31mKeyboardInterrupt\u001b[0m                         Traceback (most recent call last)",
      "\u001b[1;32md:\\Repositories\\CS351\\VL03\\lab03_2.ipynb Cell 13'\u001b[0m in \u001b[0;36m<cell line: 3>\u001b[1;34m()\u001b[0m\n\u001b[0;32m      <a href='vscode-notebook-cell:/d%3A/Repositories/CS351/VL03/lab03_2.ipynb#ch0000015?line=0'>1</a>\u001b[0m \u001b[39m# FIXME (1): Finish reading another word and an integer into variables. \u001b[39;00m\n\u001b[0;32m      <a href='vscode-notebook-cell:/d%3A/Repositories/CS351/VL03/lab03_2.ipynb#ch0000015?line=1'>2</a>\u001b[0m \u001b[39m# Output all the values on a single line\u001b[39;00m\n\u001b[1;32m----> <a href='vscode-notebook-cell:/d%3A/Repositories/CS351/VL03/lab03_2.ipynb#ch0000015?line=2'>3</a>\u001b[0m favorite_color \u001b[39m=\u001b[39m \u001b[39minput\u001b[39;49m(\u001b[39m'\u001b[39;49m\u001b[39mEnter favorite color:\u001b[39;49m\u001b[39m\\n\u001b[39;49;00m\u001b[39m'\u001b[39;49m)\n\u001b[0;32m      <a href='vscode-notebook-cell:/d%3A/Repositories/CS351/VL03/lab03_2.ipynb#ch0000015?line=5'>6</a>\u001b[0m \u001b[39m# FIXME (2): Output two password options\u001b[39;00m\n\u001b[0;32m      <a href='vscode-notebook-cell:/d%3A/Repositories/CS351/VL03/lab03_2.ipynb#ch0000015?line=6'>7</a>\u001b[0m password1 \u001b[39m=\u001b[39m favorite_color\n",
      "File \u001b[1;32m~\\AppData\\Roaming\\Python\\Python310\\site-packages\\ipykernel\\kernelbase.py:1159\u001b[0m, in \u001b[0;36mKernel.raw_input\u001b[1;34m(self, prompt)\u001b[0m\n\u001b[0;32m   <a href='file:///c%3A/Users/Thaddeus%20Maximus/AppData/Roaming/Python/Python310/site-packages/ipykernel/kernelbase.py?line=1154'>1155</a>\u001b[0m \u001b[39mif\u001b[39;00m \u001b[39mnot\u001b[39;00m \u001b[39mself\u001b[39m\u001b[39m.\u001b[39m_allow_stdin:\n\u001b[0;32m   <a href='file:///c%3A/Users/Thaddeus%20Maximus/AppData/Roaming/Python/Python310/site-packages/ipykernel/kernelbase.py?line=1155'>1156</a>\u001b[0m     \u001b[39mraise\u001b[39;00m StdinNotImplementedError(\n\u001b[0;32m   <a href='file:///c%3A/Users/Thaddeus%20Maximus/AppData/Roaming/Python/Python310/site-packages/ipykernel/kernelbase.py?line=1156'>1157</a>\u001b[0m         \u001b[39m\"\u001b[39m\u001b[39mraw_input was called, but this frontend does not support input requests.\u001b[39m\u001b[39m\"\u001b[39m\n\u001b[0;32m   <a href='file:///c%3A/Users/Thaddeus%20Maximus/AppData/Roaming/Python/Python310/site-packages/ipykernel/kernelbase.py?line=1157'>1158</a>\u001b[0m     )\n\u001b[1;32m-> <a href='file:///c%3A/Users/Thaddeus%20Maximus/AppData/Roaming/Python/Python310/site-packages/ipykernel/kernelbase.py?line=1158'>1159</a>\u001b[0m \u001b[39mreturn\u001b[39;00m \u001b[39mself\u001b[39;49m\u001b[39m.\u001b[39;49m_input_request(\n\u001b[0;32m   <a href='file:///c%3A/Users/Thaddeus%20Maximus/AppData/Roaming/Python/Python310/site-packages/ipykernel/kernelbase.py?line=1159'>1160</a>\u001b[0m     \u001b[39mstr\u001b[39;49m(prompt),\n\u001b[0;32m   <a href='file:///c%3A/Users/Thaddeus%20Maximus/AppData/Roaming/Python/Python310/site-packages/ipykernel/kernelbase.py?line=1160'>1161</a>\u001b[0m     \u001b[39mself\u001b[39;49m\u001b[39m.\u001b[39;49m_parent_ident[\u001b[39m\"\u001b[39;49m\u001b[39mshell\u001b[39;49m\u001b[39m\"\u001b[39;49m],\n\u001b[0;32m   <a href='file:///c%3A/Users/Thaddeus%20Maximus/AppData/Roaming/Python/Python310/site-packages/ipykernel/kernelbase.py?line=1161'>1162</a>\u001b[0m     \u001b[39mself\u001b[39;49m\u001b[39m.\u001b[39;49mget_parent(\u001b[39m\"\u001b[39;49m\u001b[39mshell\u001b[39;49m\u001b[39m\"\u001b[39;49m),\n\u001b[0;32m   <a href='file:///c%3A/Users/Thaddeus%20Maximus/AppData/Roaming/Python/Python310/site-packages/ipykernel/kernelbase.py?line=1162'>1163</a>\u001b[0m     password\u001b[39m=\u001b[39;49m\u001b[39mFalse\u001b[39;49;00m,\n\u001b[0;32m   <a href='file:///c%3A/Users/Thaddeus%20Maximus/AppData/Roaming/Python/Python310/site-packages/ipykernel/kernelbase.py?line=1163'>1164</a>\u001b[0m )\n",
      "File \u001b[1;32m~\\AppData\\Roaming\\Python\\Python310\\site-packages\\ipykernel\\kernelbase.py:1201\u001b[0m, in \u001b[0;36mKernel._input_request\u001b[1;34m(self, prompt, ident, parent, password)\u001b[0m\n\u001b[0;32m   <a href='file:///c%3A/Users/Thaddeus%20Maximus/AppData/Roaming/Python/Python310/site-packages/ipykernel/kernelbase.py?line=1197'>1198</a>\u001b[0m             \u001b[39mbreak\u001b[39;00m\n\u001b[0;32m   <a href='file:///c%3A/Users/Thaddeus%20Maximus/AppData/Roaming/Python/Python310/site-packages/ipykernel/kernelbase.py?line=1198'>1199</a>\u001b[0m \u001b[39mexcept\u001b[39;00m \u001b[39mKeyboardInterrupt\u001b[39;00m:\n\u001b[0;32m   <a href='file:///c%3A/Users/Thaddeus%20Maximus/AppData/Roaming/Python/Python310/site-packages/ipykernel/kernelbase.py?line=1199'>1200</a>\u001b[0m     \u001b[39m# re-raise KeyboardInterrupt, to truncate traceback\u001b[39;00m\n\u001b[1;32m-> <a href='file:///c%3A/Users/Thaddeus%20Maximus/AppData/Roaming/Python/Python310/site-packages/ipykernel/kernelbase.py?line=1200'>1201</a>\u001b[0m     \u001b[39mraise\u001b[39;00m \u001b[39mKeyboardInterrupt\u001b[39;00m(\u001b[39m\"\u001b[39m\u001b[39mInterrupted by user\u001b[39m\u001b[39m\"\u001b[39m) \u001b[39mfrom\u001b[39;00m \u001b[39mNone\u001b[39m\n\u001b[0;32m   <a href='file:///c%3A/Users/Thaddeus%20Maximus/AppData/Roaming/Python/Python310/site-packages/ipykernel/kernelbase.py?line=1201'>1202</a>\u001b[0m \u001b[39mexcept\u001b[39;00m \u001b[39mException\u001b[39;00m:\n\u001b[0;32m   <a href='file:///c%3A/Users/Thaddeus%20Maximus/AppData/Roaming/Python/Python310/site-packages/ipykernel/kernelbase.py?line=1202'>1203</a>\u001b[0m     \u001b[39mself\u001b[39m\u001b[39m.\u001b[39mlog\u001b[39m.\u001b[39mwarning(\u001b[39m\"\u001b[39m\u001b[39mInvalid Message:\u001b[39m\u001b[39m\"\u001b[39m, exc_info\u001b[39m=\u001b[39m\u001b[39mTrue\u001b[39;00m)\n",
      "\u001b[1;31mKeyboardInterrupt\u001b[0m: Interrupted by user"
     ]
    }
   ],
   "source": [
    "# FIXME (1): Finish reading another word and an integer into variables. \n",
    "# Output all the values on a single line\n",
    "favorite_color = input('Enter favorite color:\\n')\n",
    "\n",
    "\n",
    "# FIXME (2): Output two password options\n",
    "password1 = favorite_color\n",
    "print('\\nFirst password:')\n",
    "\n",
    "\n",
    "# FIXME (3): Output the length of the two password options\n"
   ]
  }
 ],
 "metadata": {
  "interpreter": {
   "hash": "b89b5cfaba6639976dc87ff2fec6d58faec662063367e2c229c520fe71072417"
  },
  "kernelspec": {
   "display_name": "Python 3.10.4 64-bit",
   "language": "python",
   "name": "python3"
  },
  "language_info": {
   "codemirror_mode": {
    "name": "ipython",
    "version": 3
   },
   "file_extension": ".py",
   "mimetype": "text/x-python",
   "name": "python",
   "nbconvert_exporter": "python",
   "pygments_lexer": "ipython3",
   "version": "3.10.4"
  },
  "orig_nbformat": 4
 },
 "nbformat": 4,
 "nbformat_minor": 2
}
