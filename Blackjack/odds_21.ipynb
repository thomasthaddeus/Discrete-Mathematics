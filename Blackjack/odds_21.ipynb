{
 "cells": [
  {
   "cell_type": "markdown",
   "metadata": {},
   "source": [
    "\"\"\"Defines the probability function for getting a blackjack.\"\"\"\n",
    "\n",
    "# Blackjack is a very strategic casino card game that is best played with a mathematical approach involving probabilities.\n",
    "# Blackjack odds refer to the percentage of the chances of winning for the player or the dealer.\n",
    "# But what are the odds of getting blackjack?\n",
    "\n",
    "# Depending on the number of decks being played and the side bets placed, the odds and probabilities vary, as discussed in detail here.\n",
    "\n",
    "# Blackjack Odds for Single Shoe\n",
    "\n",
    "# It is simpler to calculate the blackjack odds and probabilities for the dealer and the player in a single-deck game though the calculations depend on the hands of both.\n",
    "# Accordingly, the odds of being dealt blackjack for the player are about 4.8%.\n",
    "\n",
    "# The odds of a No Bust, a Standing Hand (17-20) and a Decision Hand (1-16) are 26.5%, 30%, and 38.7% respectively.\n",
    "# The odds for the final hands that the dealer will make, on the other hand, are 4.82% for a Natural 21 and between 17.58%% to 28.36% for hands between 20 and 16.\n",
    "# The odds of busting for the player in a single shoe game will be 100% for 21 and gradually come down to 0% if the card in hand is <11.\n",
    "# Odds of getting blackjack with a single deck\n",
    "# Odds of getting a blackjack with a single deck.\n"
   ]
  },
  {
   "cell_type": "code",
   "execution_count": null,
   "metadata": {},
   "outputs": [],
   "source": [
    "aces = 4 / 52\n",
    "tens = 16 / 51\n",
    "first_card = aces or tens\n",
    "\n",
    "probability = float((aces * tens) * 2)\n",
    "print(f\"The probability of getting blackjack with a 52 card deck is : {probability}\")"
   ]
  },
  {
   "cell_type": "markdown",
   "metadata": {},
   "source": [
    "\n",
    "# Each variant of blackjack offers different odds of winning for the dealer as well as the player.\n",
    "# In blackjack, the odds are represented in percentage and they determine the probability of winning or going bust in a particular situation.\n",
    "# Knowledge of this blackjack probability of winning or going bust, in turn, helps players make better playing decisions and strategic moves.\n",
    "\n",
    "# Continuous shuffling blackjack resets the odds at every hand since the deck gets reshuffled over and over again continuously.\n",
    "# card counting guide\n",
    "# Blackjack Insurance Feasibility\n",
    "\n",
    "# Blackjack Insurance is a side bet that is placed by the player on the expected outcome that the dealer will have blackjack.\n",
    "# This side bet is made available to be placed once the player has been dealt his two cards and the dealer's upcard is an Ace.\n",
    "# Blackjack Insurance is played out independently and it pays 2:1.\n",
    "\n",
    "# Although blackjack players often go with Insurance, it is basically a bad bet and should be avoided, considering the odds.\n",
    "# This is because there are two possible outcomes to occur, one, the dealer has a blackjack, and two, the dealer does not have a blackjack, which means that the player loses.\n",
    "# Now, for the dealer to have a blackjack, his second card must be a ten-card or a picture card, the probability of which is just 30%.\n",
    "\n",
    "# In the long run, if a player has, let's assume, placed this bet 100 times on a $50 stake, he would win $100 30 times and lose $50 70 times. This establishes the fact that insurance is a bad bet and very less feasible, except for a few occasions may be.\n",
    "# card counting guide\n",
    "# Blackjack Side Bet Probability\n",
    "\n",
    "# Different blackjack side bets have different probabilities and odds for the players. Here are a few of them explained.\n",
    "# 21+3 \n",
    "\n",
    "# The 21+3 side bet is placed on the assumption that the first two cards of the player and the dealer's face-up card will combine to make one of the possible five combinations of poker hands. These combinations are Flush (Three cards of the same suit), Straight (Three cards of consecutive values), Three of a Kind (Three cards of the same value/face card), Straight Flush (Three cards of consecutive values and from the same suit) and Suited Three of a Kind (Three cards of the same value/face card from the same suit).\n",
    "\n",
    "# The probabilities vary for the different combinations as shown in the table below for a standard six deck game:\n",
    "# Hand\tProbability\n",
    "# Straight Flush\t0.002068\n",
    "# Three of a Kind\t0.005248\n",
    "# Straight\t0.031021\n",
    "# Flush\t0.047221\n",
    "# Pair + Flush\t0.011202\n",
    "# Pair Square\n",
    "\n",
    "# Pair Square is a very popular blackjack side bet that is also referred to as 'Bet the Set' and 'Any Pair'. It is based on the expected outcome that the player's first two cards will form a pair, preferably a suited pair. A non-suited pair is also a winning combination but it pays less. The blackjack side bet probability and payout for Pair Square, for a six-deck game, is shown in the table below:\n",
    "# Hand\tProbability\tPayout\n",
    "# Suited Pair\t0.016077\t12\n",
    "# Non-Suited Pair\t0.057878\t10\n",
    "# No Pair\t0.926045\t-1\n",
    "# Super 7\n",
    "\n",
    "# The Super 7's side bet in blackjack is based on the outcome that the player will get sevens of the same color or suit. Different combinations of 7♠ come into play with respect to this side bet. To begin with, the players who want to place this bet must put the chip in the special spot on the blackjack table. The maximum bet on the Super Sevens is usually $5. The bet pays out if the first card dealt to the player is a seven.\n",
    "\n",
    "# The payouts vary depending on the number and combinations of 7♠ that the player receives and eventually wins the bet. The following blackjack odds table puts the information in detail:\n",
    "# Hand\tProbability\tPayout\n",
    "# One Seven\t0.071234\t3:1\n",
    "# Two Unsuited Sevens\t0.004136\t50:1\n",
    "# Two Suited Sevens\t0.001149\t100:1\n",
    "# Three Unsuited Sevens\t0.000388\t500:1\n",
    "# Three Suited Sevens\t0.000016\t5000:1\n",
    "# Super 4\n"
   ]
  },
  {
   "cell_type": "markdown",
   "metadata": {},
   "source": [
    "# The Super 4 is a progressive blackjack side bet that is placed on the four cards, the initial two cards of both the player and the dealer.\n",
    "There are different versions of the game, in all of which the player wins on a dealer blackjack.\n",
    "The amount of win depends on the poker value of all four cards.\n",
    "There are three different versions and wins in any of them require the dealer's face-up card to be an ace.\n",
    " The following table shows the probabilities and payouts for the different winning combinations of this side bet.\n"
   ]
  },
  {
   "cell_type": "markdown",
   "metadata": {},
   "source": [
    "# Hand\tPayout\tProbability\n",
    "# Royal Flush in Diamonds\t100% of jackpot\t0.000001673\n",
    "# Royal Flush\t10% of jackpot\t0.000005020\n",
    "# Three of a Kind\t$750\t0.000501716\n",
    "# Straight\t$500\t0.000421650\n",
    "# Flush\t$400\t0.000694817\n",
    "# Two Pair\t$300\t0.000518324\n",
    "# All Same Color\t$100\t0.004983942\n",
    "# Pair\t$75\t0.013251843\n",
    "# Dealer Blackjack\t$25\t0.027110504\n",
    "# Hi-Lo\n"
   ]
  },
  {
   "cell_type": "markdown",
   "metadata": {},
   "source": [
    "\n",
    "# Hi-Lo is a pair of side bets in blackjack placed on whether one card will be higher or lower than the other. Basically, the player draws a random card and bets on whether the next card will be lower or higher. The main difference of this side bet with many others is that it can be placed in blackjack games that are played without the tens in the shoe.\n",
    "\n",
    "# There are basically two simple versions of the Hi-Lo game. In the one that is popular in Mesquite, Nevada, the player simply bets if his first card will be higher or lower than the dealer's up card. In case, both the cards are of the same rank, except the ace in blackjack, the tie goes to the dealer. The house edge for this side bet is 6.83%.\n",
    "\n",
    "# There is another version of this game and in this; the object is to predict whether the player's second card will be higher than the first. The aces are treated separately. A correct prediction means a win, an incorrect prediction means a loss, any blackjack is equal to a win, and two aces imply a push. Also, the player wins if the first card is an ace and the second card is 2-9 and he loses if the second card is an ace and the first card is 2-9.\n"
   ]
  },
  {
   "cell_type": "markdown",
   "metadata": {},
   "source": [
    "\n",
    "The following table shows the blackjack probability for Hi-Lo in a standard six-deck game.\n",
    "Hand\tProbability\n",
    "Win\t0.486767\n",
    "Push\t0.005689\n",
    "Loss\t0.507544\n"
   ]
  },
  {
   "cell_type": "markdown",
   "metadata": {},
   "source": [
    "\n",
    "So, that sums up precisely everything about blackjack odds and probabilities and how different side bets come with different odds of winning for the player.\n",
    "Following the optimal blackjack strategy and understanding the math that goes behind the game are crucial steps to improving the odds in favor of the player.\n",
    "Make sure you also learn about card counting in order to increase your edge.\n"
   ]
  }
 ],
 "metadata": {
  "language_info": {
   "name": "python"
  },
  "orig_nbformat": 4
 },
 "nbformat": 4,
 "nbformat_minor": 2
}
