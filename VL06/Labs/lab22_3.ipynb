{
 "cells": [
  {
   "cell_type": "markdown",
   "metadata": {},
   "source": [
    "\n",
    "22.3 LAB: Password modifier\n",
    "\n",
    "Many user-created passwords are simple and easy to guess. Write a program that takes a simple password and makes it stronger by replacing characters using the key below, and by appending \"!\" to the end of the input string.\n",
    "\n",
    "    i becomes 1\n",
    "    a becomes @\n",
    "    m becomes M\n",
    "    B becomes 8\n",
    "    s becomes $\n",
    "\n",
    "Ex: If the input is:\n",
    "\n",
    "mypassword\n",
    "\n",
    "the output is:\n",
    "\n",
    "Myp@$$word!\n",
    "\n",
    "Hint: Python strings are immutable, but support string concatenation. Store and build the stronger password in the given password variable.\n"
   ]
  },
  {
   "cell_type": "code",
   "execution_count": null,
   "metadata": {},
   "outputs": [],
   "source": [
    "\"\"\"22.3.1: LAB: Password modifier.\"\"\"\n",
    "\n",
    "word = input()\n",
    "password = ''\n",
    "\n",
    "''' Type your code here. '''"
   ]
  }
 ],
 "metadata": {
  "language_info": {
   "name": "python"
  },
  "orig_nbformat": 4
 },
 "nbformat": 4,
 "nbformat_minor": 2
}
