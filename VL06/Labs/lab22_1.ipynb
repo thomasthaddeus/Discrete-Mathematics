{
 "cells": [
  {
   "cell_type": "markdown",
   "metadata": {},
   "source": [
    "\n",
    "22.1 LAB: Convert to reverse binary\n",
    "\n",
    "Write a program that takes in a positive integer as input, and outputs a string of 1's and 0's representing the integer in reverse binary. For an integer x, the algorithm is:\n",
    "\n",
    "As long as x is greater than 0\n",
    "   Output x modulo 2 (remainder is either 0 or 1)\n",
    "   Assign x with x divided by 2\n",
    "\n",
    "Note: The above algorithm outputs the 0's and 1's in reverse order.\n",
    "\n",
    "Ex: If the input is:\n",
    "\n",
    "6\n",
    "\n",
    "the output is:\n",
    "\n",
    "011\n",
    "\n",
    "6 in binary is 110; the algorithm outputs the bits in reverse.\n"
   ]
  },
  {
   "cell_type": "code",
   "execution_count": null,
   "metadata": {},
   "outputs": [],
   "source": [
    "\"\"\"22.1.1: LAB: Convert to reverse binary.\"\"\"\n",
    "\n",
    "''' Type your code here. '''"
   ]
  }
 ],
 "metadata": {
  "language_info": {
   "name": "python"
  },
  "orig_nbformat": 4
 },
 "nbformat": 4,
 "nbformat_minor": 2
}
