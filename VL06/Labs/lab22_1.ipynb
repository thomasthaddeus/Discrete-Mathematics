{
 "cells": [
  {
   "cell_type": "markdown",
   "metadata": {},
   "source": [
    "# 22.1 LAB: Convert to reverse binary\n",
    "\n",
    "<body>Write a program that takes in a positive integer as input,<br>\n",
    "   and outputs a string of 1's and 0's<br>\n",
    "   representing the integer in reverse binary.</body>\n",
    "\n",
    "For an integer x, the algorithm is:\n",
    "\n",
    "As long as x is greater than 0<br>\n",
    "   Output x modulo 2 (remainder is either 0 or 1)<br>\n",
    "   Assign x with x divided by 2\n",
    "\n",
    "__Note:__ The above algorithm outputs the 0's and 1's in reverse order.\n",
    "\n",
    "Ex: If the input is:<br>\n",
    "6\n",
    "the output is:<br>\n",
    "011\n",
    "\n",
    "6 in binary is 110; the algorithm outputs the bits in reverse.\n"
   ]
  },
  {
   "cell_type": "code",
   "execution_count": null,
   "metadata": {},
   "outputs": [],
   "source": [
    "\"\"\"22.1.1: LAB: Convert to reverse binary.\"\"\"\n",
    "\n",
    "x = int(input())\n",
    "def reverse_binary(x):\n",
    "    f'{x:b}'\n",
    "    "
   ]
  },
  {
   "cell_type": "code",
   "execution_count": null,
   "metadata": {},
   "outputs": [],
   "source": []
  }
 ],
 "metadata": {
  "language_info": {
   "name": "python"
  },
  "orig_nbformat": 4
 },
 "nbformat": 4,
 "nbformat_minor": 2
}
