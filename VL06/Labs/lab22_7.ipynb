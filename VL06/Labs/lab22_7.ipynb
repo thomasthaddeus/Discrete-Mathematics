{
 "cells": [
  {
   "cell_type": "markdown",
   "metadata": {},
   "source": [
    "# 22.7 LAB: Brute force equation solver\n"
   ]
  },
  {
   "cell_type": "markdown",
   "metadata": {},
   "source": [
    "Numerous engineering and scientific applications require finding solutions to a set of equations. Ex: 8x + 7y = 38 and 3x - 5y = -1 have a solution x = 3, y = 2. Given integer coefficients of two linear equations with variables x and y, use brute force to find an integer solution for x and y in the range -10 to 10.\n",
    "\n",
    "Ex: If the input is:\n",
    "\n",
    "8\n",
    "7\n",
    "38\n",
    "3\n",
    "-5\n",
    "-1\n",
    "\n",
    "Then the output is:\n",
    "\n",
    "x = 3 , y = 2\n",
    "\n",
    "Use this brute force approach:\n",
    "\n",
    "For every value of x from -10 to 10\n",
    "   For every value of y from -10 to 10\n",
    "      Check if the current x and y satisfy both equations.\n",
    "      If so, output the solution, and finish.\n",
    "\n",
    "Ex: If no solution is found, output:"
   ]
  },
  {
   "cell_type": "markdown",
   "metadata": {},
   "source": [
    "\n",
    "> There is no solution\n",
    "\n",
    "\n",
    "Assume the two input equations have no more than one solution.\n",
    "\n",
    "__NOTE:__ Elegant mathematical techniques exist to solve such linear equations.\n",
    "- However, for other kinds of equations or situations, brute force can be handy.\n"
   ]
  },
  {
   "cell_type": "code",
   "execution_count": null,
   "metadata": {},
   "outputs": [],
   "source": [
    "\"\"\"22.7.1: LAB: Brute force equation solver\"\"\"\n",
    "\n",
    "a = int(input())\n",
    "b = int(input())\n",
    "c = int(input())\n",
    "d = int(input())\n",
    "e = int(input())\n",
    "f = int(input())\n",
    "\n",
    "\n",
    "def main():\n",
    "    for x in range(-10, 11):\n",
    "        for y in range(-10, 11):\n",
    "            if equation1(x,y) == equation2(x, y):\n",
    "                print(f\"{x} = , {y} = \")\n",
    "\n",
    "\n",
    "def equation1():\n",
    "    \"\"\"First equation, ax + by = c.\"\"\"\n",
    "\n",
    "\n",
    "\n",
    "def equation2(d, e, f,):\n",
    "    \"\"\"Read in second equation, dx + ey = f.\"\"\"\n",
    "\n",
    "\n",
    "if __name__ == \"__main__\":\n",
    "    main()"
   ]
  }
 ],
 "metadata": {
  "language_info": {
   "name": "python"
  },
  "orig_nbformat": 4
 },
 "nbformat": 4,
 "nbformat_minor": 2
}
