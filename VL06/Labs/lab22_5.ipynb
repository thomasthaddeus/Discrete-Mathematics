{
 "cells": [
  {
   "cell_type": "markdown",
   "metadata": {},
   "source": [
    "- VL06: Virtual Lab\n",
    "# 22.5 LAB: Print string in reverse\n",
    "\n",
    "Write a program that takes in a line of text as input, and outputs that line of text in reverse.</br>\n",
    "The program repeats, ending when the user enters __\"Done\", \"done\", or \"d\"__ for the line of text.\n",
    "\n",
    "- Ex: If the *input* is:\n",
    "\n",
    "> Hello there</br>\n",
    "> Hey</br>\n",
    "> done\n",
    "\n",
    "- Then the *output* is:\n",
    "> ereht olleH</br>\n",
    "> yeH\n",
    "\n"
   ]
  },
  {
   "cell_type": "code",
   "execution_count": 2,
   "metadata": {},
   "outputs": [
    {
     "name": "stdout",
     "output_type": "stream",
     "text": [
      "ereht olleH\n",
      "yeh\n",
      "gniod uoy woh\n"
     ]
    }
   ],
   "source": [
    "line_in = input()\n",
    "ender = ['done', 'd', \"Done\"]\n",
    "while line_in not in ender:\n",
    "    print (str(line_in[::-1]))\n",
    "    line_in = input()\n",
    "\n"
   ]
  }
 ],
 "metadata": {
  "interpreter": {
   "hash": "26de051ba29f2982a8de78e945f0abaf191376122a1563185a90213a26c5da77"
  },
  "kernelspec": {
   "display_name": "Python 3.10.4 64-bit",
   "language": "python",
   "name": "python3"
  },
  "language_info": {
   "codemirror_mode": {
    "name": "ipython",
    "version": 3
   },
   "file_extension": ".py",
   "mimetype": "text/x-python",
   "name": "python",
   "nbconvert_exporter": "python",
   "pygments_lexer": "ipython3",
   "version": "3.10.4"
  },
  "orig_nbformat": 4
 },
 "nbformat": 4,
 "nbformat_minor": 2
}
