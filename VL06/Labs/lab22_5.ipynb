{
 "cells": [
  {
   "cell_type": "markdown",
   "metadata": {},
   "source": [
    "- VL06: Virtual Lab\n",
    "# 22.5 LAB: Print string in reverse\n",
    "\n",
    "Write a program that takes in a line of text as input, and outputs that line of text in reverse.</br>\n",
    "The program repeats, ending when the user enters __\"Done\", \"done\", or \"d\"__ for the line of text.\n",
    "\n",
    "- Ex: If the *input* is:\n",
    "\n",
    "> Hello there</br>\n",
    "> Hey</br>\n",
    "> done\n",
    "\n",
    "- Then the *output* is:\n",
    "> ereht olleH</br>\n",
    "> yeH\n",
    "\n"
   ]
  },
  {
   "cell_type": "code",
   "execution_count": null,
   "metadata": {},
   "outputs": [],
   "source": []
  }
 ],
 "metadata": {
  "language_info": {
   "name": "python"
  },
  "orig_nbformat": 4
 },
 "nbformat": 4,
 "nbformat_minor": 2
}
