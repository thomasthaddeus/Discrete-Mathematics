{
 "cells": [
  {
   "cell_type": "markdown",
   "metadata": {},
   "source": [
    "# Convert to reverse binary\n",
    "\n",
    "<body>Write a program that takes in a positive integer as input,<br>\n",
    "   and outputs a string of 1's and 0's<br>\n",
    "   representing the integer in reverse binary.</body>\n",
    "\n",
    "For an integer x, the algorithm is:\n",
    "\n",
    "As long as x is greater than 0<br>\n",
    "   Output x modulo 2 (remainder is either 0 or 1)<br>\n",
    "   Assign x with x divided by 2\n",
    "\n",
    "__Note:__ The above algorithm outputs the 0's and 1's in reverse order.\n",
    "\n",
    "Ex: If the input is:<br>\n",
    "6\n",
    "the output is:<br>\n",
    "011\n",
    "\n",
    "6 in binary is 110; the algorithm outputs the bits in reverse.\n"
   ]
  },
  {
   "cell_type": "code",
   "execution_count": null,
   "metadata": {},
   "outputs": [],
   "source": [
    "\"\"\"22.1.1: LAB: Convert to reverse binary.\"\"\"\n",
    "\n",
    "x = int(input())\n",
    "def reverse_binary(x):\n",
    "    f'{x:b}'\n",
    "    "
   ]
  },
  {
   "cell_type": "markdown",
   "metadata": {},
   "source": [
    "- VL06: Virtual Lab\n",
    "# 22.5 LAB: Print string in reverse\n",
    "\n",
    "Write a program that takes in a line of text as input, and outputs that line of text in reverse.</br>\n",
    "The program repeats, ending when the user enters __\"Done\", \"done\", or \"d\"__ for the line of text.\n",
    "\n",
    "- Ex: If the *input* is:\n",
    "\n",
    "> Hello there</br>\n",
    "> Hey</br>\n",
    "> done\n",
    "\n",
    "- Then the *output* is:\n",
    "> ereht olleH</br>\n",
    "> yeH\n",
    "\n"
   ]
  },
  {
   "cell_type": "code",
   "execution_count": null,
   "metadata": {},
   "outputs": [
    {
     "name": "stdout",
     "output_type": "stream",
     "text": [
      "ereht olleH\n",
      "yeh\n",
      "gniod uoy woh\n"
     ]
    }
   ],
   "source": [
    "line_in = input()\n",
    "ender = ['done', 'd', \"Done\"]\n",
    "while line_in not in ender:\n",
    "    print (str(line_in[::-1]))\n",
    "    line_in = input()\n",
    "\n"
   ]
  },
  {
   "cell_type": "markdown",
   "metadata": {},
   "source": [
    "## Drawing a right triangle\n",
    "\n",
    "This program will output a right triangle based on user specified height triangle_height and symbol triangle_char.\n",
    "\n",
    "(1) The given program outputs a fixed-height triangle using a * character. Modify the given program to output a right triangle that instead uses the user-specified triangle_char character. (1 pt)\n",
    "\n",
    "\n",
    "(2) Modify the program to use a loop to output a right triangle of height triangle_height. The first line will have one user-specified character, such as % or *. Each subsequent line will have one additional user-specified character until the number in the triangle's base reaches triangle_height. Output a space after each user-specified character, including a line's last user-specified character. (2 pts)\n",
    "\n",
    "```bash\n",
    "Example output for triangle_char = % and triangle_height = 5:\n",
    "\n",
    "Enter a character:\n",
    "%\n",
    "Enter triangle height:\n",
    "5\n",
    "\n",
    "% \n",
    "% % \n",
    "% % % \n",
    "% % % % \n",
    "% % % % % \n",
    "```\n"
   ]
  },
  {
   "cell_type": "code",
   "execution_count": 1,
   "metadata": {},
   "outputs": [
    {
     "name": "stdout",
     "output_type": "stream",
     "text": [
      "\n",
      "* \n",
      "* * \n",
      "* * * \n"
     ]
    }
   ],
   "source": [
    "\"\"\"22.11.1: LAB: Warm up: Drawing a right triangle.\"\"\"\n",
    "\n",
    "triangle_char = input('Enter a character:\\n')\n",
    "triangle_height = int(input('Enter triangle height:\\n'))\n",
    "print('')\n",
    "\n",
    "print ('* ')\n",
    "print ('* * ')\n",
    "print ('* * * ')\n"
   ]
  },
  {
   "cell_type": "code",
   "execution_count": 2,
   "metadata": {},
   "outputs": [
    {
     "name": "stdout",
     "output_type": "stream",
     "text": [
      "10 \n",
      "10 10 \n",
      "10 10 10 \n",
      "10 10 10 10 \n",
      "10 10 10 10 10 \n"
     ]
    }
   ],
   "source": [
    "for i in range(triangle_height):\n",
    "    for j in range(i + 1):\n",
    "        print(triangle_char, end = ' ')\n",
    "    print()"
   ]
  },
  {
   "cell_type": "markdown",
   "metadata": {},
   "source": [
    "40.8 LAB: Number pattern\n",
    "\n",
    "Write a recursive function called print_num_pattern() to output the following number pattern.\n",
    "\n",
    "Given a positive integer as input (Ex: 12), subtract another positive integer (Ex: 3) continually until 0 or a negative value is reached, and then continually add the second integer until the first integer is again reached. For this lab, do not end output with a newline.\n",
    "\n",
    "Ex. If the input is:\n",
    "\n",
    "12\n",
    "3\n",
    "\n",
    "the output is:\n",
    "\n",
    "12 9 6 3 0 3 6 9 12 \n",
    "\n"
   ]
  },
  {
   "cell_type": "code",
   "execution_count": 3,
   "metadata": {},
   "outputs": [
    {
     "name": "stdout",
     "output_type": "stream",
     "text": [
      "15 16 17 18 19 20 21 22 23 24 25 26 27 28 29 30 31 32 33 34 35 36 37 38 39 40 41 42 43 44 45 46 47 48 49 50 51 52 53 54 55 56 57 58 59 60 61 62 63 64 65 66 67 68 69 70 71 72 73 74 75 76 77 78 79 80 81 82 83 84 85 86 87 88 89 90 91 92 93 94 95 96 97 98 99 100 101 102 103 104 105 106 107 108 109 110 111 112 113 114 115 116 117 118 119 120 121 122 123 124 125 126 127 128 129 130 131 132 133 134 135 136 137 138 139 140 141 142 143 144 145 146 147 148 149 150 149 148 147 146 145 144 143 142 141 140 139 138 137 136 135 134 133 132 131 130 129 128 127 126 125 124 123 122 121 120 119 118 117 116 115 114 113 112 111 110 109 108 107 106 105 104 103 102 101 100 99 98 97 96 95 94 93 92 91 90 89 88 87 86 85 84 83 82 81 80 79 78 77 76 75 74 73 72 71 70 69 68 67 66 65 64 63 62 61 60 59 58 57 56 55 54 53 52 51 50 49 48 47 46 45 44 43 42 41 40 39 38 37 36 35 34 33 32 31 30 29 28 27 26 25 24 23 22 21 20 19 18 17 16 15 "
     ]
    }
   ],
   "source": [
    "def print_num_pattern(num1, num2):\n",
    "    \"\"\"Prints a number pattern recursively.\n",
    "\n",
    "    This function takes two numbers, num1 and num2, as input and prints a number pattern\n",
    "    recursively based on those numbers.\n",
    "\n",
    "    The pattern starts with num1 and is incremented by 1 until it reaches num2.\n",
    "    Then, it starts from num2 and is decremented by 1 until it reaches num1.\n",
    "    This process continues recursively until num1 and num2 are the same.\n",
    "\n",
    "    Args:\n",
    "        num1 (int): The starting number of the pattern.\n",
    "        num2 (int): The ending number of the pattern.\n",
    "\n",
    "    Returns:\n",
    "        None\n",
    "    \"\"\"\n",
    "\n",
    "    print(num1, end=\" \")\n",
    "\n",
    "    if num1 < num2:\n",
    "        print_num_pattern(num1 + 1, num2)\n",
    "        print(num1, end=\" \")\n",
    "    elif num1 > num2:\n",
    "        print_num_pattern(num1 - 1, num2)\n",
    "        print(num1, end=\" \")\n",
    "\n",
    "\n",
    "if __name__ == \"__main__\":\n",
    "    num1 = int(input())\n",
    "    num2 = int(input())\n",
    "    print_num_pattern(num1, num2)\n"
   ]
  },
  {
   "cell_type": "markdown",
   "metadata": {},
   "source": [
    "# 22.7 LAB: Brute force equation solver\n"
   ]
  },
  {
   "cell_type": "markdown",
   "metadata": {},
   "source": [
    "Numerous engineering and scientific applications require finding solutions to a set of equations. <br>\n",
    "Ex: 8x + 7y = 38 and 3x - 5y = -1 have a solution x = 3, y = 2.<br>\n",
    "Given integer coefficients of two linear equations with variables x and y, <br>\n",
    "use brute force to find an integer solution for x and y in the range -10 to 10.\n",
    "\n",
    "Ex: If the input is:\n",
    "\n",
    "8\n",
    "7\n",
    "38\n",
    "3\n",
    "-5\n",
    "-1\n",
    "\n",
    "Then the output is:\n",
    "\n",
    "x = 3 , y = 2\n",
    "\n",
    "Use this brute force approach:\n",
    "\n",
    "For every value of x from -10 to 10<br>\n",
    "   For every value of y from -10 to 10<br>\n",
    "      Check if the current x and y satisfy both equations.<br>\n",
    "      If so, output the solution, and finish.\n",
    "\n",
    "Ex: If no solution is found, output:"
   ]
  },
  {
   "cell_type": "markdown",
   "metadata": {},
   "source": [
    "\n",
    "> There is no solution\n",
    "\n",
    "\n",
    "Assume the two input equations have no more than one solution.\n",
    "\n",
    "__NOTE:__ Elegant mathematical techniques exist to solve such linear equations.\n",
    "- However, for other kinds of equations or situations, brute force can be handy.\n"
   ]
  },
  {
   "cell_type": "code",
   "execution_count": null,
   "metadata": {},
   "outputs": [],
   "source": [
    "\"\"\"22.7.1: LAB: Brute force equation solver\"\"\"\n",
    "\n",
    "\"\"\"First equation, ax + by = c.\"\"\"\n",
    "a = int(input()) # 8\n",
    "b = int(input()) # 7\n",
    "c = int(input()) # 38\n",
    "\n",
    "\"\"\"Read in second equation, dx + ey = f.\"\"\"\n",
    "d = int(input()) # 3\n",
    "e = int(input()) # -5\n",
    "f = int(input()) # -1\n",
    "\n",
    "for x in range(-10, 11):\n",
    "    for y in range(-10, 11):\n",
    "        if equation1(x, y) == equation2(x, y):\n",
    "            print(f\"x = {x}, y = {y}\")\n",
    "        else:\n",
    "            print('There is no solution')\n",
    "\n",
    "def equation1():\n",
    "    (a * x) + (b * y) -c == 0\n"
   ]
  },
  {
   "cell_type": "markdown",
   "metadata": {},
   "source": [
    "\n",
    "22.8 LAB: Smallest and largest numbers in a list\n",
    "\n",
    "Write a program that reads a list of integers into a list as long as the integers are greater than zero, then outputs the smallest and largest integers in the list.\n",
    "\n",
    "Ex: If the input is:\n",
    "\n",
    "10<br>\n",
    "5<br>\n",
    "3<br>\n",
    "21<br>\n",
    "2<br>\n",
    "-6<br>\n",
    "\n",
    "the output is:\n",
    "\n",
    "2 and 21\n",
    "\n",
    "You can assume that the list of integers will have at least 2 values.\n"
   ]
  },
  {
   "cell_type": "code",
   "execution_count": null,
   "metadata": {},
   "outputs": [
    {
     "name": "stdout",
     "output_type": "stream",
     "text": [
      "2 and 21\n"
     ]
    }
   ],
   "source": [
    "\"\"\"22.8.1: LAB: Smallest and largest numbers in a list.\"\"\"\n",
    "\n",
    "integers = list()\n",
    "while True:\n",
    "    x = int(input())\n",
    "    if x > 0:\n",
    "        integers.append(x)\n",
    "    else: break\n",
    "print(str(min(integers)) + \" and \" + str(max(integers)))\n"
   ]
  },
  {
   "cell_type": "markdown",
   "metadata": {},
   "source": [
    "# 22.9 LAB: Output values in a list below a user defined amount\n",
    "\n",
    "1. Write a program that first gets a list of integers from input.\n",
    " - The input begins with an integer indicating the number of integers that follow.\n",
    " - Then, get the last value from the input, which indicates a threshold.\n",
    " - Output all integers less than or equal to that last threshold value.\n",
    "\n",
    "Ex: If the input is:\n",
    "<pre>\n",
    "5\n",
    "50\n",
    "60\n",
    "140\n",
    "200\n",
    "75\n",
    "100\n",
    "</pre>\n",
    "the output is:\n",
    "\n",
    "__50,60,75,__\n",
    "\n",
    "2. The *5* indicates that there are five integers in the list,\n",
    "    - namely __50, 60, 140, 200, and 75.__\n",
    "3. The 100 indicates that the program should output\n",
    "    - all integers less than or equal to 100,\n",
    "    - so the program outputs 50, 60, and 75.\n",
    "\n",
    "+ For coding simplicity,\n",
    "  + follow every output value by a comma,\n",
    "  + __including the last one.__\n",
    "\n",
    "Such functionality is common on sites like Amazon, where a user can filter results.\n"
   ]
  },
  {
   "cell_type": "code",
   "execution_count": null,
   "metadata": {},
   "outputs": [
    {
     "name": "stdout",
     "output_type": "stream",
     "text": [
      "50,60,75,"
     ]
    }
   ],
   "source": [
    "\"\"\"22.9.1: LAB: Output values in a list below a user defined amount.\"\"\"\n",
    "\n",
    "length = int(input())\n",
    "print_list = []\n",
    "\n",
    "for i in range(length):\n",
    "    element = int(input())\n",
    "    print_list.append(element)\n",
    "\n",
    "line = int(input())\n",
    "for i in range(length):\n",
    "    if print_list[i] <= line:\n",
    "        print(print_list[i], end = ',')"
   ]
  },
  {
   "cell_type": "markdown",
   "metadata": {},
   "source": [
    "# Drawing a half arrow\n",
    "\n",
    "This program outputs a downwards facing arrow composed of a rectangle and a right triangle.<br>\n",
    "The arrow dimensions are defined by user specified\n",
    "- arrow base height,\n",
    "- arrow base width,\n",
    "- arrow head width.\n",
    "\n",
    "(1) Modify the given program to use a loop to output an arrow base of height arrow_base_height. (1 pt)\n",
    "\n",
    "(2) Modify the given program to use a loop to output an arrow base of width arrow_base_width. (1 pt)\n",
    "\n",
    "(3) Modify the given program to use a loop to output an arrow head of width arrow_head_width. (2 pts)\n",
    "\n",
    "(4) Modify the given program to only accept an arrow head width that is larger than the arrow base width.\n",
    "    Use a loop to continue prompting the user for an arrow head width until the value is larger than the arrow base width. (1 pt)\n",
    "<pre>\n",
    "while arrow_head_width <= arrow_base_width:\n",
    "    arrow_head_width = int(input('Enter arrow head width:\\n'))\n",
    "\n",
    "Example output for arrow_base_height = 5, arrow_base_width = 2, and arrow_head_width = 4:\n",
    "\n",
    "Enter arrow base height:\n",
    "5\n",
    "Enter arrow base width:\n",
    "2\n",
    "Enter arrow head width:\n",
    "4\n",
    "\n",
    "**\n",
    "**\n",
    "**\n",
    "**\n",
    "**\n",
    "****\n",
    "***\n",
    "**\n",
    "*\n",
    "\n",
    "</pre>"
   ]
  },
  {
   "cell_type": "code",
   "execution_count": null,
   "metadata": {},
   "outputs": [],
   "source": [
    "\"\"\"22.12.1: LAB*: Program: Drawing a half arrow.\"\"\"\n",
    "\n",
    "# TODO: Write recursive print_num_pattern() function\n",
    "\n",
    "arrow_base_height = int(input('Enter arrow base height:\\n'))\n",
    "\n",
    "arrow_base_width = int(input('Enter arrow base width:\\n'))\n",
    "\n",
    "arrow_head_width = int(input('Enter arrow head width:\\n'))\n",
    "\n",
    "\n",
    "while arrow_head_width <= arrow_base_width:\n",
    "    arrow_head_width = int(input('Enter arrow head width:\\n'))\n",
    "print('')\n",
    "for height in range(arrow_base_height):\n",
    "    for width in range(arrow_base_width):\n",
    "        print('*', end='')\n",
    "    print('')\n",
    "\n",
    "for width in range(arrow_head_width):\n",
    "    for head in range(arrow_head_width - width):\n",
    "        print('*', end='')\n",
    "    print('')\n",
    "\n",
    "\n",
    "if __name__ == \"__main__\":\n",
    "    num1 = int(input())\n",
    "    num2 = int(input())\n",
    "    print_num_pattern(num1, num2)"
   ]
  },
  {
   "cell_type": "markdown",
   "metadata": {},
   "source": [
    "### 29.3.1: Report country population.\n",
    "\n",
    "> Write a loop that prints each country's population in __country_pop.__\n",
    "\n",
    "Sample output with input:\n",
    "'China:1365830000,India:1247220000,United States:318463000,Indonesia:252164800':\n",
    "\n",
    "United States has 318463000 people.\n",
    "India has 1247220000 people.\n",
    "Indonesia has 252164800 people.\n",
    "China has 1365830000 people.\n",
    "\n"
   ]
  },
  {
   "cell_type": "code",
   "execution_count": null,
   "metadata": {},
   "outputs": [],
   "source": [
    "user_input = input()\n",
    "entries = user_input.split(',')\n",
    "country_pop = {}\n",
    "\n",
    "for pair in entries:\n",
    "    split_pair = pair.split(':')\n",
    "    country_pop[split_pair[0]] = split_pair[1]\n",
    "    # country_pop is a dictionary, Ex: { 'Germany':'82790000', 'France':'67190000' }\n",
    "\n",
    "\n",
    "    print(country, 'has', pop, 'people.')"
   ]
  },
  {
   "cell_type": "markdown",
   "metadata": {},
   "source": [
    "# 29.4 Dictionary nesting\n",
    "\n",
    "A dictionary may contain one or more nested dictionaries, in which the dictionary contains another dictionary as a value. Consider the following code:\n"
   ]
  },
  {
   "cell_type": "code",
   "execution_count": null,
   "metadata": {},
   "outputs": [],
   "source": [
    "### Figure 29.4.1: Nested dictionaries.\n",
    "\n",
    "students = {}\n",
    "students ['Jose'] = {'Grade': 'A+', 'StudentID': 22321}\n",
    "\n",
    "print('Jose:')\n",
    "\n",
    "print(f' Grade: {students [\"Jose\"][\"Grade\"]}')\n",
    "\n",
    "print(f' ID: {students[\"Jose\"][\"StudentID\"]}')\n",
    "# <!-- Jose:\n",
    "#  Grade: A+\n",
    "#  ID: 22321 -->\n"
   ]
  },
  {
   "cell_type": "markdown",
   "metadata": {},
   "source": [
    "\n",
    "The variable students is first created as an empty dictionary. An indexing operation creates a new entry in students with the key 'Jose' and the value of another dictionary. Indexing operations can be applied to the nested dictionary by using consecutive sets of brackets []: The expression students['Jose']['Grade'] first obtains the value of the key 'Jose' from students, yielding the nested dictionary. The second set of brackets indexes into the nested dictionary, retrieving the value of the key 'Grade'.\n",
    "\n",
    "Nested dictionaries also serve as a simple but powerful data structure. A data structure is a method of organizing data in a logical and coherent fashion. Actually, container objects like lists and dicts are already a form of a data structure, but nesting such containers provides a programmer with much more flexibility in the way that the data can be organized. Consider the simple example below that implements a gradebook using nested dictionaries to organize students and grades.\n"
   ]
  },
  {
   "cell_type": "code",
   "execution_count": null,
   "metadata": {},
   "outputs": [],
   "source": [
    "\"\"\"Figure 29.4.2: Nested dictionaries example: Storing grades.\"\"\"\n",
    "\n",
    "grades = {\n",
    "    'John Ponting': {\n",
    "        'Homeworks': [79, 80, 74],\n",
    "        'Midterm': 85,\n",
    "        'Final': 92\n",
    "    },\n",
    "    'Jacques Kallis': {\n",
    "        'Homeworks': [90, 92, 65],\n",
    "        'Midterm': 87,\n",
    "        'Final': 75\n",
    "    },\n",
    "    'Ricky Bobby': {\n",
    "        'Homeworks': [50, 52, 78],\n",
    "        'Midterm': 40,\n",
    "        'Final': 65\n",
    "    },\n",
    "}\n",
    "\n",
    "user_input = input('Enter student name: ')\n",
    "\n",
    "while user_input != 'exit':\n",
    "    if user_input in grades:\n",
    "        # Get values from nested dict\n",
    "        homeworks = grades[user_input]['Homeworks']\n",
    "        midterm = grades[user_input]['Midterm']\n",
    "        final = grades[user_input]['Final']\n",
    "\n",
    "        # print info\n",
    "        for hw, score in enumerate(homeworks):\n",
    "            \n",
    "            print(f'Homework {hw}: {score}')\n",
    "\n",
    "        \n",
    "        print(f'Midterm: {midterm}')\n",
    "        \n",
    "        print(f'Final: {final}')\n",
    "\n",
    "        # Compute student total score\n",
    "        total_points = sum([i for i in homeworks]) + midterm + final\n",
    "        \n",
    "        print(f'Final percentage: {100*(total_points / 500.0):.1f}%')\n",
    "\n",
    "    user_input = input('Enter student name: ')\n"
   ]
  },
  {
   "cell_type": "code",
   "execution_count": null,
   "metadata": {},
   "outputs": [],
   "source": [
    "\t\n",
    "''' \n",
    "Enter student name: Ricky Bobby\n",
    "Homework 0: 50\n",
    "Homework 1: 52\n",
    "Homework 2: 78\n",
    "Midterm: 40\n",
    "Final: 65\n",
    "Final percentage: 57.0%\n",
    "....\n",
    "Enter student name: John Ponting\n",
    "Homework 0: 79\n",
    "Homework 1: 80\n",
    "Homework 2: 74\n",
    "Midterm: 85\n",
    "Final: 92\n",
    "Final percentage: 82.0%\n",
    "'''\n"
   ]
  },
  {
   "cell_type": "markdown",
   "metadata": {},
   "source": [
    "\n",
    "Note the whitespace and indentation used to layout the nested dictionaries. Such layout improves the readability of the code and makes the hierarchy of the data structure obvious. The extra whitespace does not affect the dict elements, as the interpreter ignores indentation in a multi-line construct.\n",
    "\n",
    "A benefit of using nested dictionaries is that the code tends to be more readable, especially if the keys are a category like 'Homeworks'. Alternatives like nested lists tend to require more code, consisting of more loops constructs and variables.\n",
    "\n",
    "Dictionaries support arbitrary levels of nesting; Ex: The expression students['Jose']['Homeworks'][2]['Grade'] might be applied to a dictionary that has four levels of nesting.\n"
   ]
  },
  {
   "cell_type": "markdown",
   "metadata": {},
   "source": [
    "zyDE 29.4.1: Nested dictionaries example: Music library.\n",
    "===\n",
    "\n",
    "The following example demonstrates a program that uses 3 levels of nested dictionaries to create a simple music library.\n",
    "\n",
    "The following program uses nested dictionaries to store a small music library. Extend the program such that a user can add artists, albums, and songs to the library. First, add a command that adds an artist name to the music dictionary. Then add commands for adding albums and songs. Take care to check that an artist exists in the dictionary before adding an album, and that an album exists before adding a song.\n"
   ]
  },
  {
   "cell_type": "code",
   "execution_count": null,
   "metadata": {},
   "outputs": [],
   "source": [
    "music = {\n",
    "    'Pink Floyd': {\n",
    "        'The Dark Side of the Moon': {\n",
    "            'songs': [ 'Speak to Me', 'Breathe', 'On the Run', 'Money'],\n",
    "            'year': 1973,\n",
    "            'platinum': True\n",
    "        },\n",
    "        'The Wall': {\n",
    "            'songs': [ 'Another Brick in the Wall', 'Mother', 'Hey you'],\n",
    "            'year': 1979,\n",
    "            'platinum': True\n",
    "        }\n",
    "    },\n",
    "    'Justin Bieber': {\n",
    "        'My World':{\n",
    "            'songs': ['One Time', 'Bigger', 'Love Me'],\n",
    "            'year': 2010,\n",
    "            'platinum': True\n",
    "        }\n",
    "    }\n",
    "}\n",
    "\n",
    "# Get user input\n",
    "\n",
    "# While user input != 'exit'\n",
    "    # ....\n"
   ]
  },
  {
   "cell_type": "markdown",
   "metadata": {},
   "source": [
    "## 22.3 LAB: Password modifier\n",
    "\n",
    "Many user-created passwords are simple and easy to guess. <br>\n",
    "Write a program that takes a simple password and makes it stronger<br>\n",
    "    by replacing characters using the key below,<br>\n",
    "    and by appending \"!\" to the end of the input string.\n",
    "\n",
    "<pre>\n",
    "1. i   becomes  1\n",
    "2. a   becomes  @\n",
    "3. m   becomes  M\n",
    "4. B   becomes  8\n",
    "5. s   becomes  $\n",
    "</pre>\n",
    "\n",
    "Ex: If the input is:\n",
    "__mypassword__\n",
    "\n",
    "the output is:\n",
    "__Myp@$$word!__\n",
    "\n",
    "__Hint:__ Python strings are immutable, but support string concatenation.<br>\n",
    "          Store and build the stronger password in the given password variable.\n"
   ]
  },
  {
   "cell_type": "code",
   "execution_count": null,
   "metadata": {},
   "outputs": [],
   "source": [
    "\"\"\"22.3.1: LAB: Password modifier.\"\"\"\n",
    "\n",
    "word = input()\n",
    "password = ''\n",
    "for i in word:\n",
    "    if i == 'i':\n",
    "        password += '1'\n",
    "    elif i == 'a':\n",
    "        password += '@'\n",
    "    elif i == 'm':\n",
    "        password += 'M'\n",
    "    elif i == 'B':\n",
    "        password += '8'\n",
    "    elif i == 's':\n",
    "        password += '$'\n",
    "    else:\n",
    "        password += i\n",
    "\n",
    "password = password + '!'\n",
    "print(password)\n"
   ]
  },
  {
   "cell_type": "markdown",
   "metadata": {},
   "source": [
    "16.8 LAB*: Program: Automobile service invoice\n",
    "\n",
    "(1) Output a menu of automotive services and the corresponding cost of each service. (2 pts)\n",
    "\n",
    "Ex:\n",
    "\n",
    "Davy's auto shop services\n",
    "Oil change -- $35\n",
    "Tire rotation -- $19\n",
    "Car wash -- $7\n",
    "Car wax -- $12\n",
    "\n",
    "\n",
    "\n",
    "(2) Prompt the user for two services from the menu. (2 pts)\n",
    "\n",
    "Ex:\n",
    "\n",
    "Select first service:\n",
    "Oil change\n",
    "Select second service:\n",
    "Car wax\n",
    "\n",
    "\n",
    "\n",
    "(3) Output an invoice for the services selected. Output the cost for each service and the total cost. (3 pts)\n",
    "\n",
    "Davy's auto shop invoice\n",
    "\n",
    "Service 1: Oil change, $35\n",
    "Service 2: Car wax, $12\n",
    "\n",
    "Total: $47\n",
    "\n",
    "\n",
    "\n",
    "(4) Extend the program to allow the user to enter a dash (-), which indicates no service. (3 pts)\n",
    "\n",
    "Ex:\n",
    "\n",
    "Davy's auto shop services\n",
    "Oil change -- $35\n",
    "Tire rotation -- $19\n",
    "Car wash -- $7\n",
    "Car wax -- $12\n",
    "\n",
    "Select first service:\n",
    "Tire rotation\n",
    "Select second service:\n",
    "-\n",
    "\n",
    "Davy's auto shop invoice\n",
    "\n",
    "Service 1: Tire rotation, $19\n",
    "Service 2: No service\n",
    "\n",
    "Total: $19\n"
   ]
  },
  {
   "cell_type": "code",
   "execution_count": null,
   "metadata": {},
   "outputs": [],
   "source": [
    "\"\"\"16.8 LAB*: Program: Automobile service invoice.\"\"\"\n",
    "\n",
    "cost1 = []\n",
    "def service_1(service1):\n",
    "    \"\"\"Car service number 1.\"\"\"\n",
    "    service_cost_1 = {'oil_change': int(35), 'tire_rotation': int(19), 'car_wash': int(7), 'car_wax': int(12)}\n",
    "    if service1 == 'Oil change':\n",
    "        cost1.append(int(35))\n",
    "        print(f\"Service 1: {service1}, ${service_cost_1['oil_change']}\")\n",
    "    elif service1 == 'Tire rotation':\n",
    "        cost1.append(int(19))\n",
    "        print(f\"Service 1: {service1}, ${service_cost_1['tire_rotation']}\")\n",
    "    elif service1 == 'Car wash':\n",
    "        cost1.append(int(7))\n",
    "        print(f\"Service 1: {service1}, ${service_cost_1['car_wash']}\")\n",
    "    elif service1 == 'Car wax':\n",
    "        cost1.append(int(12))\n",
    "        print(f\"Service 1: {service1}, ${service_cost_1['car_wax']}\")\n",
    "    elif service1 == '-':\n",
    "        cost1.append(int(0))\n",
    "        print(\"Service 1: No service\")\n",
    "    return cost1\n",
    "\n",
    "cost2 = []\n",
    "def service_2(service2):\n",
    "    \"\"\"Second car service.\"\"\"\n",
    "    service_cost_2 = {'oil_change': int(35), 'tire_rotation': int(19), 'car_wash': int(7), 'car_wax': int(12)}\n",
    "    if service2 == 'Oil change':\n",
    "        cost2.append(int(35))\n",
    "        print(f\"Service 2: {service2}, ${service_cost_2['oil_change']}\")\n",
    "    elif service2 == 'Tire rotation':\n",
    "        cost2.append(int(19))\n",
    "        print(f\"Service 2: {service2}, ${service_cost_2['tire_rotation']}\")\n",
    "    elif service2 == 'Car wash':\n",
    "        cost2.append(int(7))\n",
    "        print(f\"Service 2: {service2}, ${service_cost_2['car_wash']}\")\n",
    "    elif service2 == 'Car wax':\n",
    "        cost2.append(int(12))\n",
    "        print(f\"Service 2: {service2}, ${service_cost_2['car_wax']}\")\n",
    "    elif service2 == '-':\n",
    "        print(\"Service 2: No service\")\n",
    "        cost2.append(int(0))\n",
    "    return cost2\n",
    "\n",
    "\n",
    "print(\"Davy's auto shop services\")\n",
    "print(\"Oil change -- $35\")\n",
    "print(\"Tire rotation -- $19\")\n",
    "print(\"Car wash -- $7\")\n",
    "print(\"Car wax -- $12\\n\")\n",
    "print(\"Select first service:\")\n",
    "print(\"Select second service:\\n\")\n",
    "\n",
    "service1 = input()\n",
    "service2 = input()\n",
    "\n",
    "print(\"Davy's auto shop invoice\\n\")\n",
    "\n",
    "service_1(service1)\n",
    "service_2(service2)\n",
    "\n",
    "total = [x + y for x, y in zip(cost1, cost2)]\n",
    "print(f\"\\nTotal: ${total[0]}\")\n"
   ]
  },
  {
   "cell_type": "markdown",
   "metadata": {},
   "source": [
    "\n",
    "16.7 LAB: Warm up: Automobile service cost\n",
    "\n",
    "(1) Prompt the user for an automobile service. Output the user's input. (1 pt)\n",
    "\n",
    "Ex:\n",
    "\n",
    "Enter desired auto service:\n",
    "Oil change\n",
    "You entered: Oil change\n",
    "\n",
    "\n",
    "(2) Output the price of the requested service. (4 pts)\n",
    "\n",
    "Ex:\n",
    "\n",
    "Enter desired auto service:\n",
    "> Oil change\n",
    "\n",
    "You entered: Oil change\n",
    "Cost of oil change: $35\n",
    "\n",
    "\n",
    "The program should support the following services (all integers):\n",
    "\n",
    "    Oil change -- $35\n",
    "    Tire rotation -- $19\n",
    "    Car wash -- $7\n",
    "\n",
    "If the user enters a service that is not listed above, then output the following error message:\n",
    "\n",
    "Error: Requested service is not recognized\n",
    "\n"
   ]
  },
  {
   "cell_type": "code",
   "execution_count": null,
   "metadata": {},
   "outputs": [],
   "source": [
    "\"\"\"16.7.1: LAB: Warm up: Automobile service cost\"\"\"\n",
    "\n",
    "oil_cost = int(35)\n",
    "tire_cost = int(19)\n",
    "car_wash_cost = int(7)\n",
    "\n",
    "print(\"Enter desired auto service:\")\n",
    "car_service = input()\n",
    "print(f\"You entered: {car_service}\")\n",
    "\n",
    "if car_service == 'Oil change':\n",
    "    print(f'Cost of {car_service.lower()}: ${oil_cost}')\n",
    "elif car_service == 'Tire rotation':\n",
    "    print(f'Cost of {car_service.lower()}: ${tire_cost}')\n",
    "elif car_service == 'Car wash':\n",
    "    print(f'Cost of {car_service.lower()}: ${car_wash_cost}')\n",
    "else:\n",
    "    print('Error: Requested service is not recognized')\n",
    "\n",
    "# You entered: Oil change\n",
    "# Cost of oil change: $35\n"
   ]
  },
  {
   "cell_type": "markdown",
   "metadata": {},
   "source": [
    "\n",
    "16.6 LAB: Leap year\n",
    "\n",
    "A year in the modern Gregorian Calendar consists of 365 days. In reality, the earth takes longer to rotate around the sun. To account for the difference in time, every 4 years, a leap year takes place. A leap year is when a year has 366 days: An extra day, February 29th. The requirements for a given year to be a leap year are:\n",
    "\n",
    "1) The year must be divisible by 4\n",
    "\n",
    "2) If the year is a century year (1700, 1800, etc.), the year must be evenly divisible by 400\n",
    "\n",
    "Some example leap years are 1600, 1712, and 2016.\n",
    "\n",
    "Write a program that takes in a year and determines whether that year is a leap year.\n",
    "\n",
    "Ex: If the input is:\n",
    "\n",
    "1712\n",
    "\n",
    "the output is:\n",
    "\n",
    "1712 - leap year\n",
    "\n",
    "Ex: If the input is:\n",
    "\n",
    "1913\n",
    "\n",
    "the output is:\n",
    "\n",
    "1913 - not a leap year\n",
    "\n"
   ]
  },
  {
   "cell_type": "code",
   "execution_count": null,
   "metadata": {},
   "outputs": [],
   "source": [
    "\"\"\"16.6.1: LAB: Leap year\"\"\"\n",
    "\n",
    "is_leap_year = False\n",
    "   \n",
    "input_year = int(input())\n",
    "\n",
    "''' Type your code here. '''\n",
    "\n",
    "if (input_year % 4 == 0 and input_year % 100 != 0) or (input_year % 400 == 0):\n",
    "    print(f\"{input_year} - leap year\")\n",
    "else:\n",
    "    print(f\"{input_year} - not a leap year\")\n"
   ]
  },
  {
   "cell_type": "markdown",
   "metadata": {},
   "source": [
    "16.4 LAB: Seasons\n",
    "\n",
    "1. Write a program that takes a date as input and outputs the date's season in the northern hemisphere.\n",
    "The input is a string to represent the month and an int to represent the day.\n",
    "\n",
    "Ex: If the input is:\n",
    "\n",
    "> April\n",
    "> 11\n",
    "\n",
    "the output is:\n",
    "\n",
    "> Spring\n",
    "\n",
    "NOTE: In addition, check if the string and int are valid (an actual month and day).\n",
    "\n",
    "Ex: If the input is:\n",
    "\n",
    "> Blue\n",
    "> 65\n",
    "\n",
    "the output is:\n",
    "\n",
    "> Invalid \n",
    "\n",
    "The dates for each season in the northern hemisphere are: </br>\n",
    "- Spring: March 20 - June 20\n",
    "- Summer: June 21 - September 21\n",
    "- Autumn: September 22 - December 20\n",
    "- Winter: December 21 - March 19\n"
   ]
  },
  {
   "cell_type": "code",
   "execution_count": null,
   "metadata": {},
   "outputs": [],
   "source": [
    "\"\"\"16.4.1: LAB: Seasons.\"\"\"\n",
    "\n",
    "winter = ([\"December\", \"January\", \"February\", \"March\"]).lower()\n",
    "spring = ([\"March\", \"April\", \"May\", \"June\"]).lower()\n",
    "summer = ([\"June\", \"July\", \"August\", \"September\"]).lower()\n",
    "fall = ([\"September\", \"October\", \"November\", \"December\"]).lower()\n",
    "month_days = {'january': 31, 'february': 29, 'march': 31, 'april': 30, 'may': 31, 'june': 30, 'july': 31, 'august': 31, 'september': 30, 'october': 31, 'november': 30, 'december':31}\n",
    "\n",
    "\n",
    "input_month = input()\n",
    "input_day = int(input())\n",
    "\n",
    "def season(input_month, input_day):\n",
    "    \"\"\"Returns the season based on a month and a day.\n",
    "\n",
    "    Args:\n",
    "        input_month (_type_): _description_\n",
    "        input_day (_type_): _description_\n",
    "    \"\"\"\n",
    "    for month in list(month_days.keys()):\n",
    "        if \n",
    "\n"
   ]
  },
  {
   "cell_type": "markdown",
   "metadata": {},
   "source": [
    "## 12.6 LAB: Warm up: Creating passwords.\n",
    "(1)\n",
    "1. Prompt the user to enter __two words and a number__, storing *each* into separate variables.\n",
    "1. Then, output those three values on a single line separated by a space. (Submit for 1 point)\n"
   ]
  },
  {
   "cell_type": "code",
   "execution_count": null,
   "metadata": {},
   "outputs": [
    {
     "data": {
      "text/plain": [
       "'\\nyellow\\nDaisy\\n6\\n'"
      ]
     },
     "metadata": {},
     "output_type": "display_data"
    }
   ],
   "source": [
    "# Ex: If the input is:\n",
    "'''\n",
    "yellow\n",
    "Daisy\n",
    "6\n",
    "'''\n"
   ]
  },
  {
   "cell_type": "markdown",
   "metadata": {},
   "source": [
    "##### the output after the prompts is:"
   ]
  },
  {
   "cell_type": "code",
   "execution_count": null,
   "metadata": {},
   "outputs": [
    {
     "data": {
      "text/plain": [
       "'You entered: yellow Daisy 6'"
      ]
     },
     "metadata": {},
     "output_type": "display_data"
    }
   ],
   "source": [
    "'You entered: yellow Daisy 6'"
   ]
  },
  {
   "cell_type": "markdown",
   "metadata": {},
   "source": [
    "#### Note: User input is not part of the program output."
   ]
  },
  {
   "cell_type": "markdown",
   "metadata": {},
   "source": [
    "- (2)\n",
    "    Output two passwords using a combination of the user input.<br>\n",
    "    Format the passwords as shown below. <br>\n",
    "        __(Submit for 2 points, so 3 points total).__\n"
   ]
  },
  {
   "cell_type": "code",
   "execution_count": null,
   "metadata": {},
   "outputs": [
    {
     "data": {
      "text/plain": [
       "'You entered: yellow Daisy 6\\n\\nFirst password: yellow_Daisy\\nSecond password: 6yellow6'"
      ]
     },
     "metadata": {},
     "output_type": "display_data"
    }
   ],
   "source": [
    "# Ex: If the input is:\n",
    "'''\n",
    "yellow\n",
    "Daisy\n",
    "6\n",
    "'''\n",
    "# the output after the prompts is:\n",
    "'''You entered: yellow Daisy 6\n",
    "\n",
    "First password: yellow_Daisy\n",
    "Second password: 6yellow6'''\n"
   ]
  },
  {
   "cell_type": "markdown",
   "metadata": {},
   "source": [
    "- (3) Output the length of each password\n",
    "     (the number of characters in the strings).\n",
    "     (Submit for 2 points, so 5 points total).\n",
    "\n",
    "----------------------------------------------------\n",
    "\n",
    "Ex: If the input is:"
   ]
  },
  {
   "cell_type": "code",
   "execution_count": null,
   "metadata": {},
   "outputs": [
    {
     "data": {
      "text/plain": [
       "'\\nyellow\\nDaisy\\n6\\n'"
      ]
     },
     "metadata": {},
     "output_type": "display_data"
    }
   ],
   "source": [
    "'''\n",
    "yellow\n",
    "Daisy\n",
    "6\n",
    "'''\n"
   ]
  },
  {
   "cell_type": "markdown",
   "metadata": {},
   "source": [
    "--------------"
   ]
  },
  {
   "cell_type": "code",
   "execution_count": null,
   "metadata": {},
   "outputs": [
    {
     "data": {
      "text/plain": [
       "'\\nYou entered: yellow Daisy 6\\n\\nFirst password: yellow_Daisy\\nSecond password: 6yellow6\\n\\nNumber of characters in yellow_Daisy: 12\\nNumber of characters in 6yellow6: 8\\n'"
      ]
     },
     "metadata": {},
     "output_type": "display_data"
    }
   ],
   "source": [
    "# the output after the prompts is:\n",
    "\"\"\"\n",
    "You entered: yellow Daisy 6\n",
    "\n",
    "First password: yellow_Daisy\n",
    "Second password: 6yellow6\n",
    "\n",
    "Number of characters in yellow_Daisy: 12\n",
    "Number of characters in 6yellow6: 8\n",
    "\"\"\"\n"
   ]
  },
  {
   "cell_type": "markdown",
   "metadata": {},
   "source": [
    "-------------------------------------------------------------------------------------------------------\n",
    "                            MAIN.py\n"
   ]
  },
  {
   "cell_type": "code",
   "execution_count": null,
   "metadata": {},
   "outputs": [
    {
     "ename": "KeyboardInterrupt",
     "evalue": "Interrupted by user",
     "output_type": "error",
     "traceback": [
      "\u001b[1;31m---------------------------------------------------------------------------\u001b[0m\n",
      "\u001b[1;31mKeyboardInterrupt\u001b[0m                         Traceback (most recent call last)\n",
      "\u001b[1;32md:\\Repositories\\CS351\\VL03\\lab03_2.ipynb Cell 13'\u001b[0m in \u001b[0;36m<cell line: 3>\u001b[1;34m()\u001b[0m\n",
      "\u001b[0;32m      <a href='vscode-notebook-cell:/d%3A/Repositories/CS351/VL03/lab03_2.ipynb#ch0000015?line=0'>1</a>\u001b[0m \u001b[39m# FIXME (1): Finish reading another word and an integer into variables. \u001b[39;00m\n",
      "\u001b[0;32m      <a href='vscode-notebook-cell:/d%3A/Repositories/CS351/VL03/lab03_2.ipynb#ch0000015?line=1'>2</a>\u001b[0m \u001b[39m# Output all the values on a single line\u001b[39;00m\n",
      "\u001b[1;32m----> <a href='vscode-notebook-cell:/d%3A/Repositories/CS351/VL03/lab03_2.ipynb#ch0000015?line=2'>3</a>\u001b[0m favorite_color \u001b[39m=\u001b[39m \u001b[39minput\u001b[39;49m(\u001b[39m'\u001b[39;49m\u001b[39mEnter favorite color:\u001b[39;49m\u001b[39m\\n\u001b[39;49;00m\u001b[39m'\u001b[39;49m)\n",
      "\u001b[0;32m      <a href='vscode-notebook-cell:/d%3A/Repositories/CS351/VL03/lab03_2.ipynb#ch0000015?line=5'>6</a>\u001b[0m \u001b[39m# FIXME (2): Output two password options\u001b[39;00m\n",
      "\u001b[0;32m      <a href='vscode-notebook-cell:/d%3A/Repositories/CS351/VL03/lab03_2.ipynb#ch0000015?line=6'>7</a>\u001b[0m password1 \u001b[39m=\u001b[39m favorite_color\n",
      "\n",
      "File \u001b[1;32m~\\AppData\\Roaming\\Python\\Python310\\site-packages\\ipykernel\\kernelbase.py:1159\u001b[0m, in \u001b[0;36mKernel.raw_input\u001b[1;34m(self, prompt)\u001b[0m\n",
      "\u001b[0;32m   <a href='file:///c%3A/Users/Thaddeus%20Maximus/AppData/Roaming/Python/Python310/site-packages/ipykernel/kernelbase.py?line=1154'>1155</a>\u001b[0m \u001b[39mif\u001b[39;00m \u001b[39mnot\u001b[39;00m \u001b[39mself\u001b[39m\u001b[39m.\u001b[39m_allow_stdin:\n",
      "\u001b[0;32m   <a href='file:///c%3A/Users/Thaddeus%20Maximus/AppData/Roaming/Python/Python310/site-packages/ipykernel/kernelbase.py?line=1155'>1156</a>\u001b[0m     \u001b[39mraise\u001b[39;00m StdinNotImplementedError(\n",
      "\u001b[0;32m   <a href='file:///c%3A/Users/Thaddeus%20Maximus/AppData/Roaming/Python/Python310/site-packages/ipykernel/kernelbase.py?line=1156'>1157</a>\u001b[0m         \u001b[39m\"\u001b[39m\u001b[39mraw_input was called, but this frontend does not support input requests.\u001b[39m\u001b[39m\"\u001b[39m\n",
      "\u001b[0;32m   <a href='file:///c%3A/Users/Thaddeus%20Maximus/AppData/Roaming/Python/Python310/site-packages/ipykernel/kernelbase.py?line=1157'>1158</a>\u001b[0m     )\n",
      "\u001b[1;32m-> <a href='file:///c%3A/Users/Thaddeus%20Maximus/AppData/Roaming/Python/Python310/site-packages/ipykernel/kernelbase.py?line=1158'>1159</a>\u001b[0m \u001b[39mreturn\u001b[39;00m \u001b[39mself\u001b[39;49m\u001b[39m.\u001b[39;49m_input_request(\n",
      "\u001b[0;32m   <a href='file:///c%3A/Users/Thaddeus%20Maximus/AppData/Roaming/Python/Python310/site-packages/ipykernel/kernelbase.py?line=1159'>1160</a>\u001b[0m     \u001b[39mstr\u001b[39;49m(prompt),\n",
      "\u001b[0;32m   <a href='file:///c%3A/Users/Thaddeus%20Maximus/AppData/Roaming/Python/Python310/site-packages/ipykernel/kernelbase.py?line=1160'>1161</a>\u001b[0m     \u001b[39mself\u001b[39;49m\u001b[39m.\u001b[39;49m_parent_ident[\u001b[39m\"\u001b[39;49m\u001b[39mshell\u001b[39;49m\u001b[39m\"\u001b[39;49m],\n",
      "\u001b[0;32m   <a href='file:///c%3A/Users/Thaddeus%20Maximus/AppData/Roaming/Python/Python310/site-packages/ipykernel/kernelbase.py?line=1161'>1162</a>\u001b[0m     \u001b[39mself\u001b[39;49m\u001b[39m.\u001b[39;49mget_parent(\u001b[39m\"\u001b[39;49m\u001b[39mshell\u001b[39;49m\u001b[39m\"\u001b[39;49m),\n",
      "\u001b[0;32m   <a href='file:///c%3A/Users/Thaddeus%20Maximus/AppData/Roaming/Python/Python310/site-packages/ipykernel/kernelbase.py?line=1162'>1163</a>\u001b[0m     password\u001b[39m=\u001b[39;49m\u001b[39mFalse\u001b[39;49;00m,\n",
      "\u001b[0;32m   <a href='file:///c%3A/Users/Thaddeus%20Maximus/AppData/Roaming/Python/Python310/site-packages/ipykernel/kernelbase.py?line=1163'>1164</a>\u001b[0m )\n",
      "\n",
      "File \u001b[1;32m~\\AppData\\Roaming\\Python\\Python310\\site-packages\\ipykernel\\kernelbase.py:1201\u001b[0m, in \u001b[0;36mKernel._input_request\u001b[1;34m(self, prompt, ident, parent, password)\u001b[0m\n",
      "\u001b[0;32m   <a href='file:///c%3A/Users/Thaddeus%20Maximus/AppData/Roaming/Python/Python310/site-packages/ipykernel/kernelbase.py?line=1197'>1198</a>\u001b[0m             \u001b[39mbreak\u001b[39;00m\n",
      "\u001b[0;32m   <a href='file:///c%3A/Users/Thaddeus%20Maximus/AppData/Roaming/Python/Python310/site-packages/ipykernel/kernelbase.py?line=1198'>1199</a>\u001b[0m \u001b[39mexcept\u001b[39;00m \u001b[39mKeyboardInterrupt\u001b[39;00m:\n",
      "\u001b[0;32m   <a href='file:///c%3A/Users/Thaddeus%20Maximus/AppData/Roaming/Python/Python310/site-packages/ipykernel/kernelbase.py?line=1199'>1200</a>\u001b[0m     \u001b[39m# re-raise KeyboardInterrupt, to truncate traceback\u001b[39;00m\n",
      "\u001b[1;32m-> <a href='file:///c%3A/Users/Thaddeus%20Maximus/AppData/Roaming/Python/Python310/site-packages/ipykernel/kernelbase.py?line=1200'>1201</a>\u001b[0m     \u001b[39mraise\u001b[39;00m \u001b[39mKeyboardInterrupt\u001b[39;00m(\u001b[39m\"\u001b[39m\u001b[39mInterrupted by user\u001b[39m\u001b[39m\"\u001b[39m) \u001b[39mfrom\u001b[39;00m \u001b[39mNone\u001b[39m\n",
      "\u001b[0;32m   <a href='file:///c%3A/Users/Thaddeus%20Maximus/AppData/Roaming/Python/Python310/site-packages/ipykernel/kernelbase.py?line=1201'>1202</a>\u001b[0m \u001b[39mexcept\u001b[39;00m \u001b[39mException\u001b[39;00m:\n",
      "\u001b[0;32m   <a href='file:///c%3A/Users/Thaddeus%20Maximus/AppData/Roaming/Python/Python310/site-packages/ipykernel/kernelbase.py?line=1202'>1203</a>\u001b[0m     \u001b[39mself\u001b[39m\u001b[39m.\u001b[39mlog\u001b[39m.\u001b[39mwarning(\u001b[39m\"\u001b[39m\u001b[39mInvalid Message:\u001b[39m\u001b[39m\"\u001b[39m, exc_info\u001b[39m=\u001b[39m\u001b[39mTrue\u001b[39;00m)\n",
      "\n",
      "\u001b[1;31mKeyboardInterrupt\u001b[0m: Interrupted by user"
     ]
    }
   ],
   "source": [
    "# FIXME (1): Finish reading another word and an integer into variables. \n",
    "# Output all the values on a single line\n",
    "favorite_color = input('Enter favorite color:\\n')\n",
    "\n",
    "\n",
    "# FIXME (2): Output two password options\n",
    "password1 = favorite_color\n",
    "print('\\nFirst password:')\n",
    "\n",
    "\n",
    "# FIXME (3): Output the length of the two password options\n"
   ]
  },
  {
   "cell_type": "markdown",
   "metadata": {},
   "source": [
    "## Unit tests to evaluate your program.\n",
    "\n",
    "In Python labs, the line if `__name__ == '__main__':` is used to separate\n",
    "    the main code from the functions' code so that each function can be unit tested.\n",
    "> This example lab uses multiple unit tests to test the kilo_to_pounds() function.\n",
    "> Complete a program that takes a weight in kilograms as input,\n",
    "> converts the weight to pounds,\n",
    "> and then outputs the weight in pounds.\n",
    "- 1 kilogram = 2.204 pounds (lbs)\n",
    "\n",
    "Ex: If the input is:\n",
    "> 10\n",
    "\n",
    "the output is:\n",
    "> 22.040000000000003 lbs\n",
    "\n",
    "\n",
    "### NOTE: Your program must define the function\n",
    "+ `def kilo_to_pounds(kilos)`\n",
    "\n",
    "1. The program below has an error in the __`kilo_to_pounds()` function.__\n",
    "    1. The first test case fails because the program outputs the result from the kilo_to_pounds() function, which has an error.\n",
    "    2. The second test case uses a Unit test to test the kilo_to_pounds() function, which fails.\n",
    "    3. Change the kilo_to_pounds() function to multiply the variable kilos by 2.204, instead of dividing.\n",
    "    4. The return statement should be: return (kilos * 2.204); \n",
    "        + Submit again.\n",
    "        + __Now the test cases should all pass.__\n",
    "\n",
    "__NOTE:__ A common error is to mistype a function name with the incorrect capitalization.\n",
    "Function names are case sensitive,\n",
    "so if a lab program asks for a *kilo_to_pounds() function,*\n",
    "a kilo_To_Pounds() function that works for you in develop mode\n",
    "     will result in a failed unit test\n",
    "(the unit test will not be able to find kilo_to_pounds()).\n"
   ]
  },
  {
   "cell_type": "code",
   "execution_count": null,
   "metadata": {},
   "outputs": [],
   "source": []
  },
  {
   "cell_type": "markdown",
   "metadata": {},
   "source": [
    "## 6.1.2 Assigning a Sum"
   ]
  },
  {
   "cell_type": "code",
   "execution_count": null,
   "metadata": {},
   "outputs": [
    {
     "name": "stdout",
     "output_type": "stream",
     "text": [
      "30\n"
     ]
    }
   ],
   "source": [
    "total_coins = 0\n",
    "\n",
    "nickel_count = int(input())\n",
    "dime_count = int(input())\n",
    "\n",
    "''' Your solution goes here '''\n",
    "total_coins = nickel_count + dime_count \n",
    "print(total_coins)"
   ]
  },
  {
   "cell_type": "markdown",
   "metadata": {},
   "source": [
    "## 6.1.3 Multiplying the Current value of a variable"
   ]
  },
  {
   "cell_type": "code",
   "execution_count": null,
   "metadata": {},
   "outputs": [
    {
     "name": "stdout",
     "output_type": "stream",
     "text": [
      "100\n"
     ]
    }
   ],
   "source": [
    "cell_count = int(input())\n",
    "\n",
    "''' Your solution goes here '''\n",
    "cell_count = cell_count * 10\n",
    "print(cell_count)"
   ]
  },
  {
   "cell_type": "markdown",
   "metadata": {},
   "source": [
    "## Energy to mass conversion."
   ]
  },
  {
   "cell_type": "markdown",
   "metadata": {},
   "source": [
    "Albert Einstein's equation E = mc2 is likely the most widely known mathematical formula. The equation describes the mass-energy equivalence, which states that the mass (amount of matter) m of a body is directly related to the amount of energy E of the body, connected via a constant value c2, the speed of light squared. The significance of the equation is that matter can be converted to energy, (and theoretically, energy back to matter). The mass-energy equivalence equation can be used to calculate the energy released in nuclear reactions, such as nuclear fission or nuclear fusion, which form the basis of modern technologies like nuclear weapons and nuclear power plants.\n",
    "\n",
    "The following program reads in a mass in kilograms and prints the amount of energy stored in the mass. Also printed is the equivalent numbers of AA batteries and tons of TNT.\n",
    "\n",
    "```bash\n",
    "Total energy released: 8987551787368176.0 Joules\n",
    "Which is as much energy as:\n",
    "   2080211037465.149 AA batteries\n",
    "   2148076.4310153383 tons of TNT\n",
    "```"
   ]
  },
  {
   "cell_type": "code",
   "execution_count": null,
   "metadata": {},
   "outputs": [],
   "source": [
    "c_meters_per_sec = 299792458  # Speed of light (m/s)\n",
    "joules_per_AA_battery = 4320.5  # Nickel-Cadmium AA batteries\n",
    "joules_per_TNT_ton = 4.184e9\n",
    "\n",
    "#Read in a floating-point number from the user\n",
    "mass_kg = float(input())\n",
    "\n",
    "#Compute E = mc2.\n",
    "energy_joules = mass_kg * (c_meters_per_sec**2)  # E = mc^2\n",
    "print('Total energy released:', energy_joules, 'Joules')\n",
    "\n",
    "#Calculate equivalent number of AA and tons of TNT.\n",
    "num_AA_batteries = energy_joules / joules_per_AA_battery\n",
    "num_TNT_tons = energy_joules / joules_per_TNT_ton\n",
    "\n",
    "print('Which is as much energy as:')\n",
    "print('  ', num_AA_batteries, 'AA batteries')\n",
    "print('  ', num_TNT_tons, 'tons of TNT')"
   ]
  },
  {
   "cell_type": "markdown",
   "metadata": {},
   "source": [
    "## Gallons of paint needed to paint walls."
   ]
  },
  {
   "cell_type": "markdown",
   "metadata": {},
   "source": [
    "Finish the program to compute how many gallons of paint are needed to cover the given square feet of walls.\n",
    "- Assume 1 gallon can cover 350.0 square feet. \n",
    "- So gallons = the square feet divided by 350.0. \n",
    "- If the input is 250.0, the output should be:\n",
    "\n",
    "`0.714285714286`\n",
    "\n",
    "Note: Do not format the output."
   ]
  },
  {
   "cell_type": "code",
   "execution_count": null,
   "metadata": {},
   "outputs": [],
   "source": [
    "wall_area = float(input())\n",
    "\n",
    "# Assign gallons_paint below\n",
    "gallon = 350.0\n",
    "''' Your solution goes here '''\n",
    "gallons_paint = wall_area/gallon\n",
    "print(gallons_paint)"
   ]
  },
  {
   "cell_type": "markdown",
   "metadata": {},
   "source": [
    "## Compute change"
   ]
  },
  {
   "cell_type": "markdown",
   "metadata": {},
   "source": [
    "A cashier distributes change using the maximum number of five-dollar bills, followed by one-dollar bills.<br>\n",
    "Write a single statement that assigns num_ones with the number of distributed one-dollar bills given amount_to_change. Hint: Use %.\n",
    "\n",
    "Sample output with input: 19\n",
    "\n",
    "---\n",
    "\n",
    "Change for $ 19 <br>\n",
    "3 five dollar bill(s) and 4 one dollar bill(s)"
   ]
  },
  {
   "cell_type": "code",
   "execution_count": null,
   "metadata": {},
   "outputs": [],
   "source": [
    "amount_to_change = int(input())\n",
    "\n",
    "num_fives = amount_to_change // 5\n",
    "\n",
    "''' Your solution goes here '''\n",
    "num_ones = amount_to_change % 5\n",
    "print('Change for $', amount_to_change)\n",
    "print(num_fives, 'five dollar bill(s) and', num_ones, 'one dollar bill(s)')"
   ]
  },
  {
   "cell_type": "markdown",
   "metadata": {},
   "source": [
    "## Using math functions\n",
    "\n",
    "Given three floating-point numbers x, y, and z, output x to the power of z, x to the power of (y to the power of z), the absolute value of (x minus y), and the square root of (x to the power of z).\n",
    "\n",
    "Output each floating-point value with two digits after the decimal point, which can be achieved as follows:\n",
    "print(f'{your_value1:.2f} {your_value2:.2f} {your_value3:.2f} {your_value4:.2f}')\n",
    "\n",
    "Ex: If the input is:\n",
    "5.0\n",
    "1.5\n",
    "3.2\n",
    "Then the output is: \n",
    "172.47 361.66 3.50 13.13"
   ]
  },
  {
   "cell_type": "code",
   "execution_count": null,
   "metadata": {},
   "outputs": [],
   "source": [
    "import math\n",
    "\n",
    "x = float(input())  # 5.0\n",
    "y = float(input())  # 1.5\n",
    "z = float(input())  # 3.2\n",
    "\n",
    "val1 = x**z\n",
    "val2 = x**(y**z)\n",
    "val3 = abs(x - y)\n",
    "val4 = math.sqrt(x**z)\n",
    "\n",
    "print(f'{val1:.2f} {val2:.2f} {val3:.2f} {val4:.2f}')"
   ]
  },
  {
   "cell_type": "markdown",
   "metadata": {},
   "source": [
    "# CS351_HOP 04\n",
    "### Thaddeus Thomas \n",
    "- 01 May 2022\n",
    "### 11.7.1: Output of functions with branches/loops."
   ]
  },
  {
   "cell_type": "code",
   "execution_count": null,
   "metadata": {},
   "outputs": [
    {
     "name": "stdout",
     "output_type": "stream",
     "text": [
      "5\n",
      "19\n"
     ]
    }
   ],
   "source": [
    "\n",
    "def get_numbers():\n",
    "    user_input = input()\n",
    "    values = []\n",
    "    for token in user_input.split():\n",
    "        values.append(int(token))\n",
    "    return values\n",
    "\n",
    "def print_selected_numbers():\n",
    "    numbers = get_numbers()\n",
    "    for number in numbers:\n",
    "        if (number % 2) != 0:\n",
    "            print(number)\n",
    "\n",
    "print_selected_numbers()"
   ]
  },
  {
   "cell_type": "markdown",
   "metadata": {},
   "source": [
    "### 11.7.2: Function with branch: Popcorn\n",
    "\n",
    "1. Define function print_popcorn_time() with parameter bag_ounces.\n",
    "    - If bag_ounces is less than 3, print \"Too small\".\n",
    "    - If greater than 10, print \"Too large\".\n",
    "    - Otherwise, compute and print 6 * bag_ounces followed by \"seconds\".\n",
    "    - End with a newline. \n",
    "    NOTE: Remember that print() automatically adds a newline.\n",
    "\n",
    "Sample output with input: 7"
   ]
  },
  {
   "cell_type": "code",
   "execution_count": null,
   "metadata": {},
   "outputs": [],
   "source": [
    "def print_popcorn_time(bag_ounces):\n",
    "    ''' Your solution goes here '''\n",
    "    if bag_ounces < 3:\n",
    "        print(\"Too small\")\n",
    "    elif bag_ounces > 10:\n",
    "        print(\"Too large\")\n",
    "    else:\n",
    "        bag_ounces = 6 * bag_ounces\n",
    "        print(f\"{bag_ounces} seconds\")\n",
    "\n",
    "user_ounces = int(input())\n",
    "print_popcorn_time(user_ounces)"
   ]
  },
  {
   "cell_type": "markdown",
   "metadata": {},
   "source": [
    "## 11.7.3: Function with loop: Shampoo.\n",
    "\n",
    "1. Write a function print_shampoo_instructions() with parameter num_cycles.\n",
    "    - If num_cycles is less than 1, print \"Too few.\".\n",
    "    - If more than 4, print \"Too many.\".\n",
    "    - Else, print \"N : Lather and rinse.\" num_cycles times, where N is the cycle number, followed by \"Done.\".\n",
    "\n",
    "Sample output with input: 2 </br>\n",
    "1 : Lather and rinse. </br>\n",
    "2 : Lather and rinse. </br>\n",
    "Done.\n",
    " \n",
    "Hint: Define and use a loop variable."
   ]
  },
  {
   "cell_type": "code",
   "execution_count": null,
   "metadata": {},
   "outputs": [
    {
     "name": "stdout",
     "output_type": "stream",
     "text": [
      "Too few.\n",
      "1 : Lather and rinse.\n",
      "Done.\n",
      "1 : Lather and rinse.\n",
      "2 : Lather and rinse.\n",
      "Done.\n"
     ]
    }
   ],
   "source": [
    "def print_shampoo_instructions(num_cycles):\n",
    "    ''' Your solution goes here '''\n",
    "    for num_cycles in range(num_cycles):\n",
    "        if num_cycles <= 1:\n",
    "            print(\"Too few.\")\n",
    "        elif num_cycles > 4:\n",
    "            print(\"Too many.\")\n",
    "        else:\n",
    "            N = 0\n",
    "            while N < num_cycles:\n",
    "                N += 1\n",
    "                print(f\"{N} : Lather and rinse.\")\n",
    "            print(\"Done.\")\n",
    "\n",
    "user_cycles = int(input())\n",
    "print_shampoo_instructions(user_cycles)\n"
   ]
  },
  {
   "cell_type": "markdown",
   "metadata": {},
   "source": [
    "## 11.9.1: Function errors: Copying one function to create another.\n",
    "\n",
    "Using the celsius_to_kelvin function as a guide,\n",
    "- create a new function,\n",
    "- changing the name to kelvin_to_celsius,\n",
    "- and modifying the function accordingly.\n",
    "\n",
    "Sample output with input: 283.15\n",
    "10.0 C is 283.15 K\n",
    "283.15 K is 10.0 C"
   ]
  },
  {
   "cell_type": "code",
   "execution_count": null,
   "metadata": {},
   "outputs": [],
   "source": [
    "def celsius_to_kelvin(value_celsius):\n",
    "    value_kelvin = 0.0\n",
    "\n",
    "    value_kelvin = value_celsius + 273.15\n",
    "    return value_kelvin\n",
    "\n",
    "def kelvin_to_celsius(value_kelvin):\n",
    "    value_celsius = 0.0\n",
    "    value_celsius = value_kelvin -273.15\n",
    "    return value_celsius\n",
    "\n",
    "value_c = 10.0\n",
    "print(value_c, 'C is', celsius_to_kelvin(value_c), 'K')\n",
    "\n",
    "value_k = float(input())\n",
    "print(value_k, 'K is', kelvin_to_celsius(value_k), 'C')"
   ]
  },
  {
   "cell_type": "markdown",
   "metadata": {},
   "source": [
    "# All permutations of names\n",
    "\n",
    "1. Write a program that lists all ways people can line up for a photo (all permutations of a list of strings).\n",
    "2. The program will read a list of one word names,\n",
    "   - then use a recursive method to create and output all possible orderings of those names, one ordering per line.\n",
    "\n",
    "When the input is:\n",
    "\n",
    "```plaintext\n",
    "Julia Lucas Mia\n",
    "```\n",
    "\n",
    "Then the output is (must match the below ordering):\n",
    "\n",
    "```plaintext\n",
    "Julia Lucas Mia\n",
    "Julia Mia Lucas\n",
    "Lucas Julia Mia\n",
    "Lucas Mia Julia\n",
    "Mia Julia Lucas\n",
    "Mia Lucas Julia\n",
    "```\n"
   ]
  },
  {
   "cell_type": "code",
   "execution_count": null,
   "metadata": {},
   "outputs": [
    {
     "name": "stdout",
     "output_type": "stream",
     "text": [
      "Julia Lucas Mia \n",
      "Julia Mia Lucas \n",
      "Lucas Julia Mia \n",
      "Lucas Mia Julia \n",
      "Mia Julia Lucas \n",
      "Mia Lucas Julia \n"
     ]
    }
   ],
   "source": [
    "def all_permutations(name_list):\n",
    "    \"\"\"Program that lists all ways people can line up for a photo\"\"\"\n",
    "    if len(name_list) == 0:\n",
    "        return []\n",
    "    elif len(name_list) == 1:\n",
    "        return[name_list]\n",
    "\n",
    "    perm_list = []\n",
    "    for i in range(len(name_list)):\n",
    "        lst = name_list[:i] + name_list[i + 1:]\n",
    "        for h in all_permutations(lst):\n",
    "            perm_list.append(name_list[i:i + 1] + h)\n",
    "    return perm_list\n",
    "\n",
    "\n",
    "if __name__ == \"__main__\":\n",
    "    name_list = input().split(\" \")\n",
    "    for x in all_permutations(name_list):\n",
    "        x.append('')\n",
    "        print(*x)\n"
   ]
  },
  {
   "cell_type": "markdown",
   "metadata": {},
   "source": [
    "# Number pattern.\n",
    "\n",
    "__NOTE:__ For this lab, do not end output with a newline.\n",
    "\n",
    "## Example\n",
    "\n",
    "If the input is: `12 3`\n",
    "\n",
    "the output is: `12 9 6 3 0 3 6 9 12`\n"
   ]
  },
  {
   "cell_type": "code",
   "execution_count": null,
   "metadata": {},
   "outputs": [
    {
     "name": "stdout",
     "output_type": "stream",
     "text": [
      "12 9 6 3 0 3 6 9 12 "
     ]
    }
   ],
   "source": [
    "def print_num_pattern(my_var1, my_var2):\n",
    "    \"\"\"Print the number pattern. \n",
    "    Type: Integer\n",
    "    First Variable: Whats being iterated\n",
    "    Second Variable: Iterator\"\"\"\n",
    "    if my_var1 > 0:\n",
    "        print(my_var1, end=' ')\n",
    "        print_num_pattern(my_var1 - my_var2, my_var2)\n",
    "        print(my_var1, end=' ')\n",
    "\n",
    "    elif my_var1 <= 0:\n",
    "        print(my_var1, end=' ')\n",
    "        return\n",
    "\n",
    "\n",
    "if __name__ == \"__main__\":\n",
    "    num1 = int(input())\n",
    "    num2 = int(input())\n",
    "    print_num_pattern(num1, num2)\n"
   ]
  },
  {
   "cell_type": "markdown",
   "metadata": {},
   "source": [
    "# 24.7.1: Iterating through a list using range()."
   ]
  },
  {
   "cell_type": "code",
   "execution_count": null,
   "metadata": {},
   "outputs": [
    {
     "name": "stdout",
     "output_type": "stream",
     "text": [
      "1\n",
      "4\n",
      "7\n"
     ]
    }
   ],
   "source": [
    "user_values = [1, 4, 7]\n",
    "\n",
    "for i in range(len(user_values)):\n",
    "   print(user_values[i])"
   ]
  },
  {
   "cell_type": "code",
   "execution_count": null,
   "metadata": {},
   "outputs": [
    {
     "name": "stdout",
     "output_type": "stream",
     "text": [
      "17\n"
     ]
    }
   ],
   "source": [
    "user_values = [2, 6, 9]\n",
    "sum_value = 0\n",
    "\n",
    "for pos in range(len(user_values)):\n",
    "  sum_value += user_values[pos]\n",
    "\n",
    "print(sum_value)"
   ]
  },
  {
   "cell_type": "code",
   "execution_count": null,
   "metadata": {},
   "outputs": [
    {
     "name": "stdout",
     "output_type": "stream",
     "text": [
      "-1\n",
      "-7\n"
     ]
    }
   ],
   "source": [
    "user_values = [-1, 4, 5, -7]\n",
    "\n",
    "for n in range(len(user_values)):\n",
    "  if user_values[n] < 0:\n",
    "    print(user_values[n])"
   ]
  },
  {
   "cell_type": "code",
   "execution_count": null,
   "metadata": {},
   "outputs": [
    {
     "name": "stdout",
     "output_type": "stream",
     "text": [
      "1\n",
      "3\n",
      "5\n",
      "8\n"
     ]
    }
   ],
   "source": [
    "user_values = [-1, 3, -5, 8]\n",
    "\n",
    "for pos in range(len(user_values)):\n",
    "  if user_values[pos] < 0:\n",
    "    user_values[pos] = -1 * user_values[pos]\n",
    "  print(user_values[pos])"
   ]
  },
  {
   "cell_type": "code",
   "execution_count": null,
   "metadata": {},
   "outputs": [
    {
     "name": "stdout",
     "output_type": "stream",
     "text": [
      "1\n",
      "5\n",
      "7\n"
     ]
    }
   ],
   "source": [
    "user_values = [1, 5, 7, 4]\n",
    "\n",
    "max_value = user_values[0];\n",
    "for pos in range(len(user_values)):\n",
    "  if user_values[pos] >= max_value:\n",
    "    max_value = user_values[pos]\n",
    "    print(max_value)"
   ]
  },
  {
   "cell_type": "markdown",
   "metadata": {},
   "source": [
    "\n",
    "zyDE 24.7.1: Modify the above program to work correctly.\n",
    "\n",
    "Modify the program (copied from above) using slice notation to iterate over a copy of the list.\n"
   ]
  },
  {
   "cell_type": "code",
   "execution_count": null,
   "metadata": {},
   "outputs": [
    {
     "name": "stdout",
     "output_type": "stream",
     "text": [
      "0: 1\n",
      "1: 3\n",
      "2: 5\n",
      "3: 4\n",
      "4: 7\n",
      "5: 164\n",
      "\n",
      "0: 6514\n",
      "\n",
      "\n",
      "Numbers only in first set: 1 3 5 4 7 164 "
     ]
    }
   ],
   "source": [
    "\n",
    "nums1 = []\n",
    "nums2 = []\n",
    "\n",
    "user_input = input('Enter first set of numbers: ')\n",
    "tokens = user_input.split()  # Split into separate strings\n",
    "\n",
    "# Convert strings to integers\n",
    "for pos, val in enumerate(tokens):\n",
    "    nums1.append(int(val))\n",
    "    \n",
    "    print(f'{pos}: {val}')\n",
    "\n",
    "user_input = input('Enter second set of numbers:')\n",
    "tokens = user_input.split()\n",
    "\n",
    "# Convert strings to integers\n",
    "print()\n",
    "for pos, val in enumerate(tokens):\n",
    "    nums2.append(int(val))\n",
    "    \n",
    "    print(f'{pos}: {val}')\n",
    "    \n",
    "# Remove elements from nums1 if also in nums2\n",
    "print()\n",
    "for val in nums1:\n",
    "    if val in nums2:\n",
    "        \n",
    "        print(f'Deleting {val}')\n",
    "        nums1.remove(val)\n",
    "\n",
    "# Print new numbers\n",
    "print('\\nNumbers only in first set:', end=' ')\n",
    "for num in nums1:\n",
    "    print(num, end=' ')\n"
   ]
  },
  {
   "cell_type": "markdown",
   "metadata": {},
   "source": [
    "#### Changing list size\n",
    "\n",
    "> A common error is to add or remove a list element while iterating over that list. Such list modification can lead to unexpected behavior if the programmer is not careful. Ex: Consider the following program that reads in two sets of numbers and attempts to find numbers in the first set that are not in the second set.\n"
   ]
  },
  {
   "cell_type": "markdown",
   "metadata": {},
   "source": [
    "## Figure 24.7.3: Modifying lists while iterating: Incorrect program."
   ]
  },
  {
   "cell_type": "code",
   "execution_count": null,
   "metadata": {},
   "outputs": [],
   "source": [
    "nums1 = []\n",
    "nums2 = []\n",
    "\n",
    "user_input = input('Enter first set of numbers: ')\n",
    "tokens = user_input.split()  # Split into separate strings\n",
    "\n",
    "# Convert strings to integers\n",
    "print()\n",
    "for pos, val in enumerate(tokens):\n",
    "    nums1.append(int(val))\n",
    "    \n",
    "    print(f'{pos}: {val}')\n",
    "\n",
    "user_input = input('Enter second set of numbers:')\n",
    "tokens = user_input.split()\n",
    "\n",
    "# Convert strings to integers\n",
    "print()\n",
    "for pos, val in enumerate(tokens):\n",
    "    nums2.append(int(val))\n",
    "    \n",
    "    print(f'{pos}: {val}')\n",
    "    \n",
    "# Remove elements from nums1 if also in nums2\n",
    "print()\n",
    "for val in nums1:\n",
    "    if val in nums2:\n",
    "        \n",
    "        print(f'Deleting {val}')\n",
    "        nums1.remove(val)\n",
    "\n",
    "# Print new numbers\n",
    "print('\\nNumbers only in first set:', end=' ')\n",
    "for num in nums1:\n",
    "    print(num, end=' ')"
   ]
  },
  {
   "cell_type": "markdown",
   "metadata": {},
   "source": [
    "Enter first set of numbers:5 10 15 20\n",
    "0: 5\n",
    "1: 10\n",
    "2: 15\n",
    "3: 20\n",
    "Enter second set of numbers:15 20 25 30\n",
    "0: 15\n",
    "1: 20\n",
    "2: 25\n",
    "3: 30\n",
    "\n",
    "Deleting 15\n",
    "\n",
    "Numbers only in first set: 5 10 20"
   ]
  },
  {
   "cell_type": "markdown",
   "metadata": {},
   "source": [
    "\n",
    "\n",
    "The above example iterates over the list nums1, deleting an element from the list if the element is also found in the list nums2. The programmer expected a certain result, namely that after removing an element from the list, the next iteration of the loop would reference the next element as normal. However, removing the element shifts the position of each following element in the list to the left by one. In the example above, removing 15 from nums1 shifts the value 20 left into position 2. The loop, having just iterated over position 2 and removing 15, moves to the next position and finds the end of the list, thus never evaluating the final value 20.\n",
    "\n",
    "The problem illustrated by the example above has a simple fix: Iterate over a copy of the list instead of the actual list being modified. Copying the list allows a programmer to modify, swap, add, or delete elements without affecting the loop iterations. The easiest way to copy the iterating list is to use slice notation inside of the loop expression, as in:\n"
   ]
  },
  {
   "cell_type": "code",
   "execution_count": null,
   "metadata": {},
   "outputs": [],
   "source": [
    "# Figure 24.7.4: Copy a list using [:].\n",
    "\n",
    "for item in my_list[:]:\n",
    "    # Loop statements.\n",
    "\n"
   ]
  },
  {
   "cell_type": "markdown",
   "metadata": {},
   "source": [
    "- 30.2 LAB: Filter and sort a list\n",
    "- 30.3 LAB: Middle item\n",
    "- 30.5 LAB: Word frequencies\n",
    "- 30.7 LAB: Replacement words\n",
    "- 30.10 LAB: Word frequencies(dictionaries)\n",
    "- 30.12 LAB: Program: Soccer team roster (Dictionaries)"
   ]
  },
  {
   "cell_type": "markdown",
   "metadata": {},
   "source": [
    "\n",
    "# 30.2 LAB: Filter and sort a list\n",
    "\n",
    "Write a program that gets a list of integers from input, and outputs non-negative integers in ascending order (lowest to highest).\n",
    "\n",
    "Ex: If the input is:\n",
    "\n",
    "10 -7 4 39 -6 12 2\n",
    "\n",
    "the output is:\n",
    "\n",
    "2 4 10 12 39\n",
    "\n",
    "For coding simplicity, follow every output value by a space. Do not end with newline.\n"
   ]
  },
  {
   "cell_type": "code",
   "execution_count": null,
   "metadata": {},
   "outputs": [],
   "source": [
    "\"\"\"30.2.1: LAB: Filter and sort a list.\"\"\"\n",
    "\n",
    "''' Type your code here. '''"
   ]
  },
  {
   "cell_type": "markdown",
   "metadata": {},
   "source": [
    "\n",
    "# 30.3 LAB: Middle item\n",
    "\n",
    "Given a sorted list of integers, output the middle integer. Assume the number of integers is always odd.\n",
    "\n",
    "Ex: If the input is:\n",
    "\n",
    "2 3 4 8 11\n",
    "\n",
    "the output is:\n",
    "\n",
    "4\n",
    "\n",
    "The maximum number of inputs for any test case should not exceed 9. If exceeded, output \"Too many inputs\".\n",
    "\n",
    "Hint: First read the data into a list. Then, based on the list's size, find the middle item.\n"
   ]
  },
  {
   "cell_type": "code",
   "execution_count": null,
   "metadata": {},
   "outputs": [],
   "source": [
    "\"\"\"30.3.1: LAB: Middle item.\"\"\"\n",
    "\n",
    "''' Type your code here. '''"
   ]
  },
  {
   "cell_type": "markdown",
   "metadata": {},
   "source": [
    "# 30.5 LAB: Word frequencies\n",
    "Write a program that reads a list of words. Then, the program outputs those words and their frequencies (case insensitive).\n",
    "\n",
    "Ex: If the input is:\n",
    "\n",
    "hey Hi Mark hi mark\n",
    "\n",
    "the output is:\n",
    "\n",
    "hey 1\n",
    "Hi 2\n",
    "Mark 2\n",
    "hi 2\n",
    "mark 2\n",
    "\n",
    "Hint: Use lower() to set each word to lowercase before comparing.\n"
   ]
  },
  {
   "cell_type": "code",
   "execution_count": null,
   "metadata": {},
   "outputs": [],
   "source": [
    "\"\"\"30.5.1: LAB: Word frequencies.\"\"\"\n",
    "\n",
    "''' Type your code here. '''"
   ]
  },
  {
   "cell_type": "markdown",
   "metadata": {},
   "source": [
    "\n",
    "30.7 LAB: Replacement words\n",
    "\n",
    "Write a program that finds word differences between two sentences. The input begins with the first sentence and the following input line is the second sentence. Assume that the two sentences have the same number of words.\n",
    "\n",
    "The program displays word pairs that differ between the two sentences. One pair is displayed per line.\n",
    "\n",
    "Ex: If the input is:\n",
    "\n",
    "Smaller cars get better gas mileage\n",
    "Tiny cars get great fuel economy\n",
    "\n",
    "then the output is:\n",
    "\n",
    "Smaller Tiny\n",
    "better great\n",
    "gas fuel\n",
    "mileage economy\n",
    "\n",
    "Hint: Store each input line into a list of strings.\n"
   ]
  },
  {
   "cell_type": "code",
   "execution_count": null,
   "metadata": {},
   "outputs": [],
   "source": [
    "\"\"\"30.7.1: LAB: Replacement words.\"\"\"\n",
    "\n",
    "''' Type your code here. ''' \n"
   ]
  },
  {
   "cell_type": "markdown",
   "metadata": {},
   "source": [
    "\n",
    "30.10 LAB: Word frequencies (dictionaries)\n",
    "\n",
    "Implement the build_dictionary() function to build a word frequency dictionary from a list of words.\n",
    "\n",
    "Ex: If the words list is:\n",
    "\n",
    "[\"hey\", \"hi\", \"Mark\", \"hi\", \"mark\"]\n",
    "\n",
    "the dictionary returned from calling build_dictionary(words) is:\n",
    "\n",
    "{'hey': 1, 'hi': 2, 'Mark': 1, 'mark': 1}\n",
    "\n",
    "Ex: If the words list is:\n",
    "\n",
    "[\"zyBooks\", \"now\", \"zyBooks\", \"later\", \"zyBooks\", \"forever\"]\n",
    "\n",
    "the dictionary returned from calling build_dictionary(words) is:\n",
    "\n",
    "{'zyBooks': 3, 'now': 1, 'later': 1, 'forever': 1}\n",
    "\n",
    "The main code builds the word list from an input string, calls build_dictionary() to build the dictionary, and displays the dictionary sorted by key value.\n",
    "\n",
    "Ex: If the input is:\n",
    "\n",
    "hey hi Mark hi mark\n",
    "\n",
    "the output is:\n",
    "\n",
    "Mark: 1\n",
    "hey: 1\n",
    "hi: 2\n",
    "mark: 1\n",
    "\n"
   ]
  },
  {
   "cell_type": "code",
   "execution_count": null,
   "metadata": {},
   "outputs": [],
   "source": [
    "\"\"\"30.10.1: LAB: Word frequencies (dictionaries).\"\"\"\n",
    "\n",
    "# The words parameter is a list of strings.\n",
    "def build_dictionary(words):\n",
    "    # The frequencies dictionary will be built with your code below.\n",
    "    # Each key is a word string and the corresponding value is an integer \n",
    "    # indicating that word's frequency.\n",
    "    \n",
    "    ''' Type your code here (remove the \"pass\" statement below) '''\n",
    "    pass\n",
    "\n",
    "# The following code asks for input, splits the input into a word list, \n",
    "# calls build_dictionary(), and displays the contents sorted by key.\n",
    "if __name__ == '__main__':\n",
    "    words = input().split()\n",
    "    your_dictionary = build_dictionary(words)\n",
    "    sorted_keys = sorted(your_dictionary.keys())\n",
    "    for key in sorted_keys:\n",
    "        print(key + ': ' + str(your_dictionary[key]))\n"
   ]
  },
  {
   "cell_type": "markdown",
   "metadata": {},
   "source": [
    "\n",
    "30.12 LAB*: Program: Soccer team roster (Dictionaries)\n",
    "\n",
    "This program will store roster and rating information for a soccer team. Coaches rate players during tryouts to ensure a balanced team.\n",
    "\n",
    "(1) Prompt the user to input five pairs of numbers: A player's jersey number (0 - 99) and the player's rating (1 - 9). Store the jersey numbers and the ratings in a dictionary. Output the dictionary's elements with the jersey numbers in ascending order (i.e., output the roster from smallest to largest jersey number). Hint: Dictionary keys can be stored in a sorted list. (3 pts)\n",
    "\n",
    "Ex:\n",
    "\n",
    "Enter player 1's jersey number:\n",
    "84\n",
    "Enter player 1's rating:\n",
    "7\n",
    "\n",
    "Enter player 2's jersey number:\n",
    "23\n",
    "Enter player 2's rating:\n",
    "4\n",
    "\n",
    "Enter player 3's jersey number:\n",
    "4\n",
    "Enter player 3's rating:\n",
    "5\n",
    "\n",
    "Enter player 4's jersey number:\n",
    "30\n",
    "Enter player 4's rating:\n",
    "2\n",
    "\n",
    "Enter player 5's jersey number:\n",
    "66\n",
    "Enter player 5's rating:\n",
    "9\n",
    "\n",
    "ROSTER\n",
    "Jersey number: 4, Rating: 5\n",
    "Jersey number: 23, Rating: 4\n",
    "Jersey number 30, Rating: 2\n",
    "...\n",
    "\n",
    "(2) Implement a menu of options for a user to modify the roster. Each option is represented by a single character. The program initially outputs the menu, and outputs the menu after a user chooses an option. The program ends when the user chooses the option to Quit. For this step, the other options do nothing. (2 pts)\n",
    "\n",
    "Ex:\n",
    "\n",
    "MENU\n",
    "a - Add player\n",
    "d - Remove player\n",
    "u - Update player rating\n",
    "r - Output players above a rating\n",
    "o - Output roster\n",
    "q - Quit\n",
    "\n",
    "Choose an option:\n",
    "\n",
    "(3) Implement the \"Output roster\" menu option. (1 pt)\n",
    "\n",
    "Ex:\n",
    "\n",
    "ROSTER\n",
    "Jersey number: 4, Rating: 5\n",
    "Jersey number: 23, Rating: 4\n",
    "Jersey number 30, Rating: 2\n",
    "...\n",
    "\n",
    "(4) Implement the \"Add player\" menu option. Prompt the user for a new player's jersey number and rating. Append the values to the two vectors. (1 pt)\n",
    "\n",
    "Ex:\n",
    "\n",
    "Enter a new player's jersey number:\n",
    "49\n",
    "Enter the player's rating:\n",
    "8\n",
    "\n",
    "(5) Implement the \"Delete player\" menu option. Prompt the user for a player's jersey number. Remove the player from the roster (delete the jersey number and rating). (1 pt)\n",
    "\n",
    "Ex:\n",
    "\n",
    "Enter a jersey number:\n",
    "4\n",
    "\n",
    "(6) Implement the \"Update player rating\" menu option. Prompt the user for a player's jersey number. Prompt again for a new rating for the player, and then change that player's rating. (1 pt)\n",
    "\n",
    "Ex:\n",
    "\n",
    "Enter a jersey number:\n",
    "23\n",
    "Enter a new rating for player:\n",
    "6\n",
    "\n",
    "(7) Implement the \"Output players above a rating\" menu option. Prompt the user for a rating. Print the jersey number and rating for all players with ratings above the entered value. (2 pts)\n",
    "\n",
    "Ex:\n",
    "\n",
    "Enter a rating:\n",
    "5\n",
    "\n",
    "ABOVE 5\n",
    "Jersey number: 66, Rating: 9\n",
    "Jersey number: 84, Rating: 7\n",
    "...\n",
    "\n"
   ]
  },
  {
   "cell_type": "code",
   "execution_count": null,
   "metadata": {},
   "outputs": [],
   "source": [
    "\"\"\"30.12.1: LAB*: Program: Soccer team roster (Dictionaries)\"\"\"\n",
    "\n",
    "# Type you code here."
   ]
  },
  {
   "cell_type": "code",
   "execution_count": null,
   "metadata": {},
   "outputs": [],
   "source": [
    "Python code\n",
    "\n",
    "# define a dictionary to store players jersey number as keys and rating as values\n",
    "players = {}\n",
    "\n",
    "# iterate for loop 5 times\n",
    "for i in range(5):\n",
    "   # ask user to enter player (i+1)'s jersey number and read\n",
    "   jno = int(input(\"Enter player %d's jersey number: \\n\" %(i+1)))\n",
    "  \n",
    "   # ask user to enter player (i+1)'s rating and read\n",
    "   players[jno] = int(input(\"Enter player %d's rating: \\n\" %(i+1)))\n",
    "  \n",
    "   # print new line\n",
    "   print(\"\")\n",
    "  \n",
    "# get all players jersey numbers\n",
    "keys = list(players.keys())\n",
    "\n",
    "# sort jersey numbers in ascending order\n",
    "keys.sort()\n",
    "\n",
    "# print roster\n",
    "print(\"ROSTER\")\n",
    "for key in keys:\n",
    "   print(\"Jersey number: %d, Rating: %d\" %(key,players[key]))"
   ]
  },
  {
   "cell_type": "code",
   "execution_count": null,
   "metadata": {},
   "outputs": [],
   "source": [
    "Question 2)\n",
    "\n",
    "After adding code for displaying the menu options and implementation of the 'Quit' option\n",
    "\n",
    "Python code\n",
    "\n",
    "# define a dictionary to store players jersey number as keys and rating as values\n",
    "players = {}\n",
    "\n",
    "# iterate for loop 5 times\n",
    "for i in range(5):\n",
    "   # ask user to enter player (i+1)'s jersey number and read\n",
    "   jno = int(input(\"Enter player %d's jersey number: \\n\" %(i+1)))\n",
    "  \n",
    "   # ask user to enter player (i+1)'s rating and read\n",
    "   players[jno] = int(input(\"Enter player %d's rating: \\n\" %(i+1)))\n",
    "  \n",
    "   # print new line\n",
    "   print(\"\")\n",
    "  \n",
    "# get all players jersey numbers\n",
    "keys = list(players.keys())\n",
    "\n",
    "# sort jersey numbers in ascending order\n",
    "keys.sort()\n",
    "\n",
    "# print roster\n",
    "print(\"ROSTER\")\n",
    "for key in keys:\n",
    "   print(\"Jersey number: %d, Rating: %d\" %(key,players[key]))\n",
    "\n",
    "# iterate while loop\n",
    "while True:\n",
    "\n",
    "   # print menu\n",
    "   print(\"\\nMENU\\na - Add player\\nd - Remove player\\nu - Update player rating\\nr - Output players above a rating\\no - Output roster\\nq - Quit\\n\")\n",
    "  \n",
    "   # read user option\n",
    "   option = input(\"Choose an option: \")\n",
    "  \n",
    "   # if user option is q then stop the program\n",
    "   if option == \"q\":\n",
    "       break"
   ]
  },
  {
   "cell_type": "code",
   "execution_count": null,
   "metadata": {},
   "outputs": [],
   "source": [
    "Question 3)\n",
    "\n",
    "After adding code for 'output roster' option\n",
    "\n",
    "Python code\n",
    "\n",
    "def printRoster():\n",
    "   # get all players jersey numbers\n",
    "   keys = list(players.keys())\n",
    "\n",
    "   # sort jersey numbers in ascending order\n",
    "   keys.sort()\n",
    "\n",
    "   # print roster\n",
    "   print(\"ROSTER\")\n",
    "   for key in keys:\n",
    "       print(\"Jersey number: %d, Rating: %d\" %(key,players[key]))\n",
    "\n",
    "\n",
    "# define a dictionary to store players jersey number as keys and rating as values\n",
    "players = {}\n",
    "\n",
    "# iterate for loop 5 times\n",
    "for i in range(5):\n",
    "   # ask user to enter player (i+1)'s jersey number and read\n",
    "   jno = int(input(\"Enter player %d's jersey number: \\n\" %(i+1)))\n",
    "  \n",
    "   # ask user to enter player (i+1)'s rating and read\n",
    "   players[jno] = int(input(\"Enter player %d's rating: \\n\" %(i+1)))\n",
    "  \n",
    "   # print new line\n",
    "   print(\"\")\n",
    "\n",
    "printRoster()\n",
    "\n",
    "# iterate while loop\n",
    "while True:\n",
    "\n",
    "   # print menu\n",
    "   print(\"\\nMENU\\na - Add player\\nd - Remove player\\nu - Update player rating\\nr - Output players above a rating\\no - Output roster\\nq - Quit\\n\")\n",
    "  \n",
    "   # read user option\n",
    "   option = input(\"Choose an option: \")\n",
    "  \n",
    "   # if user option is o call printRoster() function to print roster\n",
    "   if option == 'o':\n",
    "       printRoster()\n",
    "      \n",
    "   # if user option is q then stop the program\n",
    "   if option == \"q\":\n",
    "       break"
   ]
  },
  {
   "cell_type": "code",
   "execution_count": null,
   "metadata": {},
   "outputs": [],
   "source": [
    "Question 4)\n",
    "\n",
    "After adding the code for 'add player' option\n",
    "\n",
    "Python code\n",
    "\n",
    "def printRoster():\n",
    "   # get all players jersey numbers\n",
    "   keys = list(players.keys())\n",
    "\n",
    "   # sort jersey numbers in ascending order\n",
    "   keys.sort()\n",
    "\n",
    "   # print roster\n",
    "   print(\"ROSTER\")\n",
    "   for key in keys:\n",
    "       print(\"Jersey number: %d, Rating: %d\" %(key,players[key]))\n",
    "\n",
    "# define a dictionary to store players jersey number as keys and rating as values\n",
    "players = {}\n",
    "\n",
    "# iterate for loop 5 times\n",
    "for i in range(5):\n",
    "   # ask user to enter player (i+1)'s jersey number and read\n",
    "   jno = int(input(\"Enter player %d's jersey number: \\n\" %(i+1)))\n",
    "  \n",
    "   # ask user to enter player (i+1)'s rating and read\n",
    "   players[jno] = int(input(\"Enter player %d's rating: \\n\" %(i+1)))\n",
    "  \n",
    "   # print new line\n",
    "   print(\"\")\n",
    "  \n",
    "\n",
    "\n",
    "printRoster()\n",
    "\n",
    "# iterate while loop\n",
    "while True:\n",
    "\n",
    "   # print menu\n",
    "   print(\"\\nMENU\\na - Add player\\nd - Remove player\\nu - Update player rating\\nr - Output players above a rating\\no - Output roster\\nq - Quit\\n\")\n",
    "  \n",
    "   # read user option\n",
    "   option = input(\"Choose an option: \")\n",
    "  \n",
    "  \n",
    "   # if user option is o call printRoster() function to print roster\n",
    "   if option == 'o':\n",
    "       printRoster()\n",
    "      \n",
    "   # if user option is 'a'\n",
    "   elif option == 'a':\n",
    "       # read new player's jersey number\n",
    "       jno = int(input(\"Enter a new player's jersey number: \\n\"))\n",
    "      \n",
    "       # read new player's rating\n",
    "       rating = int(input(\"Enter the player's rating:\\n\"))\n",
    "      \n",
    "       # add player details into players dictionary\n",
    "       players[jno] = rating\n",
    "  \n",
    "   # if user option is q then stop the program\n",
    "   if option == \"q\":\n",
    "       break"
   ]
  },
  {
   "cell_type": "code",
   "execution_count": null,
   "metadata": {},
   "outputs": [],
   "source": [
    "Question 5)\n",
    "\n",
    "After adding the code for 'delete player' option\n",
    "\n",
    "Python code\n",
    "\n",
    "def printRoster():\n",
    "   # get all players jersey numbers\n",
    "   keys = list(players.keys())\n",
    "\n",
    "   # sort jersey numbers in ascending order\n",
    "   keys.sort()\n",
    "\n",
    "   # print roster\n",
    "   print(\"ROSTER\")\n",
    "   for key in keys:\n",
    "       print(\"Jersey number: %d, Rating: %d\" %(key,players[key]))\n",
    "\n",
    "# define a dictionary to store players jersey number as keys and rating as values\n",
    "players = {}\n",
    "\n",
    "# iterate for loop 5 times\n",
    "for i in range(5):\n",
    "   # ask user to enter player (i+1)'s jersey number and read\n",
    "   jno = int(input(\"Enter player %d's jersey number: \\n\" %(i+1)))\n",
    "  \n",
    "   # ask user to enter player (i+1)'s rating and read\n",
    "   players[jno] = int(input(\"Enter player %d's rating: \\n\" %(i+1)))\n",
    "  \n",
    "   # print new line\n",
    "   print(\"\")\n",
    "  \n",
    "\n",
    "\n",
    "printRoster()\n",
    "\n",
    "# iterate while loop\n",
    "while True:\n",
    "\n",
    "   # print menu\n",
    "   print(\"\\nMENU\\na - Add player\\nd - Remove player\\nu - Update player rating\\nr - Output players above a rating\\no - Output roster\\nq - Quit\\n\")\n",
    "  \n",
    "   # read user option\n",
    "   option = input(\"Choose an option: \")\n",
    "  \n",
    "  \n",
    "   # if user option is o call printRoster() function to print roster\n",
    "   if option == 'o':\n",
    "       printRoster()\n",
    "      \n",
    "   # if user option is 'a'\n",
    "   elif option == 'a':\n",
    "       # read new player's jersey number\n",
    "       jno = int(input(\"Enter a new player's jersey number: \\n\"))\n",
    "      \n",
    "       # read new player's rating\n",
    "       rating = int(input(\"Enter the player's rating:\\n\"))\n",
    "      \n",
    "       # add player details into players dictionary\n",
    "       players[jno] = rating\n",
    "  \n",
    "   # if user option is 'd'\n",
    "   elif option == 'd':\n",
    "       # read a player's jersey number\n",
    "       jno = int(input(\"Enter a player's jersey number: \\n\"))\n",
    "      \n",
    "       # check a player with the given jersey number is present in the dictionary\n",
    "       if jno in list(players.keys()):\n",
    "           # delete player\n",
    "           del players[jno]\n",
    "  \n",
    "   # if user option is q then stop the program\n",
    "   if option == \"q\":\n",
    "       break"
   ]
  },
  {
   "cell_type": "code",
   "execution_count": null,
   "metadata": {},
   "outputs": [],
   "source": [
    "Question 6)\n",
    "\n",
    "After adding code for 'update player rating' option\n",
    "\n",
    "Python code\n",
    "\n",
    "def printRoster():\n",
    "   # get all players jersey numbers\n",
    "   keys = list(players.keys())\n",
    "\n",
    "   # sort jersey numbers in ascending order\n",
    "   keys.sort()\n",
    "\n",
    "   # print roster\n",
    "   print(\"ROSTER\")\n",
    "   for key in keys:\n",
    "       print(\"Jersey number: %d, Rating: %d\" %(key,players[key]))\n",
    "\n",
    "# define a dictionary to store players jersey number as keys and rating as values\n",
    "players = {}\n",
    "\n",
    "# iterate for loop 5 times\n",
    "for i in range(5):\n",
    "   # ask user to enter player (i+1)'s jersey number and read\n",
    "   jno = int(input(\"Enter player %d's jersey number: \\n\" %(i+1)))\n",
    "  \n",
    "   # ask user to enter player (i+1)'s rating and read\n",
    "   players[jno] = int(input(\"Enter player %d's rating: \\n\" %(i+1)))\n",
    "  \n",
    "   # print new line\n",
    "   print(\"\")\n",
    "  \n",
    "\n",
    "\n",
    "printRoster()\n",
    "\n",
    "# iterate while loop\n",
    "while True:\n",
    "\n",
    "   # print menu\n",
    "   print(\"\\nMENU\\na - Add player\\nd - Remove player\\nu - Update player rating\\nr - Output players above a rating\\no - Output roster\\nq - Quit\\n\")\n",
    "  \n",
    "   # read user option\n",
    "   option = input(\"Choose an option: \")\n",
    "  \n",
    "  \n",
    "   # if user option is o call printRoster() function to print roster\n",
    "   if option == 'o':\n",
    "       printRoster()\n",
    "      \n",
    "   # if user option is 'a'\n",
    "   elif option == 'a':\n",
    "       # read new player's jersey number\n",
    "       jno = int(input(\"Enter a new player's jersey number: \\n\"))\n",
    "      \n",
    "       # read new player's rating\n",
    "       rating = int(input(\"Enter the player's rating:\\n\"))\n",
    "      \n",
    "       # add player details into players dictionary\n",
    "       players[jno] = rating\n",
    "  \n",
    "   # if user option is 'd'\n",
    "   elif option == 'd':\n",
    "       # read a player's jersey number\n",
    "       jno = int(input(\"Enter a player's jersey number: \\n\"))\n",
    "      \n",
    "       # check a player with the given jersey number is present in the dictionary\n",
    "       if jno in list(players.keys()):\n",
    "           # delete player\n",
    "           del players[jno]\n",
    "  \n",
    "   # if user option is 'u'\n",
    "   elif option == 'u':\n",
    "       # read a player's jersey number\n",
    "       jno = int(input(\"Enter a player's jersey number: \\n\"))\n",
    "      \n",
    "       # read new player's rating\n",
    "       rating = int(input(\"Enter a new rating for player:\\n\"))\n",
    "      \n",
    "       # update player details into players dictionary\n",
    "       players[jno] = rating\n",
    "  \n",
    "   # if user option is q then stop the program\n",
    "   if option == \"q\":\n",
    "       break"
   ]
  },
  {
   "cell_type": "code",
   "execution_count": null,
   "metadata": {},
   "outputs": [],
   "source": [
    "Question 7)\n",
    "\n",
    "After adding code for 'output players above a rating' option\n",
    "\n",
    "Python code\n",
    "\n",
    "def printRoster():\n",
    "   # get all players jersey numbers\n",
    "   keys = list(players.keys())\n",
    "\n",
    "   # sort jersey numbers in ascending order\n",
    "   keys.sort()\n",
    "\n",
    "   # print roster\n",
    "   print(\"ROSTER\")\n",
    "   for key in keys:\n",
    "       print(\"Jersey number: %d, Rating: %d\" %(key,players[key]))\n",
    "\n",
    "# define a dictionary to store players jersey number as keys and rating as values\n",
    "players = {}\n",
    "\n",
    "# iterate for loop 5 times\n",
    "for i in range(5):\n",
    "   # ask user to enter player (i+1)'s jersey number and read\n",
    "   jno = int(input(\"Enter player %d's jersey number: \\n\" %(i+1)))\n",
    "  \n",
    "   # ask user to enter player (i+1)'s rating and read\n",
    "   players[jno] = int(input(\"Enter player %d's rating: \\n\" %(i+1)))\n",
    "  \n",
    "   # print new line\n",
    "   print(\"\")\n",
    "  \n",
    "\n",
    "\n",
    "printRoster()\n",
    "\n",
    "# iterate while loop\n",
    "while True:\n",
    "\n",
    "   # print menu\n",
    "   print(\"\\nMENU\\na - Add player\\nd - Remove player\\nu - Update player rating\\nr - Output players above a rating\\no - Output roster\\nq - Quit\\n\")\n",
    "  \n",
    "   # read user option\n",
    "   option = input(\"Choose an option: \")\n",
    "  \n",
    "  \n",
    "   # if user option is o call printRoster() function to print roster\n",
    "   if option == 'o':\n",
    "       printRoster()\n",
    "      \n",
    "   # if user option is 'a'\n",
    "   elif option == 'a':\n",
    "       # read new player's jersey number\n",
    "       jno = int(input(\"Enter a new player's jersey number: \\n\"))\n",
    "      \n",
    "       # read new player's rating\n",
    "       rating = int(input(\"Enter the player's rating:\\n\"))\n",
    "      \n",
    "       # add player details into players dictionary\n",
    "       players[jno] = rating\n",
    "  \n",
    "   # if user option is 'd'\n",
    "   elif option == 'd':\n",
    "       # read a player's jersey number\n",
    "       jno = int(input(\"Enter a player's jersey number: \\n\"))\n",
    "      \n",
    "       # check a player with the given jersey number is present in the dictionary\n",
    "       if jno in list(players.keys()):\n",
    "           # delete player\n",
    "           del players[jno]\n",
    "  \n",
    "   # if user option is 'u'\n",
    "   elif option == 'u':\n",
    "       # read a player's jersey number\n",
    "       jno = int(input(\"Enter a player's jersey number: \\n\"))\n",
    "      \n",
    "       # read new player's rating\n",
    "       rating = int(input(\"Enter a new rating for player:\\n\"))\n",
    "      \n",
    "       # update player details into players dictionary\n",
    "       players[jno] = rating\n",
    "      \n",
    "   elif option == 'r':\n",
    "       # read a rating\n",
    "       rating = int(input(\"Enter a rating:\\n\"))\n",
    "      \n",
    "       # get all players jersey numbers\n",
    "       keys = list(players.keys())\n",
    "\n",
    "       # sort jersey numbers in ascending order\n",
    "       keys.sort()\n",
    "\n",
    "       # print players above given rating\n",
    "       print(\"\\nABOVE %d\" %(rating))\n",
    "      \n",
    "       count = 0\n",
    "       for key in keys:\n",
    "           # print player's jersey number, and rating\n",
    "           if(players[key]>rating):\n",
    "               print(\"Jersey number: %d, Rating: %d\" %(key,players[key]))\n",
    "              \n",
    "               # increment count by 1\n",
    "               count +=1\n",
    "      \n",
    "       # if no players have above given rating, print error message\n",
    "       if(count == 0):\n",
    "           print(\"No players found above %d rating\" %(rating))\n",
    "      \n",
    "  \n",
    "   # if user option is q then stop the program\n",
    "   if option == \"q\":\n",
    "       break"
   ]
  }
 ],
 "metadata": {
  "kernelspec": {
   "display_name": "Python 3",
   "language": "python",
   "name": "python3"
  },
  "language_info": {
   "codemirror_mode": {
    "name": "ipython",
    "version": 3
   },
   "file_extension": ".py",
   "mimetype": "text/x-python",
   "name": "python",
   "nbconvert_exporter": "python",
   "pygments_lexer": "ipython3",
   "version": "3.11.4"
  },
  "orig_nbformat": 4
 },
 "nbformat": 4,
 "nbformat_minor": 2
}
