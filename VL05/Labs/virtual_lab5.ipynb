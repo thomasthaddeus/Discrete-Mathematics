{
 "cells": [
  {
   "cell_type": "markdown",
   "metadata": {},
   "source": [
    "![alt text for screen readers](/D:/Repositories/CS351/VL05/vl05.jpg \"18.3 LAB: Count Characters\").\n"
   ]
  },
  {
   "cell_type": "code",
   "execution_count": null,
   "metadata": {},
   "outputs": [],
   "source": [
    "\"\"\"18.3 LAB: Count characters\"\"\""
   ]
  },
  {
   "cell_type": "markdown",
   "metadata": {},
   "source": [
    "![alt text for screen readers](/D:/Repositories/CS351/VL05/vl05_2.jpg \"18.3 LAB: Count Characters\").\n"
   ]
  },
  {
   "cell_type": "code",
   "execution_count": null,
   "metadata": {},
   "outputs": [],
   "source": [
    "\"\"\"18.5 LAB: Palindrome\"\"\""
   ]
  },
  {
   "cell_type": "markdown",
   "metadata": {},
   "source": [
    "![alt text for screen readers](/D:/Repositories/CS351/VL05/vl05_3.jpg \"18.3 LAB: Count Characters\").\n"
   ]
  },
  {
   "cell_type": "code",
   "execution_count": null,
   "metadata": {},
   "outputs": [],
   "source": []
  },
  {
   "cell_type": "markdown",
   "metadata": {},
   "source": [
    "![alt text for screen readers](/D:/Repositories/CS351/VL05/vl05_4_1.jpg \"18.3 LAB: Count Characters\").\n",
    "![alt text for screen readers](/D:/Repositories/CS351/VL05/vl05_4_2.jpg \"18.3 LAB: Count Characters\").\n",
    "![alt text for screen readers](/D:/Repositories/CS351/VL05/vl05_4_3.jpg \"18.3 LAB: Count Characters\").\n"
   ]
  },
  {
   "cell_type": "code",
   "execution_count": null,
   "metadata": {},
   "outputs": [],
   "source": []
  }
 ],
 "metadata": {
  "language_info": {
   "name": "python"
  },
  "orig_nbformat": 4
 },
 "nbformat": 4,
 "nbformat_minor": 2
}
