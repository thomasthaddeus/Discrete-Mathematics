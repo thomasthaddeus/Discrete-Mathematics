{
 "cells": [
  {
   "cell_type": "markdown",
   "metadata": {},
   "source": [
    "\n",
    "16.6 LAB: Leap year\n",
    "\n",
    "A year in the modern Gregorian Calendar consists of 365 days. In reality, the earth takes longer to rotate around the sun. To account for the difference in time, every 4 years, a leap year takes place. A leap year is when a year has 366 days: An extra day, February 29th. The requirements for a given year to be a leap year are:\n",
    "\n",
    "1) The year must be divisible by 4\n",
    "\n",
    "2) If the year is a century year (1700, 1800, etc.), the year must be evenly divisible by 400\n",
    "\n",
    "Some example leap years are 1600, 1712, and 2016.\n",
    "\n",
    "Write a program that takes in a year and determines whether that year is a leap year.\n",
    "\n",
    "Ex: If the input is:\n",
    "\n",
    "1712\n",
    "\n",
    "the output is:\n",
    "\n",
    "1712 - leap year\n",
    "\n",
    "Ex: If the input is:\n",
    "\n",
    "1913\n",
    "\n",
    "the output is:\n",
    "\n",
    "1913 - not a leap year\n",
    "\n"
   ]
  },
  {
   "cell_type": "code",
   "execution_count": null,
   "metadata": {},
   "outputs": [],
   "source": [
    "\"\"\"16.6.1: LAB: Leap year\"\"\"\n",
    "\n",
    "is_leap_year = False\n",
    "   \n",
    "input_year = int(input())\n",
    "\n",
    "''' Type your code here. '''"
   ]
  }
 ],
 "metadata": {
  "language_info": {
   "name": "python"
  },
  "orig_nbformat": 4
 },
 "nbformat": 4,
 "nbformat_minor": 2
}
