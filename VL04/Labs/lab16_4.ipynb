{
 "cells": [
  {
   "cell_type": "markdown",
   "metadata": {},
   "source": [
    "\n",
    "16.4 LAB: Seasons\n",
    "\n",
    "Write a program that takes a date as input and outputs the date's season in the northern hemisphere. The input is a string to represent the month and an int to represent the day.\n",
    "\n",
    "Ex: If the input is:\n",
    "\n",
    "April\n",
    "11\n",
    "\n",
    "the output is:\n",
    "\n",
    "Spring\n",
    "\n",
    "In addition, check if the string and int are valid (an actual month and day).\n",
    "\n",
    "Ex: If the input is:\n",
    "\n",
    "Blue\n",
    "65\n",
    "\n",
    "the output is:\n",
    "\n",
    "Invalid \n",
    "\n",
    "The dates for each season in the northern hemisphere are:\n",
    "Spring: March 20 - June 20\n",
    "Summer: June 21 - September 21\n",
    "Autumn: September 22 - December 20\n",
    "Winter: December 21 - March 19\n"
   ]
  },
  {
   "cell_type": "code",
   "execution_count": null,
   "metadata": {},
   "outputs": [],
   "source": [
    "\n",
    "16.4.1: LAB: Seasons \n",
    "input_month = input()\n",
    "input_day = int(input())\n",
    "\n",
    "''' Type your code here. '''\n"
   ]
  }
 ],
 "metadata": {
  "language_info": {
   "name": "python"
  },
  "orig_nbformat": 4
 },
 "nbformat": 4,
 "nbformat_minor": 2
}
