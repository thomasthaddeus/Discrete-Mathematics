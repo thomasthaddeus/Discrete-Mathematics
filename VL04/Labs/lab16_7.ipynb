{
 "cells": [
  {
   "cell_type": "markdown",
   "metadata": {},
   "source": [
    "\n",
    "16.7 LAB: Warm up: Automobile service cost\n",
    "\n",
    "(1) Prompt the user for an automobile service. Output the user's input. (1 pt)\n",
    "\n",
    "Ex:\n",
    "\n",
    "Enter desired auto service:\n",
    "Oil change\n",
    "You entered: Oil change\n",
    "\n",
    "\n",
    "(2) Output the price of the requested service. (4 pts)\n",
    "\n",
    "Ex:\n",
    "\n",
    "Enter desired auto service:\n",
    "> Oil change\n",
    "\n",
    "You entered: Oil change\n",
    "Cost of oil change: $35\n",
    "\n",
    "\n",
    "The program should support the following services (all integers):\n",
    "\n",
    "    Oil change -- $35\n",
    "    Tire rotation -- $19\n",
    "    Car wash -- $7\n",
    "\n",
    "If the user enters a service that is not listed above, then output the following error message:\n",
    "\n",
    "Error: Requested service is not recognized\n",
    "\n"
   ]
  },
  {
   "cell_type": "code",
   "execution_count": null,
   "metadata": {},
   "outputs": [],
   "source": [
    "\"\"\"16.7.1: LAB: Warm up: Automobile service cost\"\"\"\n",
    "\n",
    "oil_cost = int(35)\n",
    "tire_cost = int(19)\n",
    "car_wash_cost = int(7)\n",
    "\n",
    "print(\"Enter desired auto service:\")\n",
    "car_service = input()\n",
    "print(f\"You entered: {car_service}\")\n",
    "\n",
    "if car_service == 'Oil change':\n",
    "    print(f'Cost of {car_service.lower()}: ${oil_cost}')\n",
    "elif car_service == 'Tire rotation':\n",
    "    print(f'Cost of {car_service.lower()}: ${tire_cost}')\n",
    "elif car_service == 'Car wash':\n",
    "    print(f'Cost of {car_service.lower()}: ${car_wash_cost}')\n",
    "else:\n",
    "    print('Error: Requested service is not recognized')\n",
    "\n",
    "# You entered: Oil change\n",
    "# Cost of oil change: $35\n"
   ]
  }
 ],
 "metadata": {
  "language_info": {
   "name": "python"
  },
  "orig_nbformat": 4
 },
 "nbformat": 4,
 "nbformat_minor": 2
}
