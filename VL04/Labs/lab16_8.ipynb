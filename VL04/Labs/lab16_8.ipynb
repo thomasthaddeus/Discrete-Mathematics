{
 "cells": [
  {
   "cell_type": "markdown",
   "metadata": {},
   "source": [
    "16.8 LAB*: Program: Automobile service invoice\n",
    "\n",
    "(1) Output a menu of automotive services and the corresponding cost of each service. (2 pts)\n",
    "\n",
    "Ex:\n",
    "\n",
    "Davy's auto shop services\n",
    "Oil change -- $35\n",
    "Tire rotation -- $19\n",
    "Car wash -- $7\n",
    "Car wax -- $12\n",
    "\n",
    "\n",
    "\n",
    "(2) Prompt the user for two services from the menu. (2 pts)\n",
    "\n",
    "Ex:\n",
    "\n",
    "Select first service:\n",
    "Oil change\n",
    "Select second service:\n",
    "Car wax\n",
    "\n",
    "\n",
    "\n",
    "(3) Output an invoice for the services selected. Output the cost for each service and the total cost. (3 pts)\n",
    "\n",
    "Davy's auto shop invoice\n",
    "\n",
    "Service 1: Oil change, $35\n",
    "Service 2: Car wax, $12\n",
    "\n",
    "Total: $47\n",
    "\n",
    "\n",
    "\n",
    "(4) Extend the program to allow the user to enter a dash (-), which indicates no service. (3 pts)\n",
    "\n",
    "Ex:\n",
    "\n",
    "Davy's auto shop services\n",
    "Oil change -- $35\n",
    "Tire rotation -- $19\n",
    "Car wash -- $7\n",
    "Car wax -- $12\n",
    "\n",
    "Select first service:\n",
    "Tire rotation\n",
    "Select second service:\n",
    "-\n",
    "\n",
    "Davy's auto shop invoice\n",
    "\n",
    "Service 1: Tire rotation, $19\n",
    "Service 2: No service\n",
    "\n",
    "Total: $19\n"
   ]
  },
  {
   "cell_type": "code",
   "execution_count": null,
   "metadata": {},
   "outputs": [],
   "source": [
    "\"\"\"16.8.1: LAB*: Program: Automobile service invoice\"\"\""
   ]
  }
 ],
 "metadata": {
  "language_info": {
   "name": "python"
  },
  "orig_nbformat": 4
 },
 "nbformat": 4,
 "nbformat_minor": 2
}
