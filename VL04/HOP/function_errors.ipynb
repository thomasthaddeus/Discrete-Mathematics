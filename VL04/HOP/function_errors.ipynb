{
 "cells": [
  {
   "cell_type": "markdown",
   "metadata": {},
   "source": [
    "## 11.9.1: Function errors: Copying one function to create another.\n",
    "\n",
    "Using the celsius_to_kelvin function as a guide,\n",
    "- create a new function,\n",
    "- changing the name to kelvin_to_celsius,\n",
    "- and modifying the function accordingly.\n",
    "\n",
    "Sample output with input: 283.15\n",
    "10.0 C is 283.15 K\n",
    "283.15 K is 10.0 C"
   ]
  },
  {
   "cell_type": "code",
   "execution_count": null,
   "metadata": {},
   "outputs": [],
   "source": [
    "def celsius_to_kelvin(value_celsius):\n",
    "    value_kelvin = 0.0\n",
    "\n",
    "    value_kelvin = value_celsius + 273.15\n",
    "    return value_kelvin\n",
    "\n",
    "def kelvin_to_celsius(value_kelvin):\n",
    "    value_celsius = 0.0\n",
    "    value_celsius = value_kelvin -273.15\n",
    "    return value_celsius\n",
    "\n",
    "value_c = 10.0\n",
    "print(value_c, 'C is', celsius_to_kelvin(value_c), 'K')\n",
    "\n",
    "value_k = float(input())\n",
    "print(value_k, 'K is', kelvin_to_celsius(value_k), 'C')"
   ]
  }
 ],
 "metadata": {
  "language_info": {
   "name": "python"
  },
  "orig_nbformat": 4
 },
 "nbformat": 4,
 "nbformat_minor": 2
}
