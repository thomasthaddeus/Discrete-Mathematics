{
 "cells": [
  {
   "cell_type": "markdown",
   "metadata": {},
   "source": [
    "\n",
    "22.11 LAB: Warm up: Drawing a right triangle\n",
    "\n",
    "This program will output a right triangle based on user specified height triangle_height and symbol triangle_char.\n",
    "\n",
    "(1) The given program outputs a fixed-height triangle using a * character. Modify the given program to output a right triangle that instead uses the user-specified triangle_char character. (1 pt)\n",
    "\n",
    "\n",
    "(2) Modify the program to use a loop to output a right triangle of height triangle_height. The first line will have one user-specified character, such as % or *. Each subsequent line will have one additional user-specified character until the number in the triangle's base reaches triangle_height. Output a space after each user-specified character, including a line's last user-specified character. (2 pts)\n",
    "\n",
    "\n",
    "Example output for triangle_char = % and triangle_height = 5:\n",
    "\n",
    "Enter a character:\n",
    "%\n",
    "Enter triangle height:\n",
    "5\n",
    "\n",
    "% \n",
    "% % \n",
    "% % % \n",
    "% % % % \n",
    "% % % % % \n",
    "\n"
   ]
  },
  {
   "cell_type": "code",
   "execution_count": null,
   "metadata": {},
   "outputs": [],
   "source": [
    "\"\"\"22.11.1: LAB: Warm up: Drawing a right triangle.\"\"\"\n",
    "\n",
    "triangle_char = input('Enter a character:\\n')\n",
    "triangle_height = int(input('Enter triangle height:\\n'))\n",
    "print('')\n",
    "\n",
    "print ('* ')\n",
    "print ('* * ')\n",
    "print ('* * * ')\n"
   ]
  }
 ],
 "metadata": {
  "language_info": {
   "name": "python"
  },
  "orig_nbformat": 4
 },
 "nbformat": 4,
 "nbformat_minor": 2
}
