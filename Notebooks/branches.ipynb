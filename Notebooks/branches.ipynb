{
 "cells": [
  {
   "cell_type": "markdown",
   "metadata": {},
   "source": [
    "# CS351_HOP 04\n",
    "### Thaddeus Thomas \n",
    "- 01 May 2022\n",
    "### 11.7.1: Output of functions with branches/loops."
   ]
  },
  {
   "cell_type": "code",
   "execution_count": 4,
   "metadata": {},
   "outputs": [
    {
     "name": "stdout",
     "output_type": "stream",
     "text": [
      "5\n",
      "19\n"
     ]
    }
   ],
   "source": [
    "\n",
    "def get_numbers():\n",
    "    user_input = input()\n",
    "    values = []\n",
    "    for token in user_input.split():\n",
    "        values.append(int(token))\n",
    "    return values\n",
    "\n",
    "def print_selected_numbers():\n",
    "    numbers = get_numbers()\n",
    "    for number in numbers:\n",
    "        if (number % 2) != 0:\n",
    "            print(number)\n",
    "\n",
    "print_selected_numbers()"
   ]
  },
  {
   "cell_type": "markdown",
   "metadata": {},
   "source": [
    "### 11.7.2: Function with branch: Popcorn\n",
    "\n",
    "1. Define function print_popcorn_time() with parameter bag_ounces.\n",
    "    - If bag_ounces is less than 3, print \"Too small\".\n",
    "    - If greater than 10, print \"Too large\".\n",
    "    - Otherwise, compute and print 6 * bag_ounces followed by \"seconds\".\n",
    "    - End with a newline. \n",
    "    NOTE: Remember that print() automatically adds a newline.\n",
    "\n",
    "Sample output with input: 7"
   ]
  },
  {
   "cell_type": "code",
   "execution_count": null,
   "metadata": {},
   "outputs": [],
   "source": [
    "def print_popcorn_time(bag_ounces):\n",
    "    ''' Your solution goes here '''\n",
    "    if bag_ounces < 3:\n",
    "        print(\"Too small\")\n",
    "    elif bag_ounces > 10:\n",
    "        print(\"Too large\")\n",
    "    else:\n",
    "        bag_ounces = 6 * bag_ounces\n",
    "        print(f\"{bag_ounces} seconds\")\n",
    "\n",
    "user_ounces = int(input())\n",
    "print_popcorn_time(user_ounces)"
   ]
  },
  {
   "cell_type": "markdown",
   "metadata": {},
   "source": [
    "## 11.7.3: Function with loop: Shampoo.\n",
    "\n",
    "1. Write a function print_shampoo_instructions() with parameter num_cycles.\n",
    "    - If num_cycles is less than 1, print \"Too few.\".\n",
    "    - If more than 4, print \"Too many.\".\n",
    "    - Else, print \"N : Lather and rinse.\" num_cycles times, where N is the cycle number, followed by \"Done.\".\n",
    "\n",
    "Sample output with input: 2 </br>\n",
    "1 : Lather and rinse. </br>\n",
    "2 : Lather and rinse. </br>\n",
    "Done.\n",
    " \n",
    "Hint: Define and use a loop variable."
   ]
  },
  {
   "cell_type": "code",
   "execution_count": 3,
   "metadata": {},
   "outputs": [
    {
     "name": "stdout",
     "output_type": "stream",
     "text": [
      "Too few.\n",
      "1 : Lather and rinse.\n",
      "Done.\n",
      "1 : Lather and rinse.\n",
      "2 : Lather and rinse.\n",
      "Done.\n"
     ]
    }
   ],
   "source": [
    "def print_shampoo_instructions(num_cycles):\n",
    "    ''' Your solution goes here '''\n",
    "    for num_cycles in range(num_cycles):\n",
    "        if num_cycles <= 1:\n",
    "            print(\"Too few.\")\n",
    "        elif num_cycles > 4:\n",
    "            print(\"Too many.\")\n",
    "        else:\n",
    "            N = 0\n",
    "            while N < num_cycles:\n",
    "                N += 1\n",
    "                print(f\"{N} : Lather and rinse.\")\n",
    "            print(\"Done.\")\n",
    "\n",
    "user_cycles = int(input())\n",
    "print_shampoo_instructions(user_cycles)\n"
   ]
  }
 ],
 "metadata": {
  "interpreter": {
   "hash": "b89b5cfaba6639976dc87ff2fec6d58faec662063367e2c229c520fe71072417"
  },
  "kernelspec": {
   "display_name": "Python 3.10.4 64-bit",
   "language": "python",
   "name": "python3"
  },
  "language_info": {
   "codemirror_mode": {
    "name": "ipython",
    "version": 3
   },
   "file_extension": ".py",
   "mimetype": "text/x-python",
   "name": "python",
   "nbconvert_exporter": "python",
   "pygments_lexer": "ipython3",
   "version": "3.10.4"
  },
  "orig_nbformat": 4
 },
 "nbformat": 4,
 "nbformat_minor": 2
}
