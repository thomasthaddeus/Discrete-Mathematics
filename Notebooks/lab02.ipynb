{
 "cells": [
  {
   "cell_type": "markdown",
   "metadata": {},
   "source": [
    "\n",
    "7.4 LAB: Using math functions\n",
    "\n",
    "Given three floating-point numbers x, y, and z, output x to the power of z, x to the power of (y to the power of z), the absolute value of (x minus y), and the square root of (x to the power of z).\n",
    "\n",
    "Output each floating-point value with two digits after the decimal point, which can be achieved as follows:\n",
    "print(f'{your_value1:.2f} {your_value2:.2f} {your_value3:.2f} {your_value4:.2f}')\n",
    "\n",
    "Ex: If the input is:"
   ]
  },
  {
   "cell_type": "markdown",
   "metadata": {},
   "source": [
    "5.0\n",
    "1.5\n",
    "3.2"
   ]
  },
  {
   "cell_type": "markdown",
   "metadata": {},
   "source": [
    "Then the output is: "
   ]
  },
  {
   "cell_type": "markdown",
   "metadata": {},
   "source": [
    "172.47 361.66 3.50 13.13"
   ]
  },
  {
   "cell_type": "code",
   "execution_count": 3,
   "metadata": {},
   "outputs": [
    {
     "name": "stdout",
     "output_type": "stream",
     "text": [
      "172.47 361.66 3.50 13.13\n"
     ]
    }
   ],
   "source": [
    "import math\n",
    "''' Type your code here. '''\n",
    "x = float(input())  # 5.0\n",
    "y = float(input())  # 1.5\n",
    "z = float(input())  # 3.2\n",
    "\n",
    "your_value1 = x**z\n",
    "your_value2 = x**(y**z)\n",
    "your_value3 = abs(x - y)\n",
    "your_value4 = math.sqrt(x**z)\n",
    "\n",
    "print(f'{your_value1:.2f} {your_value2:.2f} {your_value3:.2f} {your_value4:.2f}')"
   ]
  }
 ],
 "metadata": {
  "interpreter": {
   "hash": "b89b5cfaba6639976dc87ff2fec6d58faec662063367e2c229c520fe71072417"
  },
  "kernelspec": {
   "display_name": "Python 3.10.4 64-bit",
   "language": "python",
   "name": "python3"
  },
  "language_info": {
   "codemirror_mode": {
    "name": "ipython",
    "version": 3
   },
   "file_extension": ".py",
   "mimetype": "text/x-python",
   "name": "python",
   "nbconvert_exporter": "python",
   "pygments_lexer": "ipython3",
   "version": "3.10.4"
  },
  "orig_nbformat": 4
 },
 "nbformat": 4,
 "nbformat_minor": 2
}
