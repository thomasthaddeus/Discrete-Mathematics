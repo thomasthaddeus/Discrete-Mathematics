{
 "cells": [
  {
   "cell_type": "markdown",
   "metadata": {},
   "source": [
    "# 22.9 LAB: Output values in a list below a user defined amount\n",
    "\n",
    "1. Write a program that first gets a list of integers from input.\n",
    " - The input begins with an integer indicating the number of integers that follow.\n",
    " - Then, get the last value from the input, which indicates a threshold.\n",
    " - Output all integers less than or equal to that last threshold value.\n",
    "\n",
    "Ex: If the input is:\n",
    "<pre>\n",
    "5\n",
    "50\n",
    "60\n",
    "140\n",
    "200\n",
    "75\n",
    "100\n",
    "</pre>\n",
    "the output is:\n",
    "\n",
    "__50,60,75,__\n",
    "\n",
    "2. The *5* indicates that there are five integers in the list,\n",
    "    - namely __50, 60, 140, 200, and 75.__\n",
    "3. The 100 indicates that the program should output\n",
    "    - all integers less than or equal to 100,\n",
    "    - so the program outputs 50, 60, and 75.\n",
    "\n",
    "+ For coding simplicity,\n",
    "  + follow every output value by a comma,\n",
    "  + __including the last one.__\n",
    "\n",
    "Such functionality is common on sites like Amazon, where a user can filter results.\n"
   ]
  },
  {
   "cell_type": "code",
   "execution_count": null,
   "metadata": {},
   "outputs": [],
   "source": [
    "\"\"\"22.9.1: LAB: Output values in a list below a user defined amount.\"\"\"\n",
    "\n",
    "length = int(input())\n",
    "print_list = []\n",
    "\n",
    "for i in range(length)):\n",
    "    print_list.append()\n",
    "\n",
    "for i in print_list:\n",
    "    else:"
   ]
  }
 ],
 "metadata": {
  "language_info": {
   "name": "python"
  },
  "orig_nbformat": 4
 },
 "nbformat": 4,
 "nbformat_minor": 2
}
