{
 "cells": [
  {
   "cell_type": "markdown",
   "metadata": {},
   "source": [
    "\n",
    "# 3.1 zyLab training: Basics\n",
    "\n",
    "1. While the zyLab platform can be used without training, a bit of training may help some students avoid common issues.\n",
    "\n",
    "The assignment is to get an integer from *input*, and output that __integer squared__, ending with newline.\n",
    "    (Note: This assignment is configured to have students programming directly in the zyBook. Instructors may instead require students to upload a file). Below is a program that's been nearly completed for you.\n",
    "\n",
    "    Click \"Run program\". The output is wrong. Sometimes a program lacking input will produce wrong output (as in this case), or no output. Remember to always pre-enter needed input.\n",
    "    Type 2 in the input box, then click \"Run program\", and note the output is 4.\n",
    "    Type 3 in the input box instead, run, and note the output is 6.\n",
    "\n",
    "When students are done developing their program, they can submit the program for automated grading.\n",
    "\n",
    "    Click the \"Submit mode\" tab\n",
    "    Click \"Submit for grading\".\n",
    "    The first test case failed (as did all test cases, but focus on the first test case first). The highlighted arrow symbol means an ending newline was expected but is missing from your program's output.\n",
    "\n",
    "Matching output exactly, even whitespace, is often required. Change the program to output an ending newline.\n",
    "\n",
    "    Click on \"Develop mode\", and change the output statement to output a newline: print(userNumSquared). Type 2 in the input box and run.\n",
    "    Click on \"Submit mode\", click \"Submit for grading\", and observe that now the first test case passes and 1 point was earned.\n",
    "\n",
    "The last two test cases failed, due to a bug, yielding only 1 of 3 possible points. Fix that bug.\n",
    "\n",
    "    Click on \"Develop mode\", change the program to use * rather than +, and try running with input 2 (output is 4) and 3 (output is now 9, not 6 as before).\n",
    "    Click on \"Submit mode\" again, and click \"Submit for grading\". Observe that all test cases are passed, and you've earned 3 of 3 points.\n",
    "\n"
   ]
  },
  {
   "cell_type": "code",
   "execution_count": null,
   "metadata": {},
   "outputs": [],
   "source": [
    "userNum = int(input(2))\n",
    "userNumSquared = userNum**2  # Bug here; fix it when instructed\n",
    "\n",
    "print(userNumSquared, end=' ')       # Output formatting issue here; fix it when instructed\n"
   ]
  },
  {
   "cell_type": "markdown",
   "metadata": {},
   "source": [
    "\n",
    "3.2 zyLab training: Interleaved input / output\n",
    "\n",
    "Auto-graded programming assignments have numerous advantages, but have some challenges too. Students commonly struggle with realizing that example input / output provided in an assignment's specification interleaves input and output, but the program should only output the output parts. If a program should double its input, an instructor might provide this example:\n",
    "\n",
    "Enter x: \n",
    "5\n",
    "x doubled is: 10\n",
    "\n",
    "Students often incorrectly create a program that outputs the 5. Instead, the program should only output the output parts:\n",
    "\n",
    "Enter x: \n",
    "x doubled is: 10\n",
    "\n",
    "The instructor's example is showing both the output of the program, AND the user's input to that program, assuming the program is developed in an environment where a user is interacting with a program. But the program itself doesn't output the 5 (or the newline following the 5, which occurs when the user types 5 and presses enter).\n",
    "\n",
    "Also, if the instructor configured the test cases to observe whitespace, then according to the above example, the program should output a newline after Enter x: (and possibly after the 10, if the instructor's test case expects that).\n",
    "\n",
    "The program below incorrectly echoes the user's input to the output.\n",
    "\n",
    "    Try submitting it for grading (click \"Submit mode\", then \"Submit for grading\"). Notice that the test cases fail. The first test case's highlighting indicates that output 3 and newline were not expected. In the second test case, the -5 and newline were not expected.\n",
    "    Remove the code that echoes the user's input back to the output, and submit again. Now the test cases should all pass.\n",
    "\n"
   ]
  },
  {
   "cell_type": "code",
   "execution_count": null,
   "metadata": {},
   "outputs": [],
   "source": [
    "print('Enter x: ')\n",
    "x = int(input())\n",
    "\n",
    "print(x) # Student mistakenly is echoing the input to output to match example\n",
    "print('x doubled is:', (2 * x))"
   ]
  }
 ],
 "metadata": {
  "language_info": {
   "name": "python"
  },
  "orig_nbformat": 4
 },
 "nbformat": 4,
 "nbformat_minor": 2
}
