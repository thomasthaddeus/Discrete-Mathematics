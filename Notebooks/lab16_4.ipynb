{
 "cells": [
  {
   "cell_type": "markdown",
   "metadata": {},
   "source": [
    "16.4 LAB: Seasons\n",
    "\n",
    "1. Write a program that takes a date as input and outputs the date's season in the northern hemisphere.\n",
    "The input is a string to represent the month and an int to represent the day.\n",
    "\n",
    "Ex: If the input is:\n",
    "\n",
    "> April\n",
    "> 11\n",
    "\n",
    "the output is:\n",
    "\n",
    "> Spring\n",
    "\n",
    "NOTE: In addition, check if the string and int are valid (an actual month and day).\n",
    "\n",
    "Ex: If the input is:\n",
    "\n",
    "> Blue\n",
    "> 65\n",
    "\n",
    "the output is:\n",
    "\n",
    "> Invalid \n",
    "\n",
    "The dates for each season in the northern hemisphere are: </br>\n",
    "- Spring: March 20 - June 20\n",
    "- Summer: June 21 - September 21\n",
    "- Autumn: September 22 - December 20\n",
    "- Winter: December 21 - March 19\n"
   ]
  },
  {
   "cell_type": "code",
   "execution_count": null,
   "metadata": {},
   "outputs": [],
   "source": [
    "\"\"\"16.4.1: LAB: Seasons.\"\"\"\n",
    "\n",
    "winter = ([\"December\", \"January\", \"February\", \"March\"]).lower()\n",
    "spring = ([\"March\", \"April\", \"May\", \"June\"]).lower()\n",
    "summer = ([\"June\", \"July\", \"August\", \"September\"]).lower()\n",
    "fall = ([\"September\", \"October\", \"November\", \"December\"]).lower()\n",
    "month_days = {'january': 31, 'february': 29, 'march': 31, 'april': 30, 'may': 31, 'june': 30, 'july': 31, 'august': 31, 'september': 30, 'october': 31, 'november': 30, 'december':31}\n",
    "\n",
    "\n",
    "input_month = input()\n",
    "input_day = int(input())\n",
    "\n",
    "def season(input_month, input_day):\n",
    "    \"\"\"Returns the season based on a month and a day.\n",
    "\n",
    "    Args:\n",
    "        input_month (_type_): _description_\n",
    "        input_day (_type_): _description_\n",
    "    \"\"\"\n",
    "    for month in list(month_days.keys()):\n",
    "        if \n",
    "\n"
   ]
  }
 ],
 "metadata": {
  "language_info": {
   "name": "python"
  },
  "orig_nbformat": 4
 },
 "nbformat": 4,
 "nbformat_minor": 2
}
