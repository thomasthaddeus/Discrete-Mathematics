{
 "cells": [
  {
   "cell_type": "markdown",
   "metadata": {},
   "source": [
    "## 13.1 Lab training: Unit tests to evaluate your program.\n",
    "\n",
    "Auto-graded programming assignments may use a Unit test to test small parts of a program.\n",
    "Unlike a Compare output test, which evaluates your program's output for specific input values, a Unit test evaluates individual functions to determines if each function:\n",
    "\n",
    "1. is named correctly\n",
    "2. and has the correct parameters and return type\n",
    "3. calculates and returns the correct value\n",
    "4. (or prints the correct output)\n",
    "\n",
    "---\n"
   ]
  },
  {
   "cell_type": "markdown",
   "metadata": {},
   "source": [
    "\n",
    "In Python labs, the line if __name__ == '__main__': is used to separate\n",
    "    the main code from the functions' code so that each function can be unit tested.\n",
    "> This example lab uses multiple unit tests to test the kilo_to_pounds() function.\n",
    "> Complete a program that takes a weight in kilograms as input,\n",
    "> converts the weight to pounds,\n",
    "> and then outputs the weight in pounds.\n",
    "- 1 kilogram = 2.204 pounds (lbs)\n",
    "\n",
    "Ex: If the input is:\n",
    "> 10\n",
    "\n",
    "the output is:\n",
    "> 22.040000000000003 lbs\n"
   ]
  },
  {
   "cell_type": "markdown",
   "metadata": {},
   "source": [
    "\n",
    "### NOTE: Your program must define the function\n",
    "+   +   + def kilo_to_pounds(kilos)\n",
    "\n",
    "1. The program below has an error in the __kilo_to_pounds() function.__\n",
    "    1. Try submitting the program for grading (click \"Submit mode\", then \"Submit for grading\").\n",
    "    1. Notice that the first two test cases fail, but the third test case passes.\n",
    "    1. The first test case fails because the program outputs the result from the kilo_to_pounds() function, which has an error.\n",
    "    1. The second test case uses a Unit test to test the kilo_to_pounds() function, which fails.\n",
    "    1. Change the kilo_to_pounds() function to multiply the variable kilos by 2.204, instead of dividing.\n",
    "    1. The return statement should be: return (kilos * 2.204); \n",
    "        + Submit again.\n",
    "        + __Now the test cases should all pass.__\n",
    "\n",
    "__NOTE:__ A common error is to mistype a function name with the incorrect capitalization.\n",
    "Function names are case sensitive,\n",
    "so if a lab program asks for a *kilo_to_pounds() function,*\n",
    "a kilo_To_Pounds() function that works for you in develop mode\n",
    "     will result in a failed unit test\n",
    "(the unit test will not be able to find kilo_to_pounds()).\n",
    "\n",
    "###################################################################################\n"
   ]
  },
  {
   "cell_type": "code",
   "execution_count": null,
   "metadata": {},
   "outputs": [],
   "source": []
  }
 ],
 "metadata": {
  "language_info": {
   "name": "python"
  },
  "orig_nbformat": 4
 },
 "nbformat": 4,
 "nbformat_minor": 2
}
