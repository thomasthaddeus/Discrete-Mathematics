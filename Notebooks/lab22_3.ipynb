{
 "cells": [
  {
   "cell_type": "markdown",
   "metadata": {},
   "source": [
    "## 22.3 LAB: Password modifier\n",
    "\n",
    "Many user-created passwords are simple and easy to guess. <br>\n",
    "Write a program that takes a simple password and makes it stronger<br>\n",
    "    by replacing characters using the key below,<br>\n",
    "    and by appending \"!\" to the end of the input string.\n",
    "\n",
    "<pre>\n",
    "1. i   becomes  1\n",
    "2. a   becomes  @\n",
    "3. m   becomes  M\n",
    "4. B   becomes  8\n",
    "5. s   becomes  $\n",
    "</pre>\n",
    "\n",
    "Ex: If the input is:\n",
    "__mypassword__\n",
    "\n",
    "the output is:\n",
    "__Myp@$$word!__\n",
    "\n",
    "__Hint:__ Python strings are immutable, but support string concatenation.<br>\n",
    "          Store and build the stronger password in the given password variable.\n"
   ]
  },
  {
   "cell_type": "code",
   "execution_count": null,
   "metadata": {},
   "outputs": [],
   "source": [
    "\"\"\"22.3.1: LAB: Password modifier.\"\"\"\n",
    "\n",
    "word = input()\n",
    "password = ''\n",
    "for i in word:\n",
    "    if i == 'i':\n",
    "        password += '1'\n",
    "    elif i == 'a':\n",
    "        password += '@'\n",
    "    elif i == 'm':\n",
    "        password += 'M'\n",
    "    elif i == 'B':\n",
    "        password += '8'\n",
    "    elif i == 's':\n",
    "        password += '$'\n",
    "    else:\n",
    "        password += i\n",
    "\n",
    "password = password + '!'\n",
    "print(password)\n"
   ]
  }
 ],
 "metadata": {
  "language_info": {
   "name": "python"
  },
  "orig_nbformat": 4
 },
 "nbformat": 4,
 "nbformat_minor": 2
}
